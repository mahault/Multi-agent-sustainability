{
  "cells": [
    {
      "cell_type": "markdown",
      "metadata": {
        "id": "view-in-github",
        "colab_type": "text"
      },
      "source": [
        "<a href=\"https://colab.research.google.com/github/mahault/Multi-agent-sustainability/blob/main/Sust_AIF.ipynb\" target=\"_parent\"><img src=\"https://colab.research.google.com/assets/colab-badge.svg\" alt=\"Open In Colab\"/></a>"
      ]
    },
    {
      "cell_type": "markdown",
      "metadata": {
        "id": "e_cfTEygJXa1"
      },
      "source": [
        "# **Sustainability under AIF - simulation**\n",
        "\n",
        "*Mahault Albarracin, Maria Raffa*\n",
        "\n",
        "-----\n",
        "*Based on Sussex University ICAM Lab's hints*"
      ]
    },
    {
      "cell_type": "markdown",
      "source": [
        "In order to deal with sustainability in a very straightforward way, i.e. an agent is able to sustain itself by learning how to use the resources at its disposal wisely, we could think of a simple model: an agent that is in a certain place and has to decide whether or not to eat food that is in the same place at different time steps.\n",
        "\n",
        "In this sense, the agent acts in a sustainable way because it learns that it does not have to satisfy its greed immediately, even if it is very hungry, because the aim is to maintain a balance between itself and the environment (i.e. a room with food) as long as possible over time. In this case, it learns to align available resources with its needs.\n",
        "\n",
        "The following code in progress (**Case 1**) is just for an agent deciding whether to eat food or not. It should result in an agent that keeps eating, in an environment where food is always present. We assume the agent is aware of its own location and knows that food is in the same location as it is as well, so it has perfect knowledge of the environment.\n",
        "\n",
        "In a second phase, the agent should learn how to not be greedy over time, in an environment that has changed, i.e. food that has been eaten then appears again after x time steps (this might be done by adding dimensions to the hidden state and observation food_left - **Case 2**)."
      ],
      "metadata": {
        "id": "P9ehIxuGyFpe"
      }
    },
    {
      "cell_type": "code",
      "execution_count": null,
      "metadata": {
        "colab": {
          "base_uri": "https://localhost:8080/"
        },
        "id": "660fvZcW64CJ",
        "outputId": "c96e66d0-3d2f-4e02-d1cc-6f0bf08b223e"
      },
      "outputs": [
        {
          "output_type": "stream",
          "name": "stdout",
          "text": [
            "Collecting inferactively-pymdp\n",
            "  Downloading inferactively_pymdp-0.0.7.1-py3-none-any.whl (58 kB)\n",
            "\u001b[2K     \u001b[90m━━━━━━━━━━━━━━━━━━━━━━━━━━━━━━━━━━━━━━━━\u001b[0m \u001b[32m58.9/58.9 kB\u001b[0m \u001b[31m1.3 MB/s\u001b[0m eta \u001b[36m0:00:00\u001b[0m\n",
            "\u001b[?25hRequirement already satisfied: attrs>=20.3.0 in /usr/local/lib/python3.10/dist-packages (from inferactively-pymdp) (23.2.0)\n",
            "Requirement already satisfied: cycler>=0.10.0 in /usr/local/lib/python3.10/dist-packages (from inferactively-pymdp) (0.12.1)\n",
            "Requirement already satisfied: iniconfig>=1.1.1 in /usr/local/lib/python3.10/dist-packages (from inferactively-pymdp) (2.0.0)\n",
            "Requirement already satisfied: kiwisolver>=1.3.1 in /usr/local/lib/python3.10/dist-packages (from inferactively-pymdp) (1.4.5)\n",
            "Requirement already satisfied: matplotlib>=3.1.3 in /usr/local/lib/python3.10/dist-packages (from inferactively-pymdp) (3.7.1)\n",
            "Collecting nose>=1.3.7 (from inferactively-pymdp)\n",
            "  Downloading nose-1.3.7-py3-none-any.whl (154 kB)\n",
            "\u001b[2K     \u001b[90m━━━━━━━━━━━━━━━━━━━━━━━━━━━━━━━━━━━━━━━━\u001b[0m \u001b[32m154.7/154.7 kB\u001b[0m \u001b[31m5.3 MB/s\u001b[0m eta \u001b[36m0:00:00\u001b[0m\n",
            "\u001b[?25hRequirement already satisfied: numpy>=1.19.5 in /usr/local/lib/python3.10/dist-packages (from inferactively-pymdp) (1.25.2)\n",
            "Requirement already satisfied: openpyxl>=3.0.7 in /usr/local/lib/python3.10/dist-packages (from inferactively-pymdp) (3.1.2)\n",
            "Requirement already satisfied: packaging>=20.8 in /usr/local/lib/python3.10/dist-packages (from inferactively-pymdp) (24.0)\n",
            "Requirement already satisfied: pandas>=1.2.4 in /usr/local/lib/python3.10/dist-packages (from inferactively-pymdp) (2.0.3)\n",
            "Requirement already satisfied: Pillow>=8.2.0 in /usr/local/lib/python3.10/dist-packages (from inferactively-pymdp) (9.4.0)\n",
            "Requirement already satisfied: pluggy>=0.13.1 in /usr/local/lib/python3.10/dist-packages (from inferactively-pymdp) (1.5.0)\n",
            "Collecting py>=1.10.0 (from inferactively-pymdp)\n",
            "  Downloading py-1.11.0-py2.py3-none-any.whl (98 kB)\n",
            "\u001b[2K     \u001b[90m━━━━━━━━━━━━━━━━━━━━━━━━━━━━━━━━━━━━━━━━\u001b[0m \u001b[32m98.7/98.7 kB\u001b[0m \u001b[31m8.4 MB/s\u001b[0m eta \u001b[36m0:00:00\u001b[0m\n",
            "\u001b[?25hRequirement already satisfied: pyparsing>=2.4.7 in /usr/local/lib/python3.10/dist-packages (from inferactively-pymdp) (3.1.2)\n",
            "Requirement already satisfied: pytest>=6.2.1 in /usr/local/lib/python3.10/dist-packages (from inferactively-pymdp) (7.4.4)\n",
            "Requirement already satisfied: python-dateutil>=2.8.1 in /usr/local/lib/python3.10/dist-packages (from inferactively-pymdp) (2.8.2)\n",
            "Requirement already satisfied: pytz>=2020.5 in /usr/local/lib/python3.10/dist-packages (from inferactively-pymdp) (2023.4)\n",
            "Requirement already satisfied: scipy>=1.6.0 in /usr/local/lib/python3.10/dist-packages (from inferactively-pymdp) (1.11.4)\n",
            "Requirement already satisfied: seaborn>=0.11.1 in /usr/local/lib/python3.10/dist-packages (from inferactively-pymdp) (0.13.1)\n",
            "Requirement already satisfied: six>=1.15.0 in /usr/local/lib/python3.10/dist-packages (from inferactively-pymdp) (1.16.0)\n",
            "Requirement already satisfied: toml>=0.10.2 in /usr/local/lib/python3.10/dist-packages (from inferactively-pymdp) (0.10.2)\n",
            "Requirement already satisfied: typing-extensions>=3.7.4.3 in /usr/local/lib/python3.10/dist-packages (from inferactively-pymdp) (4.11.0)\n",
            "Collecting xlsxwriter>=1.4.3 (from inferactively-pymdp)\n",
            "  Downloading XlsxWriter-3.2.0-py3-none-any.whl (159 kB)\n",
            "\u001b[2K     \u001b[90m━━━━━━━━━━━━━━━━━━━━━━━━━━━━━━━━━━━━━━━━\u001b[0m \u001b[32m159.9/159.9 kB\u001b[0m \u001b[31m6.7 MB/s\u001b[0m eta \u001b[36m0:00:00\u001b[0m\n",
            "\u001b[?25hCollecting sphinx-rtd-theme>=0.4 (from inferactively-pymdp)\n",
            "  Downloading sphinx_rtd_theme-2.0.0-py2.py3-none-any.whl (2.8 MB)\n",
            "\u001b[2K     \u001b[90m━━━━━━━━━━━━━━━━━━━━━━━━━━━━━━━━━━━━━━━━\u001b[0m \u001b[32m2.8/2.8 MB\u001b[0m \u001b[31m15.8 MB/s\u001b[0m eta \u001b[36m0:00:00\u001b[0m\n",
            "\u001b[?25hCollecting myst-nb>=0.13.1 (from inferactively-pymdp)\n",
            "  Downloading myst_nb-1.1.0-py3-none-any.whl (80 kB)\n",
            "\u001b[2K     \u001b[90m━━━━━━━━━━━━━━━━━━━━━━━━━━━━━━━━━━━━━━━━\u001b[0m \u001b[32m80.3/80.3 kB\u001b[0m \u001b[31m4.8 MB/s\u001b[0m eta \u001b[36m0:00:00\u001b[0m\n",
            "\u001b[?25hRequirement already satisfied: autograd>=1.3 in /usr/local/lib/python3.10/dist-packages (from inferactively-pymdp) (1.6.2)\n",
            "Requirement already satisfied: future>=0.15.2 in /usr/local/lib/python3.10/dist-packages (from autograd>=1.3->inferactively-pymdp) (0.18.3)\n",
            "Requirement already satisfied: contourpy>=1.0.1 in /usr/local/lib/python3.10/dist-packages (from matplotlib>=3.1.3->inferactively-pymdp) (1.2.1)\n",
            "Requirement already satisfied: fonttools>=4.22.0 in /usr/local/lib/python3.10/dist-packages (from matplotlib>=3.1.3->inferactively-pymdp) (4.51.0)\n",
            "Requirement already satisfied: importlib_metadata in /usr/local/lib/python3.10/dist-packages (from myst-nb>=0.13.1->inferactively-pymdp) (7.1.0)\n",
            "Requirement already satisfied: ipython in /usr/local/lib/python3.10/dist-packages (from myst-nb>=0.13.1->inferactively-pymdp) (7.34.0)\n",
            "Collecting jupyter-cache>=0.5 (from myst-nb>=0.13.1->inferactively-pymdp)\n",
            "  Downloading jupyter_cache-1.0.0-py3-none-any.whl (33 kB)\n",
            "Requirement already satisfied: nbclient in /usr/local/lib/python3.10/dist-packages (from myst-nb>=0.13.1->inferactively-pymdp) (0.10.0)\n",
            "Collecting myst-parser>=1.0.0 (from myst-nb>=0.13.1->inferactively-pymdp)\n",
            "  Downloading myst_parser-3.0.1-py3-none-any.whl (83 kB)\n",
            "\u001b[2K     \u001b[90m━━━━━━━━━━━━━━━━━━━━━━━━━━━━━━━━━━━━━━━━\u001b[0m \u001b[32m83.2/83.2 kB\u001b[0m \u001b[31m5.3 MB/s\u001b[0m eta \u001b[36m0:00:00\u001b[0m\n",
            "\u001b[?25hRequirement already satisfied: nbformat>=5.0 in /usr/local/lib/python3.10/dist-packages (from myst-nb>=0.13.1->inferactively-pymdp) (5.10.4)\n",
            "Requirement already satisfied: pyyaml in /usr/local/lib/python3.10/dist-packages (from myst-nb>=0.13.1->inferactively-pymdp) (6.0.1)\n",
            "Requirement already satisfied: sphinx>=5 in /usr/local/lib/python3.10/dist-packages (from myst-nb>=0.13.1->inferactively-pymdp) (5.0.2)\n",
            "Requirement already satisfied: ipykernel in /usr/local/lib/python3.10/dist-packages (from myst-nb>=0.13.1->inferactively-pymdp) (5.5.6)\n",
            "Requirement already satisfied: et-xmlfile in /usr/local/lib/python3.10/dist-packages (from openpyxl>=3.0.7->inferactively-pymdp) (1.1.0)\n",
            "Requirement already satisfied: tzdata>=2022.1 in /usr/local/lib/python3.10/dist-packages (from pandas>=1.2.4->inferactively-pymdp) (2024.1)\n",
            "Requirement already satisfied: exceptiongroup>=1.0.0rc8 in /usr/local/lib/python3.10/dist-packages (from pytest>=6.2.1->inferactively-pymdp) (1.2.1)\n",
            "Requirement already satisfied: tomli>=1.0.0 in /usr/local/lib/python3.10/dist-packages (from pytest>=6.2.1->inferactively-pymdp) (2.0.1)\n",
            "Requirement already satisfied: docutils<0.21 in /usr/local/lib/python3.10/dist-packages (from sphinx-rtd-theme>=0.4->inferactively-pymdp) (0.18.1)\n",
            "Collecting sphinxcontrib-jquery<5,>=4 (from sphinx-rtd-theme>=0.4->inferactively-pymdp)\n",
            "  Downloading sphinxcontrib_jquery-4.1-py2.py3-none-any.whl (121 kB)\n",
            "\u001b[2K     \u001b[90m━━━━━━━━━━━━━━━━━━━━━━━━━━━━━━━━━━━━━━━━\u001b[0m \u001b[32m121.1/121.1 kB\u001b[0m \u001b[31m9.8 MB/s\u001b[0m eta \u001b[36m0:00:00\u001b[0m\n",
            "\u001b[?25hRequirement already satisfied: click in /usr/local/lib/python3.10/dist-packages (from jupyter-cache>=0.5->myst-nb>=0.13.1->inferactively-pymdp) (8.1.7)\n",
            "Requirement already satisfied: sqlalchemy<3,>=1.3.12 in /usr/local/lib/python3.10/dist-packages (from jupyter-cache>=0.5->myst-nb>=0.13.1->inferactively-pymdp) (2.0.29)\n",
            "Requirement already satisfied: tabulate in /usr/local/lib/python3.10/dist-packages (from jupyter-cache>=0.5->myst-nb>=0.13.1->inferactively-pymdp) (0.9.0)\n",
            "Requirement already satisfied: jinja2 in /usr/local/lib/python3.10/dist-packages (from myst-parser>=1.0.0->myst-nb>=0.13.1->inferactively-pymdp) (3.1.3)\n",
            "Requirement already satisfied: markdown-it-py~=3.0 in /usr/local/lib/python3.10/dist-packages (from myst-parser>=1.0.0->myst-nb>=0.13.1->inferactively-pymdp) (3.0.0)\n",
            "Requirement already satisfied: mdit-py-plugins~=0.4 in /usr/local/lib/python3.10/dist-packages (from myst-parser>=1.0.0->myst-nb>=0.13.1->inferactively-pymdp) (0.4.0)\n",
            "Collecting sphinx>=5 (from myst-nb>=0.13.1->inferactively-pymdp)\n",
            "  Downloading sphinx-7.3.7-py3-none-any.whl (3.3 MB)\n",
            "\u001b[2K     \u001b[90m━━━━━━━━━━━━━━━━━━━━━━━━━━━━━━━━━━━━━━━━\u001b[0m \u001b[32m3.3/3.3 MB\u001b[0m \u001b[31m28.7 MB/s\u001b[0m eta \u001b[36m0:00:00\u001b[0m\n",
            "\u001b[?25hRequirement already satisfied: jupyter-client>=6.1.12 in /usr/local/lib/python3.10/dist-packages (from nbclient->myst-nb>=0.13.1->inferactively-pymdp) (6.1.12)\n",
            "Requirement already satisfied: jupyter-core!=5.0.*,>=4.12 in /usr/local/lib/python3.10/dist-packages (from nbclient->myst-nb>=0.13.1->inferactively-pymdp) (5.7.2)\n",
            "Requirement already satisfied: traitlets>=5.4 in /usr/local/lib/python3.10/dist-packages (from nbclient->myst-nb>=0.13.1->inferactively-pymdp) (5.7.1)\n",
            "Requirement already satisfied: fastjsonschema>=2.15 in /usr/local/lib/python3.10/dist-packages (from nbformat>=5.0->myst-nb>=0.13.1->inferactively-pymdp) (2.19.1)\n",
            "Requirement already satisfied: jsonschema>=2.6 in /usr/local/lib/python3.10/dist-packages (from nbformat>=5.0->myst-nb>=0.13.1->inferactively-pymdp) (4.19.2)\n",
            "Requirement already satisfied: sphinxcontrib-applehelp in /usr/local/lib/python3.10/dist-packages (from sphinx>=5->myst-nb>=0.13.1->inferactively-pymdp) (1.0.8)\n",
            "Requirement already satisfied: sphinxcontrib-devhelp in /usr/local/lib/python3.10/dist-packages (from sphinx>=5->myst-nb>=0.13.1->inferactively-pymdp) (1.0.6)\n",
            "Requirement already satisfied: sphinxcontrib-jsmath in /usr/local/lib/python3.10/dist-packages (from sphinx>=5->myst-nb>=0.13.1->inferactively-pymdp) (1.0.1)\n",
            "Requirement already satisfied: sphinxcontrib-htmlhelp>=2.0.0 in /usr/local/lib/python3.10/dist-packages (from sphinx>=5->myst-nb>=0.13.1->inferactively-pymdp) (2.0.5)\n",
            "Requirement already satisfied: sphinxcontrib-serializinghtml>=1.1.9 in /usr/local/lib/python3.10/dist-packages (from sphinx>=5->myst-nb>=0.13.1->inferactively-pymdp) (1.1.10)\n",
            "Requirement already satisfied: sphinxcontrib-qthelp in /usr/local/lib/python3.10/dist-packages (from sphinx>=5->myst-nb>=0.13.1->inferactively-pymdp) (1.0.7)\n",
            "Requirement already satisfied: Pygments>=2.14 in /usr/local/lib/python3.10/dist-packages (from sphinx>=5->myst-nb>=0.13.1->inferactively-pymdp) (2.16.1)\n",
            "Requirement already satisfied: snowballstemmer>=2.0 in /usr/local/lib/python3.10/dist-packages (from sphinx>=5->myst-nb>=0.13.1->inferactively-pymdp) (2.2.0)\n",
            "Requirement already satisfied: babel>=2.9 in /usr/local/lib/python3.10/dist-packages (from sphinx>=5->myst-nb>=0.13.1->inferactively-pymdp) (2.14.0)\n",
            "Requirement already satisfied: alabaster~=0.7.14 in /usr/local/lib/python3.10/dist-packages (from sphinx>=5->myst-nb>=0.13.1->inferactively-pymdp) (0.7.16)\n",
            "Requirement already satisfied: imagesize>=1.3 in /usr/local/lib/python3.10/dist-packages (from sphinx>=5->myst-nb>=0.13.1->inferactively-pymdp) (1.4.1)\n",
            "Requirement already satisfied: requests>=2.25.0 in /usr/local/lib/python3.10/dist-packages (from sphinx>=5->myst-nb>=0.13.1->inferactively-pymdp) (2.31.0)\n",
            "Requirement already satisfied: zipp>=0.5 in /usr/local/lib/python3.10/dist-packages (from importlib_metadata->myst-nb>=0.13.1->inferactively-pymdp) (3.18.1)\n",
            "Requirement already satisfied: ipython-genutils in /usr/local/lib/python3.10/dist-packages (from ipykernel->myst-nb>=0.13.1->inferactively-pymdp) (0.2.0)\n",
            "Requirement already satisfied: tornado>=4.2 in /usr/local/lib/python3.10/dist-packages (from ipykernel->myst-nb>=0.13.1->inferactively-pymdp) (6.3.3)\n",
            "Requirement already satisfied: setuptools>=18.5 in /usr/local/lib/python3.10/dist-packages (from ipython->myst-nb>=0.13.1->inferactively-pymdp) (67.7.2)\n",
            "Collecting jedi>=0.16 (from ipython->myst-nb>=0.13.1->inferactively-pymdp)\n",
            "  Downloading jedi-0.19.1-py2.py3-none-any.whl (1.6 MB)\n",
            "\u001b[2K     \u001b[90m━━━━━━━━━━━━━━━━━━━━━━━━━━━━━━━━━━━━━━━━\u001b[0m \u001b[32m1.6/1.6 MB\u001b[0m \u001b[31m42.7 MB/s\u001b[0m eta \u001b[36m0:00:00\u001b[0m\n",
            "\u001b[?25hRequirement already satisfied: decorator in /usr/local/lib/python3.10/dist-packages (from ipython->myst-nb>=0.13.1->inferactively-pymdp) (4.4.2)\n",
            "Requirement already satisfied: pickleshare in /usr/local/lib/python3.10/dist-packages (from ipython->myst-nb>=0.13.1->inferactively-pymdp) (0.7.5)\n",
            "Requirement already satisfied: prompt-toolkit!=3.0.0,!=3.0.1,<3.1.0,>=2.0.0 in /usr/local/lib/python3.10/dist-packages (from ipython->myst-nb>=0.13.1->inferactively-pymdp) (3.0.43)\n",
            "Requirement already satisfied: backcall in /usr/local/lib/python3.10/dist-packages (from ipython->myst-nb>=0.13.1->inferactively-pymdp) (0.2.0)\n",
            "Requirement already satisfied: matplotlib-inline in /usr/local/lib/python3.10/dist-packages (from ipython->myst-nb>=0.13.1->inferactively-pymdp) (0.1.7)\n",
            "Requirement already satisfied: pexpect>4.3 in /usr/local/lib/python3.10/dist-packages (from ipython->myst-nb>=0.13.1->inferactively-pymdp) (4.9.0)\n",
            "Requirement already satisfied: parso<0.9.0,>=0.8.3 in /usr/local/lib/python3.10/dist-packages (from jedi>=0.16->ipython->myst-nb>=0.13.1->inferactively-pymdp) (0.8.4)\n",
            "Requirement already satisfied: MarkupSafe>=2.0 in /usr/local/lib/python3.10/dist-packages (from jinja2->myst-parser>=1.0.0->myst-nb>=0.13.1->inferactively-pymdp) (2.1.5)\n",
            "Requirement already satisfied: jsonschema-specifications>=2023.03.6 in /usr/local/lib/python3.10/dist-packages (from jsonschema>=2.6->nbformat>=5.0->myst-nb>=0.13.1->inferactively-pymdp) (2023.12.1)\n",
            "Requirement already satisfied: referencing>=0.28.4 in /usr/local/lib/python3.10/dist-packages (from jsonschema>=2.6->nbformat>=5.0->myst-nb>=0.13.1->inferactively-pymdp) (0.34.0)\n",
            "Requirement already satisfied: rpds-py>=0.7.1 in /usr/local/lib/python3.10/dist-packages (from jsonschema>=2.6->nbformat>=5.0->myst-nb>=0.13.1->inferactively-pymdp) (0.18.0)\n",
            "Requirement already satisfied: pyzmq>=13 in /usr/local/lib/python3.10/dist-packages (from jupyter-client>=6.1.12->nbclient->myst-nb>=0.13.1->inferactively-pymdp) (23.2.1)\n",
            "Requirement already satisfied: platformdirs>=2.5 in /usr/local/lib/python3.10/dist-packages (from jupyter-core!=5.0.*,>=4.12->nbclient->myst-nb>=0.13.1->inferactively-pymdp) (4.2.0)\n",
            "Requirement already satisfied: mdurl~=0.1 in /usr/local/lib/python3.10/dist-packages (from markdown-it-py~=3.0->myst-parser>=1.0.0->myst-nb>=0.13.1->inferactively-pymdp) (0.1.2)\n",
            "Requirement already satisfied: ptyprocess>=0.5 in /usr/local/lib/python3.10/dist-packages (from pexpect>4.3->ipython->myst-nb>=0.13.1->inferactively-pymdp) (0.7.0)\n",
            "Requirement already satisfied: wcwidth in /usr/local/lib/python3.10/dist-packages (from prompt-toolkit!=3.0.0,!=3.0.1,<3.1.0,>=2.0.0->ipython->myst-nb>=0.13.1->inferactively-pymdp) (0.2.13)\n",
            "Requirement already satisfied: charset-normalizer<4,>=2 in /usr/local/lib/python3.10/dist-packages (from requests>=2.25.0->sphinx>=5->myst-nb>=0.13.1->inferactively-pymdp) (3.3.2)\n",
            "Requirement already satisfied: idna<4,>=2.5 in /usr/local/lib/python3.10/dist-packages (from requests>=2.25.0->sphinx>=5->myst-nb>=0.13.1->inferactively-pymdp) (3.7)\n",
            "Requirement already satisfied: urllib3<3,>=1.21.1 in /usr/local/lib/python3.10/dist-packages (from requests>=2.25.0->sphinx>=5->myst-nb>=0.13.1->inferactively-pymdp) (2.0.7)\n",
            "Requirement already satisfied: certifi>=2017.4.17 in /usr/local/lib/python3.10/dist-packages (from requests>=2.25.0->sphinx>=5->myst-nb>=0.13.1->inferactively-pymdp) (2024.2.2)\n",
            "Requirement already satisfied: greenlet!=0.4.17 in /usr/local/lib/python3.10/dist-packages (from sqlalchemy<3,>=1.3.12->jupyter-cache>=0.5->myst-nb>=0.13.1->inferactively-pymdp) (3.0.3)\n",
            "Installing collected packages: nose, xlsxwriter, py, jedi, sphinx, sphinxcontrib-jquery, myst-parser, sphinx-rtd-theme, jupyter-cache, myst-nb, inferactively-pymdp\n",
            "  Attempting uninstall: sphinx\n",
            "    Found existing installation: Sphinx 5.0.2\n",
            "    Uninstalling Sphinx-5.0.2:\n",
            "      Successfully uninstalled Sphinx-5.0.2\n",
            "Successfully installed inferactively-pymdp-0.0.7.1 jedi-0.19.1 jupyter-cache-1.0.0 myst-nb-1.1.0 myst-parser-3.0.1 nose-1.3.7 py-1.11.0 sphinx-7.3.7 sphinx-rtd-theme-2.0.0 sphinxcontrib-jquery-4.1 xlsxwriter-3.2.0\n"
          ]
        }
      ],
      "source": [
        "# Import necessary libraries\n",
        "!pip install inferactively-pymdp"
      ]
    },
    {
      "cell_type": "code",
      "execution_count": null,
      "metadata": {
        "id": "wHooG1ZKulmi"
      },
      "outputs": [],
      "source": [
        "import numpy as np\n",
        "import matplotlib.pyplot as plt\n",
        "import seaborn as sns\n",
        "import pymdp\n",
        "from pymdp.agent import Agent #\n",
        "from pymdp import inference, control, learning\n",
        "from pymdp import utils, maths\n",
        "from pymdp.maths import softmax"
      ]
    },
    {
      "cell_type": "markdown",
      "source": [
        "# **Case 1**\n",
        "-----\n",
        "The environment does not change: the food is present and the agent just decides whether to eat or not."
      ],
      "metadata": {
        "id": "epiAFMaLxNNa"
      }
    },
    {
      "cell_type": "markdown",
      "source": [
        "![image.png](data:image/png;base64,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)"
      ],
      "metadata": {
        "id": "tmR6qxSVyAYA"
      }
    },
    {
      "cell_type": "markdown",
      "source": [
        "Not sure about satiety as hidden state"
      ],
      "metadata": {
        "id": "fesoIR6ixWyV"
      }
    },
    {
      "cell_type": "markdown",
      "source": [
        "## **Generative model**"
      ],
      "metadata": {
        "id": "H3KqDV87zgzo"
      }
    },
    {
      "cell_type": "code",
      "source": [
        "# observations\n",
        "obs_food = ['not present', 'present']\n",
        "obs_satiety = ['no', 'yes']\n",
        "\n",
        "#states\n",
        "s_food = ['not present', 'present'] #0\n",
        "s_satiety = ['no', 'yes']           #1\n",
        "\n",
        "#controls\n",
        "action0 = ['do not eat']\n",
        "action1 = ['eat']"
      ],
      "metadata": {
        "id": "-s8PKFbRzep0"
      },
      "execution_count": null,
      "outputs": []
    },
    {
      "cell_type": "code",
      "source": [
        "#observation modality dimensions\n",
        "num_obs = [len(obs_food), len(obs_satiety)]\n",
        "\n",
        "#hidden state factors dimensions\n",
        "num_states = [len(s_food), len(s_satiety)]\n",
        "\n",
        "#control state factor dimensions\n",
        "num_controls = [len(action0), len(action1)]"
      ],
      "metadata": {
        "id": "_lZAFDvM1Lec"
      },
      "execution_count": null,
      "outputs": []
    },
    {
      "cell_type": "code",
      "source": [
        "num_obs"
      ],
      "metadata": {
        "colab": {
          "base_uri": "https://localhost:8080/"
        },
        "id": "cl1thVq7zem7",
        "outputId": "c408a917-37b0-460b-b4e1-9d38105b3fef"
      },
      "execution_count": null,
      "outputs": [
        {
          "output_type": "execute_result",
          "data": {
            "text/plain": [
              "[2, 2]"
            ]
          },
          "metadata": {},
          "execution_count": 11
        }
      ]
    },
    {
      "cell_type": "code",
      "source": [
        "num_states"
      ],
      "metadata": {
        "colab": {
          "base_uri": "https://localhost:8080/"
        },
        "id": "5_-KRguSzejz",
        "outputId": "c35377e0-a3bf-45dc-9e76-1f5875707827"
      },
      "execution_count": null,
      "outputs": [
        {
          "output_type": "execute_result",
          "data": {
            "text/plain": [
              "[2, 2]"
            ]
          },
          "metadata": {},
          "execution_count": 10
        }
      ]
    },
    {
      "cell_type": "code",
      "source": [
        "num_controls"
      ],
      "metadata": {
        "colab": {
          "base_uri": "https://localhost:8080/"
        },
        "id": "BzmoesaEzeg_",
        "outputId": "83498f9a-02d2-45b9-abe3-cfd6c723c013"
      },
      "execution_count": null,
      "outputs": [
        {
          "output_type": "execute_result",
          "data": {
            "text/plain": [
              "[1, 1]"
            ]
          },
          "metadata": {},
          "execution_count": 23
        }
      ]
    },
    {
      "cell_type": "code",
      "source": [
        "# B_factor_list says the states each state depends on\n",
        "# 0 (food state), 1 (satiety state)\n",
        "#B_factor_list=[[0,1],[0]] #is it necessary?"
      ],
      "metadata": {
        "id": "MHDnSMbUzeem"
      },
      "execution_count": null,
      "outputs": []
    },
    {
      "cell_type": "markdown",
      "source": [
        "###**A Matrix**"
      ],
      "metadata": {
        "id": "4I3y7lk846im"
      }
    },
    {
      "cell_type": "code",
      "source": [
        "#we need 2 matrices, one for each obs\n",
        "#chek the following, something is missing"
      ],
      "metadata": {
        "id": "i1ulBTdU617P"
      },
      "execution_count": null,
      "outputs": []
    },
    {
      "cell_type": "code",
      "source": [
        "#label every column/row to understand what do the matrices mean\n",
        "#fill in by hand\n",
        "\n",
        "# This is a scenario where there is complete certainty\n",
        "# Define the size of each dimension\n",
        "num_obs_types = 2   # 'food left' and 'satiety'\n",
        "num_obs_values = 2  # 'not present/present' and 'no/yes'\n",
        "num_s_food_values = 2   # 'not present', 'present'\n",
        "num_s_satiety_values = 2 # 'no', 'yes'\n",
        "\n",
        "# Initialize the observation model A\n",
        "A = np.zeros((num_obs_types, num_obs_values, num_s_food_values, num_s_satiety_values))\n",
        "\n",
        "# Mapping food observations based on the state of food\n",
        "A[0, 0, 0, :] = 1.0  # If food is 'not present' (state), observe 'not present' (100%)\n",
        "A[0, 1, 1, :] = 1.0  # If food is 'present' (state), observe 'present' (100%)\n",
        "\n",
        "# Mapping satiety observations based on the state of satiety\n",
        "A[1, 0, :, 0] = 1.0  # If satiety is 'no' (state), observe 'no' (100%)\n",
        "A[1, 1, :, 1] = 1.0  # If satiety is 'yes' (state), observe 'yes' (100%)\n"
      ],
      "metadata": {
        "id": "Fr3cWGuDgvqt"
      },
      "execution_count": null,
      "outputs": []
    },
    {
      "cell_type": "code",
      "source": [
        "# Print the A matrix\n",
        "A[0]"
      ],
      "metadata": {
        "colab": {
          "base_uri": "https://localhost:8080/"
        },
        "id": "l7oCw3aa8qKv",
        "outputId": "f2debf40-7379-4d6e-d028-89f9f9f6179d"
      },
      "execution_count": null,
      "outputs": [
        {
          "output_type": "execute_result",
          "data": {
            "text/plain": [
              "array([[[1., 1.],\n",
              "        [0., 0.]],\n",
              "\n",
              "       [[0., 0.],\n",
              "        [1., 1.]]])"
            ]
          },
          "metadata": {},
          "execution_count": 34
        }
      ]
    },
    {
      "cell_type": "code",
      "source": [
        "A[1]"
      ],
      "metadata": {
        "colab": {
          "base_uri": "https://localhost:8080/"
        },
        "id": "YrUBU8nB8stz",
        "outputId": "d408a00e-e069-4b75-e51a-4c1cb0698106"
      },
      "execution_count": null,
      "outputs": [
        {
          "output_type": "execute_result",
          "data": {
            "text/plain": [
              "array([[[1., 0.],\n",
              "        [1., 0.]],\n",
              "\n",
              "       [[0., 1.],\n",
              "        [0., 1.]]])"
            ]
          },
          "metadata": {},
          "execution_count": 35
        }
      ]
    },
    {
      "cell_type": "code",
      "source": [
        "A[0][:,:,1]"
      ],
      "metadata": {
        "colab": {
          "base_uri": "https://localhost:8080/"
        },
        "id": "Y9tKIJO-NLp4",
        "outputId": "97026ff5-2fa9-4167-9c36-01488a11356e"
      },
      "execution_count": null,
      "outputs": [
        {
          "output_type": "execute_result",
          "data": {
            "text/plain": [
              "array([[1., 0.],\n",
              "       [0., 1.]])"
            ]
          },
          "metadata": {},
          "execution_count": 51
        }
      ]
    },
    {
      "cell_type": "code",
      "source": [
        "# Plot\n",
        "fig, axes = plt.subplots(nrows=2, ncols=2, figsize=(12, 8))\n",
        "obs_types = ['Food Left', 'Satiety']\n",
        "obs_values = ['Not Present', 'Present']\n",
        "state_labels_food = ['Food: Not Present', 'Food: Present']\n",
        "state_labels_satiety = ['Satiety: No', 'Satiety: Yes']\n",
        "\n",
        "for obs_index in range(num_obs_types):  # Loop over observation types\n",
        "    for value_index in range(num_obs_values):  # Loop over observation values\n",
        "        ax = axes[obs_index, value_index]\n",
        "        matrix_slice = A[obs_index, value_index, :, :]\n",
        "        im = ax.imshow(matrix_slice, cmap='coolwarm', vmin=0, vmax=1)\n",
        "        ax.set_xticks(np.arange(num_s_satiety_values))\n",
        "        ax.set_yticks(np.arange(num_s_food_values))\n",
        "        ax.set_xticklabels(state_labels_satiety)\n",
        "        ax.set_yticklabels(state_labels_food)\n",
        "        ax.set_title(f'Observation: {obs_types[obs_index]}, Value: {obs_values[value_index]}')\n",
        "        ax.set_xlabel('Satiety State')\n",
        "        ax.set_ylabel('Food State')\n",
        "\n",
        "        # Add text annotations for clarity\n",
        "        for i in range(num_s_food_values):\n",
        "            for j in range(num_s_satiety_values):\n",
        "                text = ax.text(j, i, f'{matrix_slice[i, j]:.1f}',\n",
        "                               ha=\"center\", va=\"center\", color=\"black\")\n",
        "\n",
        "fig.tight_layout()\n",
        "fig.colorbar(im, ax=axes.ravel().tolist(), shrink=0.6)\n",
        "plt.show()\n"
      ],
      "metadata": {
        "colab": {
          "base_uri": "https://localhost:8080/",
          "height": 807
        },
        "id": "RMYGreJQ8TIj",
        "outputId": "44f6bbf4-4177-4759-8507-24e3baa27206"
      },
      "execution_count": null,
      "outputs": [
        {
          "output_type": "display_data",
          "data": {
            "text/plain": [
              "<Figure size 1200x800 with 5 Axes>"
            ],
            "image/png": "[encoded data removed]"
          },
          "metadata": {}
        }
      ]
    },
    {
      "cell_type": "code",
      "source": [
        "utils.plot_likelihood(A[0][:, :, 0], title='Food Left obs | Food Left state')"
      ],
      "metadata": {
        "colab": {
          "base_uri": "https://localhost:8080/",
          "height": 437
        },
        "id": "NsG0TEjQ-i0j",
        "outputId": "58940c47-0417-43d8-c6e2-eafbac7fc2fd"
      },
      "execution_count": null,
      "outputs": [
        {
          "output_type": "display_data",
          "data": {
            "text/plain": [
              "<Figure size 640x480 with 2 Axes>"
            ],
            "image/png": "[encoded data removed]"
          },
          "metadata": {}
        }
      ]
    },
    {
      "cell_type": "code",
      "source": [
        "utils.plot_likelihood(A[0][:,:,0], title = \"Food lef obs | Satiety = no\")"
      ],
      "metadata": {
        "colab": {
          "base_uri": "https://localhost:8080/",
          "height": 437
        },
        "id": "SiTMBI5r-1Y5",
        "outputId": "3e4d461e-d98b-425d-fb8b-c2b478eb6b2a"
      },
      "execution_count": null,
      "outputs": [
        {
          "output_type": "display_data",
          "data": {
            "text/plain": [
              "<Figure size 640x480 with 2 Axes>"
            ],
            "image/png": "[encoded data removed]"
          },
          "metadata": {}
        }
      ]
    },
    {
      "cell_type": "code",
      "source": [
        "utils.plot_likelihood(A[0][:,:,1], title = \" Food left obs | Satiety = yes\")"
      ],
      "metadata": {
        "colab": {
          "base_uri": "https://localhost:8080/",
          "height": 437
        },
        "id": "xyQ31nOo7SXz",
        "outputId": "938d73ea-60c8-4cf1-b9a9-7839bf891151"
      },
      "execution_count": null,
      "outputs": [
        {
          "output_type": "display_data",
          "data": {
            "text/plain": [
              "<Figure size 640x480 with 2 Axes>"
            ],
            "image/png": "[encoded data removed]"
          },
          "metadata": {}
        }
      ]
    },
    {
      "cell_type": "code",
      "source": [
        "utils.plot_likelihood(A[0][:,:,1], title = \"Food lef obs | Food Left = yes\")"
      ],
      "metadata": {
        "colab": {
          "base_uri": "https://localhost:8080/",
          "height": 437
        },
        "id": "8qsoJ58s-7w4",
        "outputId": "96b9ed9b-52a5-444b-95db-4960049cb718"
      },
      "execution_count": null,
      "outputs": [
        {
          "output_type": "display_data",
          "data": {
            "text/plain": [
              "<Figure size 640x480 with 2 Axes>"
            ],
            "image/png": "[encoded data removed]"
          },
          "metadata": {}
        }
      ]
    },
    {
      "cell_type": "code",
      "source": [
        "utils.plot_likelihood(A[1][:,:,0], title = \"Satiety obs | Food left = no\")"
      ],
      "metadata": {
        "colab": {
          "base_uri": "https://localhost:8080/",
          "height": 437
        },
        "id": "S3YGtGZF_GR1",
        "outputId": "4a65e3a5-76ac-4c54-f994-eef3fd392a11"
      },
      "execution_count": null,
      "outputs": [
        {
          "output_type": "display_data",
          "data": {
            "text/plain": [
              "<Figure size 640x480 with 2 Axes>"
            ],
            "image/png": "[encoded data removed]"
          },
          "metadata": {}
        }
      ]
    },
    {
      "cell_type": "code",
      "source": [
        "utils.plot_likelihood(A[1][:,:,0], title = \"Satiety obs | Satiety = no\")"
      ],
      "metadata": {
        "colab": {
          "base_uri": "https://localhost:8080/",
          "height": 437
        },
        "id": "5XAdSTMZ8i7_",
        "outputId": "130a3698-3a3c-4f19-9072-82acf691ae1e"
      },
      "execution_count": null,
      "outputs": [
        {
          "output_type": "display_data",
          "data": {
            "text/plain": [
              "<Figure size 640x480 with 2 Axes>"
            ],
            "image/png": "[encoded data removed]"
          },
          "metadata": {}
        }
      ]
    },
    {
      "cell_type": "code",
      "source": [
        "utils.plot_likelihood(A[1][:,:,1], title = \"Satiety obs | Food left = yes\")"
      ],
      "metadata": {
        "colab": {
          "base_uri": "https://localhost:8080/",
          "height": 437
        },
        "id": "deYyd1km_GH-",
        "outputId": "ffead574-3a4e-4660-fceb-e166552646a5"
      },
      "execution_count": null,
      "outputs": [
        {
          "output_type": "display_data",
          "data": {
            "text/plain": [
              "<Figure size 640x480 with 2 Axes>"
            ],
            "image/png": "[encoded data removed]"
          },
          "metadata": {}
        }
      ]
    },
    {
      "cell_type": "code",
      "source": [
        "utils.plot_likelihood(A[1][:,:,1], title = \"Satiety obs | Satiety = yes\")"
      ],
      "metadata": {
        "colab": {
          "base_uri": "https://localhost:8080/",
          "height": 437
        },
        "id": "ekz_o5rX_F9n",
        "outputId": "99305338-c9fd-4163-d96e-a66cb29c4c0c"
      },
      "execution_count": null,
      "outputs": [
        {
          "output_type": "display_data",
          "data": {
            "text/plain": [
              "<Figure size 640x480 with 2 Axes>"
            ],
            "image/png": "[encoded data removed]"
          },
          "metadata": {}
        }
      ]
    },
    {
      "cell_type": "markdown",
      "source": [
        "following commented stuff did not work"
      ],
      "metadata": {
        "id": "uyi8rzmYpXK9"
      }
    },
    {
      "cell_type": "code",
      "source": [
        "#A = utils.initialize_empty_A(num_obs, num_states)"
      ],
      "metadata": {
        "id": "IBzrO3sWzecF"
      },
      "execution_count": null,
      "outputs": []
    },
    {
      "cell_type": "code",
      "source": [
        "#A_dims = num_obs + num_states"
      ],
      "metadata": {
        "id": "s14cZ8_8VxZY"
      },
      "execution_count": null,
      "outputs": []
    },
    {
      "cell_type": "code",
      "source": [
        "#A_dims"
      ],
      "metadata": {
        "colab": {
          "base_uri": "https://localhost:8080/"
        },
        "id": "ax62Z8rQWCK1",
        "outputId": "6b7d844f-67e5-4ee8-830c-0eac56f14709"
      },
      "execution_count": null,
      "outputs": [
        {
          "output_type": "execute_result",
          "data": {
            "text/plain": [
              "[2, 2, 2, 2]"
            ]
          },
          "metadata": {},
          "execution_count": 29
        }
      ]
    },
    {
      "cell_type": "code",
      "source": [
        "#observation food\n",
        "\n",
        "#p_food = 1. #confidence in observing food\n",
        "\n",
        "#A_food = np.zeros((len(obs_food), len(s_food))) #matrix bi dimensional  is ok?\n",
        "\n",
        "#A_food"
      ],
      "metadata": {
        "colab": {
          "base_uri": "https://localhost:8080/"
        },
        "id": "yNpLMfsbIEWG",
        "outputId": "cc55650b-f4aa-4dca-b919-35daf31bb246"
      },
      "execution_count": null,
      "outputs": [
        {
          "output_type": "execute_result",
          "data": {
            "text/plain": [
              "array([[0., 0.],\n",
              "       [0., 0.]])"
            ]
          },
          "metadata": {},
          "execution_count": 16
        }
      ]
    },
    {
      "cell_type": "code",
      "source": [
        "#for food_id, s_food_value in enumerate(s_food):\n",
        "\n",
        " # if s_food_value == 'not present':\n",
        "  #  A_food[0, food_id] = 1.0\n",
        "\n",
        "  #elif s_food_value == 'present':\n",
        "   # A_food[1, food_id] = np.array([[p_food,    1.0 - p_food], #error\n",
        "                              #   [1.0 - p_food, p_food]])\n",
        "\n",
        "  #A[0] = A_food"
      ],
      "metadata": {
        "id": "0RfCX39SJT1r"
      },
      "execution_count": null,
      "outputs": []
    },
    {
      "cell_type": "code",
      "source": [
        "#prob_A = 1. #confidence in A matrix"
      ],
      "metadata": {
        "id": "tS9d-D3IzeZh"
      },
      "execution_count": null,
      "outputs": []
    },
    {
      "cell_type": "markdown",
      "source": [
        "#### A matrix with one hidden state only i.e. food left"
      ],
      "metadata": {
        "id": "9lJ5i4JblBge"
      }
    },
    {
      "cell_type": "code",
      "source": [
        "# Define the size of each dimension\n",
        "num_obs_types = 2  # 'food left' and 'satiety'\n",
        "num_obs_values = 2 # 'not present/present' and 'no/yes'\n",
        "num_s_food_values = 2 # 'not present', 'present'\n",
        "\n",
        "# Initialize the observation model A\n",
        "A = np.zeros((num_obs_types, num_obs_values, num_s_food_values))\n",
        "\n",
        "# Mapping food observations based on the state of food\n",
        "A[0, 0, 0] = 1.0  # Observe 'not present' when food is 'not present' (100% certainty)\n",
        "A[0, 1, 1] = 1.0  # Observe 'present' when food is 'present' (100% certainty)\n",
        "\n",
        "# Mapping satiety observations based on the state of food\n",
        "# Assuming some dependency model where the presence of food might affect perceived satiety\n",
        "A[1, 0, 0] = 0.8  # More likely to observe 'no' satiety when food is 'not present'  #or just set everything 0.5?\n",
        "A[1, 1, 0] = 0.2  # Less likely to observe 'yes' satiety when food is 'not present'\n",
        "A[1, 0, 1] = 0.3  # Less likely to observe 'no' satiety when food is 'present'\n",
        "A[1, 1, 1] = 0.7  # More likely to observe 'yes' satiety when food is 'present'\n",
        "\n",
        "# Print the A matrix\n",
        "A"
      ],
      "metadata": {
        "colab": {
          "base_uri": "https://localhost:8080/"
        },
        "id": "0PnUZRx2lIrq",
        "outputId": "837d4a55-0bb5-4175-ca20-431a074c1ba4"
      },
      "execution_count": null,
      "outputs": [
        {
          "output_type": "execute_result",
          "data": {
            "text/plain": [
              "array([[[1. , 0. ],\n",
              "        [0. , 1. ]],\n",
              "\n",
              "       [[0.8, 0.3],\n",
              "        [0.2, 0.7]]])"
            ]
          },
          "metadata": {},
          "execution_count": 11
        }
      ]
    },
    {
      "cell_type": "code",
      "source": [
        "# Plot\n",
        "fig, axes = plt.subplots(nrows=1, ncols=2, figsize=(10, 5))\n",
        "obs_labels = ['Food Left', 'Satiety']\n",
        "state_labels = ['Not Present', 'Present']\n",
        "\n",
        "for i, ax in enumerate(axes):\n",
        "    c = ax.imshow(A[i], cmap='Oranges', vmin=0, vmax=1)\n",
        "    ax.set_xticks(np.arange(len(state_labels)))\n",
        "    ax.set_yticks(np.arange(len(state_labels)))\n",
        "    ax.set_xticklabels(state_labels)\n",
        "    ax.set_yticklabels(['No', 'Yes'] if i else ['Not Present', 'Present'])\n",
        "    ax.set_title(f'Observation: {obs_labels[i]}')\n",
        "    ax.set_xlabel('State of Food')\n",
        "    ax.set_ylabel('Observation Value')\n",
        "\n",
        "    # Loop over data dimensions and create text annotations.\n",
        "    for j in range(len(state_labels)):\n",
        "        for k in range(len(state_labels)):\n",
        "            text = ax.text(k, j, f'{A[i, j, k]:.1f}',\n",
        "                           ha=\"center\", va=\"center\", color=\"black\")\n",
        "\n",
        "fig.tight_layout()\n",
        "plt.colorbar(c, ax=axes.ravel().tolist(), shrink=0.95)\n",
        "plt.show()"
      ],
      "metadata": {
        "id": "1cJQDojFvJMi",
        "colab": {
          "base_uri": "https://localhost:8080/",
          "height": 466
        },
        "outputId": "925824ec-ac33-43d0-e2be-cd717344dcc5"
      },
      "execution_count": null,
      "outputs": [
        {
          "output_type": "display_data",
          "data": {
            "text/plain": [
              "<Figure size 1000x500 with 3 Axes>"
            ],
            "image/png": "[encoded data removed]"
          },
          "metadata": {}
        }
      ]
    },
    {
      "cell_type": "code",
      "source": [],
      "metadata": {
        "id": "Uf3bQCYHvJEP"
      },
      "execution_count": null,
      "outputs": []
    },
    {
      "cell_type": "code",
      "source": [],
      "metadata": {
        "id": "GVAD8GUcvI7o"
      },
      "execution_count": null,
      "outputs": []
    },
    {
      "cell_type": "markdown",
      "source": [
        "###**B Matrix**"
      ],
      "metadata": {
        "id": "GdrXvxoZherr"
      }
    },
    {
      "cell_type": "code",
      "source": [
        "# create transition likelihood (B matrix)\n",
        "B = utils.random_B_matrix(num_states, num_controls) #, B_factor_list=B_factor_list)\n",
        "prob_B = 1. # confidence in B matrix"
      ],
      "metadata": {
        "id": "uu-qNLEYzeWv"
      },
      "execution_count": null,
      "outputs": []
    },
    {
      "cell_type": "code",
      "source": [
        "#we need one matrix for each control state (action)\n",
        "B_do_not_eat = np.zeros( (len(s_food), len(s_food), len(action0)) )\n",
        "\n",
        "B_do_not_eat[:,:,0] = np.eye(len(action0))\n",
        "\n",
        "B[0] = B_do_not_eat"
      ],
      "metadata": {
        "id": "6Dcp1ZGdzeUE"
      },
      "execution_count": null,
      "outputs": []
    },
    {
      "cell_type": "code",
      "source": [
        "B[0]"
      ],
      "metadata": {
        "colab": {
          "base_uri": "https://localhost:8080/"
        },
        "id": "ifV4rOUI6oF4",
        "outputId": "64a472ed-5bc1-4e79-d1bd-0356982ab9a5"
      },
      "execution_count": null,
      "outputs": [
        {
          "output_type": "execute_result",
          "data": {
            "text/plain": [
              "array([[[1.],\n",
              "        [1.]],\n",
              "\n",
              "       [[1.],\n",
              "        [1.]]])"
            ]
          },
          "metadata": {},
          "execution_count": 41
        }
      ]
    },
    {
      "cell_type": "code",
      "source": [
        "utils.plot_likelihood(B[0][:,:,0], title = 'DO NOT EAT') #wrong, this is like everything id 0.5 prob"
      ],
      "metadata": {
        "colab": {
          "base_uri": "https://localhost:8080/",
          "height": 437
        },
        "id": "2qZ6uycj9k0I",
        "outputId": "a089c975-c203-416a-fdb6-2f6b91cc91c7"
      },
      "execution_count": null,
      "outputs": [
        {
          "output_type": "display_data",
          "data": {
            "text/plain": [
              "<Figure size 640x480 with 2 Axes>"
            ],
            "image/png": "[encoded data removed]"
          },
          "metadata": {}
        }
      ]
    },
    {
      "cell_type": "code",
      "source": [
        "B_eat = np.zeros( (len(s_satiety), len(s_satiety), len(action1)))\n",
        "\n",
        "B_eat[:,:,0] = np.eye(len(action1)) #check whether it is correct\n",
        "\n",
        "B[1] = B_eat"
      ],
      "metadata": {
        "id": "VLOWk_YizeRV"
      },
      "execution_count": null,
      "outputs": []
    },
    {
      "cell_type": "code",
      "source": [
        "utils.plot_likelihood(B[1][:,:,0], title = 'EAT')  #wrong, this is like everything id 0.5 prob"
      ],
      "metadata": {
        "colab": {
          "base_uri": "https://localhost:8080/",
          "height": 437
        },
        "id": "cYhhKgAo9yjD",
        "outputId": "04cffac7-7f24-4c2f-a63f-e07f25545ae4"
      },
      "execution_count": null,
      "outputs": [
        {
          "output_type": "display_data",
          "data": {
            "text/plain": [
              "<Figure size 640x480 with 2 Axes>"
            ],
            "image/png": "[encoded data removed]"
          },
          "metadata": {}
        }
      ]
    },
    {
      "cell_type": "markdown",
      "source": [
        "Again, let's wrap that into a quick `create_B()` function so we can re-set it whenever we want."
      ],
      "metadata": {
        "id": "sslh20hr9UbW"
      }
    },
    {
      "cell_type": "code",
      "source": [],
      "metadata": {
        "id": "sKWfsZpjzeOf"
      },
      "execution_count": null,
      "outputs": []
    },
    {
      "cell_type": "code",
      "source": [],
      "metadata": {
        "id": "5mCJFodrzeLn"
      },
      "execution_count": null,
      "outputs": []
    },
    {
      "cell_type": "markdown",
      "source": [
        "### **C and D vectors**"
      ],
      "metadata": {
        "id": "MmtVW85A-QHu"
      }
    },
    {
      "cell_type": "code",
      "source": [
        "#create prior preferences over observations (C vector)\n",
        "C = utils.obj_array_uniform([num_obs]) #wrong, all the same prob\n",
        "C"
      ],
      "metadata": {
        "colab": {
          "base_uri": "https://localhost:8080/"
        },
        "id": "TNj3uDvc-Wz5",
        "outputId": "37d4b720-4058-4ac1-9714-9b7467920390"
      },
      "execution_count": null,
      "outputs": [
        {
          "output_type": "execute_result",
          "data": {
            "text/plain": [
              "array([array([[0.5, 0.5],\n",
              "              [0.5, 0.5]])], dtype=object)"
            ]
          },
          "metadata": {},
          "execution_count": 49
        }
      ]
    },
    {
      "cell_type": "code",
      "source": [
        "C.shape"
      ],
      "metadata": {
        "colab": {
          "base_uri": "https://localhost:8080/"
        },
        "id": "CBVSUzot-aot",
        "outputId": "5bcd73dd-0ee9-4072-e27b-e64837a835dd"
      },
      "execution_count": null,
      "outputs": [
        {
          "output_type": "execute_result",
          "data": {
            "text/plain": [
              "(1,)"
            ]
          },
          "metadata": {},
          "execution_count": 50
        }
      ]
    },
    {
      "cell_type": "code",
      "source": [
        "#specify prior over hidden states (D vector) #how's the world at t0\n",
        "D = utils.obj_array(1)\n",
        "D[0] = utils.onehot(1, num_states)\n",
        "D"
      ],
      "metadata": {
        "colab": {
          "base_uri": "https://localhost:8080/"
        },
        "id": "qVyedhuz-ae9",
        "outputId": "bda6e38b-a3f6-44d7-8453-8e8c4996b367"
      },
      "execution_count": null,
      "outputs": [
        {
          "output_type": "execute_result",
          "data": {
            "text/plain": [
              "array([array([[0., 0.],\n",
              "              [1., 1.]])], dtype=object)"
            ]
          },
          "metadata": {},
          "execution_count": 52
        }
      ]
    },
    {
      "cell_type": "code",
      "source": [
        "D.shape"
      ],
      "metadata": {
        "colab": {
          "base_uri": "https://localhost:8080/"
        },
        "id": "D2OO1gZ6C4UD",
        "outputId": "d6c3476a-8386-469d-ebbe-84c0962499a8"
      },
      "execution_count": null,
      "outputs": [
        {
          "output_type": "execute_result",
          "data": {
            "text/plain": [
              "(1,)"
            ]
          },
          "metadata": {},
          "execution_count": 53
        }
      ]
    },
    {
      "cell_type": "code",
      "source": [
        "utils.plot_beliefs(softmax(D[0]), title = \"Prior beliefs about probability of ? \")"
      ],
      "metadata": {
        "colab": {
          "base_uri": "https://localhost:8080/",
          "height": 716
        },
        "id": "5NbPWAooC-r5",
        "outputId": "7d39fe3c-6236-4bb3-b9b1-cc4a083bccae"
      },
      "execution_count": null,
      "outputs": [
        {
          "output_type": "error",
          "ename": "TypeError",
          "evalue": "only length-1 arrays can be converted to Python scalars",
          "traceback": [
            "\u001b[0;31m---------------------------------------------------------------------------\u001b[0m",
            "\u001b[0;31mTypeError\u001b[0m                                 Traceback (most recent call last)",
            "\u001b[0;32m<ipython-input-54-337f47778c7b>\u001b[0m in \u001b[0;36m<cell line: 1>\u001b[0;34m()\u001b[0m\n\u001b[0;32m----> 1\u001b[0;31m \u001b[0mutils\u001b[0m\u001b[0;34m.\u001b[0m\u001b[0mplot_beliefs\u001b[0m\u001b[0;34m(\u001b[0m\u001b[0msoftmax\u001b[0m\u001b[0;34m(\u001b[0m\u001b[0mD\u001b[0m\u001b[0;34m[\u001b[0m\u001b[0;36m0\u001b[0m\u001b[0;34m]\u001b[0m\u001b[0;34m)\u001b[0m\u001b[0;34m,\u001b[0m \u001b[0mtitle\u001b[0m \u001b[0;34m=\u001b[0m \u001b[0;34m\"Prior beliefs about probability of ? \"\u001b[0m\u001b[0;34m)\u001b[0m\u001b[0;34m\u001b[0m\u001b[0;34m\u001b[0m\u001b[0m\n\u001b[0m",
            "\u001b[0;32m/usr/local/lib/python3.10/dist-packages/pymdp/utils.py\u001b[0m in \u001b[0;36mplot_beliefs\u001b[0;34m(belief_dist, title)\u001b[0m\n\u001b[1;32m    645\u001b[0m \u001b[0;34m\u001b[0m\u001b[0m\n\u001b[1;32m    646\u001b[0m     \u001b[0mplt\u001b[0m\u001b[0;34m.\u001b[0m\u001b[0mgrid\u001b[0m\u001b[0;34m(\u001b[0m\u001b[0mzorder\u001b[0m\u001b[0;34m=\u001b[0m\u001b[0;36m0\u001b[0m\u001b[0;34m)\u001b[0m\u001b[0;34m\u001b[0m\u001b[0;34m\u001b[0m\u001b[0m\n\u001b[0;32m--> 647\u001b[0;31m     \u001b[0mplt\u001b[0m\u001b[0;34m.\u001b[0m\u001b[0mbar\u001b[0m\u001b[0;34m(\u001b[0m\u001b[0mrange\u001b[0m\u001b[0;34m(\u001b[0m\u001b[0mbelief_dist\u001b[0m\u001b[0;34m.\u001b[0m\u001b[0mshape\u001b[0m\u001b[0;34m[\u001b[0m\u001b[0;36m0\u001b[0m\u001b[0;34m]\u001b[0m\u001b[0;34m)\u001b[0m\u001b[0;34m,\u001b[0m \u001b[0mbelief_dist\u001b[0m\u001b[0;34m,\u001b[0m \u001b[0mcolor\u001b[0m\u001b[0;34m=\u001b[0m\u001b[0;34m'r'\u001b[0m\u001b[0;34m,\u001b[0m \u001b[0mzorder\u001b[0m\u001b[0;34m=\u001b[0m\u001b[0;36m3\u001b[0m\u001b[0;34m)\u001b[0m\u001b[0;34m\u001b[0m\u001b[0;34m\u001b[0m\u001b[0m\n\u001b[0m\u001b[1;32m    648\u001b[0m     \u001b[0mplt\u001b[0m\u001b[0;34m.\u001b[0m\u001b[0mxticks\u001b[0m\u001b[0;34m(\u001b[0m\u001b[0mrange\u001b[0m\u001b[0;34m(\u001b[0m\u001b[0mbelief_dist\u001b[0m\u001b[0;34m.\u001b[0m\u001b[0mshape\u001b[0m\u001b[0;34m[\u001b[0m\u001b[0;36m0\u001b[0m\u001b[0;34m]\u001b[0m\u001b[0;34m)\u001b[0m\u001b[0;34m)\u001b[0m\u001b[0;34m\u001b[0m\u001b[0;34m\u001b[0m\u001b[0m\n\u001b[1;32m    649\u001b[0m     \u001b[0mplt\u001b[0m\u001b[0;34m.\u001b[0m\u001b[0mtitle\u001b[0m\u001b[0;34m(\u001b[0m\u001b[0mtitle\u001b[0m\u001b[0;34m)\u001b[0m\u001b[0;34m\u001b[0m\u001b[0;34m\u001b[0m\u001b[0m\n",
            "\u001b[0;32m/usr/local/lib/python3.10/dist-packages/matplotlib/pyplot.py\u001b[0m in \u001b[0;36mbar\u001b[0;34m(x, height, width, bottom, align, data, **kwargs)\u001b[0m\n\u001b[1;32m   2437\u001b[0m         \u001b[0mx\u001b[0m\u001b[0;34m,\u001b[0m \u001b[0mheight\u001b[0m\u001b[0;34m,\u001b[0m \u001b[0mwidth\u001b[0m\u001b[0;34m=\u001b[0m\u001b[0;36m0.8\u001b[0m\u001b[0;34m,\u001b[0m \u001b[0mbottom\u001b[0m\u001b[0;34m=\u001b[0m\u001b[0;32mNone\u001b[0m\u001b[0;34m,\u001b[0m \u001b[0;34m*\u001b[0m\u001b[0;34m,\u001b[0m \u001b[0malign\u001b[0m\u001b[0;34m=\u001b[0m\u001b[0;34m'center'\u001b[0m\u001b[0;34m,\u001b[0m\u001b[0;34m\u001b[0m\u001b[0;34m\u001b[0m\u001b[0m\n\u001b[1;32m   2438\u001b[0m         data=None, **kwargs):\n\u001b[0;32m-> 2439\u001b[0;31m     return gca().bar(\n\u001b[0m\u001b[1;32m   2440\u001b[0m         \u001b[0mx\u001b[0m\u001b[0;34m,\u001b[0m \u001b[0mheight\u001b[0m\u001b[0;34m,\u001b[0m \u001b[0mwidth\u001b[0m\u001b[0;34m=\u001b[0m\u001b[0mwidth\u001b[0m\u001b[0;34m,\u001b[0m \u001b[0mbottom\u001b[0m\u001b[0;34m=\u001b[0m\u001b[0mbottom\u001b[0m\u001b[0;34m,\u001b[0m \u001b[0malign\u001b[0m\u001b[0;34m=\u001b[0m\u001b[0malign\u001b[0m\u001b[0;34m,\u001b[0m\u001b[0;34m\u001b[0m\u001b[0;34m\u001b[0m\u001b[0m\n\u001b[1;32m   2441\u001b[0m         **({\"data\": data} if data is not None else {}), **kwargs)\n",
            "\u001b[0;32m/usr/local/lib/python3.10/dist-packages/matplotlib/__init__.py\u001b[0m in \u001b[0;36minner\u001b[0;34m(ax, data, *args, **kwargs)\u001b[0m\n\u001b[1;32m   1440\u001b[0m     \u001b[0;32mdef\u001b[0m \u001b[0minner\u001b[0m\u001b[0;34m(\u001b[0m\u001b[0max\u001b[0m\u001b[0;34m,\u001b[0m \u001b[0;34m*\u001b[0m\u001b[0margs\u001b[0m\u001b[0;34m,\u001b[0m \u001b[0mdata\u001b[0m\u001b[0;34m=\u001b[0m\u001b[0;32mNone\u001b[0m\u001b[0;34m,\u001b[0m \u001b[0;34m**\u001b[0m\u001b[0mkwargs\u001b[0m\u001b[0;34m)\u001b[0m\u001b[0;34m:\u001b[0m\u001b[0;34m\u001b[0m\u001b[0;34m\u001b[0m\u001b[0m\n\u001b[1;32m   1441\u001b[0m         \u001b[0;32mif\u001b[0m \u001b[0mdata\u001b[0m \u001b[0;32mis\u001b[0m \u001b[0;32mNone\u001b[0m\u001b[0;34m:\u001b[0m\u001b[0;34m\u001b[0m\u001b[0;34m\u001b[0m\u001b[0m\n\u001b[0;32m-> 1442\u001b[0;31m             \u001b[0;32mreturn\u001b[0m \u001b[0mfunc\u001b[0m\u001b[0;34m(\u001b[0m\u001b[0max\u001b[0m\u001b[0;34m,\u001b[0m \u001b[0;34m*\u001b[0m\u001b[0mmap\u001b[0m\u001b[0;34m(\u001b[0m\u001b[0msanitize_sequence\u001b[0m\u001b[0;34m,\u001b[0m \u001b[0margs\u001b[0m\u001b[0;34m)\u001b[0m\u001b[0;34m,\u001b[0m \u001b[0;34m**\u001b[0m\u001b[0mkwargs\u001b[0m\u001b[0;34m)\u001b[0m\u001b[0;34m\u001b[0m\u001b[0;34m\u001b[0m\u001b[0m\n\u001b[0m\u001b[1;32m   1443\u001b[0m \u001b[0;34m\u001b[0m\u001b[0m\n\u001b[1;32m   1444\u001b[0m         \u001b[0mbound\u001b[0m \u001b[0;34m=\u001b[0m \u001b[0mnew_sig\u001b[0m\u001b[0;34m.\u001b[0m\u001b[0mbind\u001b[0m\u001b[0;34m(\u001b[0m\u001b[0max\u001b[0m\u001b[0;34m,\u001b[0m \u001b[0;34m*\u001b[0m\u001b[0margs\u001b[0m\u001b[0;34m,\u001b[0m \u001b[0;34m**\u001b[0m\u001b[0mkwargs\u001b[0m\u001b[0;34m)\u001b[0m\u001b[0;34m\u001b[0m\u001b[0;34m\u001b[0m\u001b[0m\n",
            "\u001b[0;32m/usr/local/lib/python3.10/dist-packages/matplotlib/axes/_axes.py\u001b[0m in \u001b[0;36mbar\u001b[0;34m(self, x, height, width, bottom, align, **kwargs)\u001b[0m\n\u001b[1;32m   2478\u001b[0m                    hatch, patch_labels)\n\u001b[1;32m   2479\u001b[0m         \u001b[0;32mfor\u001b[0m \u001b[0ml\u001b[0m\u001b[0;34m,\u001b[0m \u001b[0mb\u001b[0m\u001b[0;34m,\u001b[0m \u001b[0mw\u001b[0m\u001b[0;34m,\u001b[0m \u001b[0mh\u001b[0m\u001b[0;34m,\u001b[0m \u001b[0mc\u001b[0m\u001b[0;34m,\u001b[0m \u001b[0me\u001b[0m\u001b[0;34m,\u001b[0m \u001b[0mlw\u001b[0m\u001b[0;34m,\u001b[0m \u001b[0mhtch\u001b[0m\u001b[0;34m,\u001b[0m \u001b[0mlbl\u001b[0m \u001b[0;32min\u001b[0m \u001b[0margs\u001b[0m\u001b[0;34m:\u001b[0m\u001b[0;34m\u001b[0m\u001b[0;34m\u001b[0m\u001b[0m\n\u001b[0;32m-> 2480\u001b[0;31m             r = mpatches.Rectangle(\n\u001b[0m\u001b[1;32m   2481\u001b[0m                 \u001b[0mxy\u001b[0m\u001b[0;34m=\u001b[0m\u001b[0;34m(\u001b[0m\u001b[0ml\u001b[0m\u001b[0;34m,\u001b[0m \u001b[0mb\u001b[0m\u001b[0;34m)\u001b[0m\u001b[0;34m,\u001b[0m \u001b[0mwidth\u001b[0m\u001b[0;34m=\u001b[0m\u001b[0mw\u001b[0m\u001b[0;34m,\u001b[0m \u001b[0mheight\u001b[0m\u001b[0;34m=\u001b[0m\u001b[0mh\u001b[0m\u001b[0;34m,\u001b[0m\u001b[0;34m\u001b[0m\u001b[0;34m\u001b[0m\u001b[0m\n\u001b[1;32m   2482\u001b[0m                 \u001b[0mfacecolor\u001b[0m\u001b[0;34m=\u001b[0m\u001b[0mc\u001b[0m\u001b[0;34m,\u001b[0m\u001b[0;34m\u001b[0m\u001b[0;34m\u001b[0m\u001b[0m\n",
            "\u001b[0;32m/usr/local/lib/python3.10/dist-packages/matplotlib/_api/deprecation.py\u001b[0m in \u001b[0;36mwrapper\u001b[0;34m(*args, **kwargs)\u001b[0m\n\u001b[1;32m    452\u001b[0m                 \u001b[0;34m\"parameter will become keyword-only %(removal)s.\"\u001b[0m\u001b[0;34m,\u001b[0m\u001b[0;34m\u001b[0m\u001b[0;34m\u001b[0m\u001b[0m\n\u001b[1;32m    453\u001b[0m                 name=name, obj_type=f\"parameter of {func.__name__}()\")\n\u001b[0;32m--> 454\u001b[0;31m         \u001b[0;32mreturn\u001b[0m \u001b[0mfunc\u001b[0m\u001b[0;34m(\u001b[0m\u001b[0;34m*\u001b[0m\u001b[0margs\u001b[0m\u001b[0;34m,\u001b[0m \u001b[0;34m**\u001b[0m\u001b[0mkwargs\u001b[0m\u001b[0;34m)\u001b[0m\u001b[0;34m\u001b[0m\u001b[0;34m\u001b[0m\u001b[0m\n\u001b[0m\u001b[1;32m    455\u001b[0m \u001b[0;34m\u001b[0m\u001b[0m\n\u001b[1;32m    456\u001b[0m     \u001b[0;31m# Don't modify *func*'s signature, as boilerplate.py needs it.\u001b[0m\u001b[0;34m\u001b[0m\u001b[0;34m\u001b[0m\u001b[0m\n",
            "\u001b[0;32m/usr/local/lib/python3.10/dist-packages/matplotlib/patches.py\u001b[0m in \u001b[0;36m__init__\u001b[0;34m(self, xy, width, height, angle, rotation_point, **kwargs)\u001b[0m\n\u001b[1;32m    712\u001b[0m             \u001b[0;34m%\u001b[0m\u001b[0;34m(\u001b[0m\u001b[0mPatch\u001b[0m\u001b[0;34m:\u001b[0m\u001b[0mkwdoc\u001b[0m\u001b[0;34m)\u001b[0m\u001b[0ms\u001b[0m\u001b[0;34m\u001b[0m\u001b[0;34m\u001b[0m\u001b[0m\n\u001b[1;32m    713\u001b[0m         \"\"\"\n\u001b[0;32m--> 714\u001b[0;31m         \u001b[0msuper\u001b[0m\u001b[0;34m(\u001b[0m\u001b[0;34m)\u001b[0m\u001b[0;34m.\u001b[0m\u001b[0m__init__\u001b[0m\u001b[0;34m(\u001b[0m\u001b[0;34m**\u001b[0m\u001b[0mkwargs\u001b[0m\u001b[0;34m)\u001b[0m\u001b[0;34m\u001b[0m\u001b[0;34m\u001b[0m\u001b[0m\n\u001b[0m\u001b[1;32m    715\u001b[0m         \u001b[0mself\u001b[0m\u001b[0;34m.\u001b[0m\u001b[0m_x0\u001b[0m \u001b[0;34m=\u001b[0m \u001b[0mxy\u001b[0m\u001b[0;34m[\u001b[0m\u001b[0;36m0\u001b[0m\u001b[0;34m]\u001b[0m\u001b[0;34m\u001b[0m\u001b[0;34m\u001b[0m\u001b[0m\n\u001b[1;32m    716\u001b[0m         \u001b[0mself\u001b[0m\u001b[0;34m.\u001b[0m\u001b[0m_y0\u001b[0m \u001b[0;34m=\u001b[0m \u001b[0mxy\u001b[0m\u001b[0;34m[\u001b[0m\u001b[0;36m1\u001b[0m\u001b[0;34m]\u001b[0m\u001b[0;34m\u001b[0m\u001b[0;34m\u001b[0m\u001b[0m\n",
            "\u001b[0;32m/usr/local/lib/python3.10/dist-packages/matplotlib/_api/deprecation.py\u001b[0m in \u001b[0;36mwrapper\u001b[0;34m(*args, **kwargs)\u001b[0m\n\u001b[1;32m    452\u001b[0m                 \u001b[0;34m\"parameter will become keyword-only %(removal)s.\"\u001b[0m\u001b[0;34m,\u001b[0m\u001b[0;34m\u001b[0m\u001b[0;34m\u001b[0m\u001b[0m\n\u001b[1;32m    453\u001b[0m                 name=name, obj_type=f\"parameter of {func.__name__}()\")\n\u001b[0;32m--> 454\u001b[0;31m         \u001b[0;32mreturn\u001b[0m \u001b[0mfunc\u001b[0m\u001b[0;34m(\u001b[0m\u001b[0;34m*\u001b[0m\u001b[0margs\u001b[0m\u001b[0;34m,\u001b[0m \u001b[0;34m**\u001b[0m\u001b[0mkwargs\u001b[0m\u001b[0;34m)\u001b[0m\u001b[0;34m\u001b[0m\u001b[0;34m\u001b[0m\u001b[0m\n\u001b[0m\u001b[1;32m    455\u001b[0m \u001b[0;34m\u001b[0m\u001b[0m\n\u001b[1;32m    456\u001b[0m     \u001b[0;31m# Don't modify *func*'s signature, as boilerplate.py needs it.\u001b[0m\u001b[0;34m\u001b[0m\u001b[0;34m\u001b[0m\u001b[0m\n",
            "\u001b[0;32m/usr/local/lib/python3.10/dist-packages/matplotlib/patches.py\u001b[0m in \u001b[0;36m__init__\u001b[0;34m(self, edgecolor, facecolor, color, linewidth, linestyle, antialiased, hatch, fill, capstyle, joinstyle, **kwargs)\u001b[0m\n\u001b[1;32m     91\u001b[0m         \u001b[0mself\u001b[0m\u001b[0;34m.\u001b[0m\u001b[0mset_fill\u001b[0m\u001b[0;34m(\u001b[0m\u001b[0mfill\u001b[0m\u001b[0;34m)\u001b[0m\u001b[0;34m\u001b[0m\u001b[0;34m\u001b[0m\u001b[0m\n\u001b[1;32m     92\u001b[0m         \u001b[0mself\u001b[0m\u001b[0;34m.\u001b[0m\u001b[0mset_linestyle\u001b[0m\u001b[0;34m(\u001b[0m\u001b[0mlinestyle\u001b[0m\u001b[0;34m)\u001b[0m\u001b[0;34m\u001b[0m\u001b[0;34m\u001b[0m\u001b[0m\n\u001b[0;32m---> 93\u001b[0;31m         \u001b[0mself\u001b[0m\u001b[0;34m.\u001b[0m\u001b[0mset_linewidth\u001b[0m\u001b[0;34m(\u001b[0m\u001b[0mlinewidth\u001b[0m\u001b[0;34m)\u001b[0m\u001b[0;34m\u001b[0m\u001b[0;34m\u001b[0m\u001b[0m\n\u001b[0m\u001b[1;32m     94\u001b[0m         \u001b[0mself\u001b[0m\u001b[0;34m.\u001b[0m\u001b[0mset_antialiased\u001b[0m\u001b[0;34m(\u001b[0m\u001b[0mantialiased\u001b[0m\u001b[0;34m)\u001b[0m\u001b[0;34m\u001b[0m\u001b[0;34m\u001b[0m\u001b[0m\n\u001b[1;32m     95\u001b[0m         \u001b[0mself\u001b[0m\u001b[0;34m.\u001b[0m\u001b[0mset_hatch\u001b[0m\u001b[0;34m(\u001b[0m\u001b[0mhatch\u001b[0m\u001b[0;34m)\u001b[0m\u001b[0;34m\u001b[0m\u001b[0;34m\u001b[0m\u001b[0m\n",
            "\u001b[0;32m/usr/local/lib/python3.10/dist-packages/matplotlib/patches.py\u001b[0m in \u001b[0;36mset_linewidth\u001b[0;34m(self, w)\u001b[0m\n\u001b[1;32m    392\u001b[0m         \u001b[0;32mif\u001b[0m \u001b[0mw\u001b[0m \u001b[0;32mis\u001b[0m \u001b[0;32mNone\u001b[0m\u001b[0;34m:\u001b[0m\u001b[0;34m\u001b[0m\u001b[0;34m\u001b[0m\u001b[0m\n\u001b[1;32m    393\u001b[0m             \u001b[0mw\u001b[0m \u001b[0;34m=\u001b[0m \u001b[0mmpl\u001b[0m\u001b[0;34m.\u001b[0m\u001b[0mrcParams\u001b[0m\u001b[0;34m[\u001b[0m\u001b[0;34m'patch.linewidth'\u001b[0m\u001b[0;34m]\u001b[0m\u001b[0;34m\u001b[0m\u001b[0;34m\u001b[0m\u001b[0m\n\u001b[0;32m--> 394\u001b[0;31m         \u001b[0mself\u001b[0m\u001b[0;34m.\u001b[0m\u001b[0m_linewidth\u001b[0m \u001b[0;34m=\u001b[0m \u001b[0mfloat\u001b[0m\u001b[0;34m(\u001b[0m\u001b[0mw\u001b[0m\u001b[0;34m)\u001b[0m\u001b[0;34m\u001b[0m\u001b[0;34m\u001b[0m\u001b[0m\n\u001b[0m\u001b[1;32m    395\u001b[0m         self._dash_pattern = mlines._scale_dashes(\n\u001b[1;32m    396\u001b[0m             *self._unscaled_dash_pattern, w)\n",
            "\u001b[0;31mTypeError\u001b[0m: only length-1 arrays can be converted to Python scalars"
          ]
        },
        {
          "output_type": "display_data",
          "data": {
            "text/plain": [
              "<Figure size 640x480 with 1 Axes>"
            ],
            "image/png": "[encoded data removed]"
          },
          "metadata": {}
        }
      ]
    },
    {
      "cell_type": "markdown",
      "source": [
        "### **Agent**"
      ],
      "metadata": {
        "id": "mNDnsoYEBYYY"
      }
    },
    {
      "cell_type": "code",
      "source": [
        "#my_agent = Agent (A=A, B=B, C=C, D=D)"
      ],
      "metadata": {
        "id": "Id-TzlQQCEqV"
      },
      "execution_count": null,
      "outputs": []
    },
    {
      "cell_type": "code",
      "source": [],
      "metadata": {
        "id": "E2hDU8FCCElQ"
      },
      "execution_count": null,
      "outputs": []
    },
    {
      "cell_type": "code",
      "source": [],
      "metadata": {
        "id": "1n0mepMyCGwf"
      },
      "execution_count": null,
      "outputs": []
    },
    {
      "cell_type": "code",
      "source": [],
      "metadata": {
        "id": "dQu1dyX8CGtT"
      },
      "execution_count": null,
      "outputs": []
    },
    {
      "cell_type": "markdown",
      "source": [
        "### **AIF loop**"
      ],
      "metadata": {
        "id": "KuJPwCK0B7Rg"
      }
    },
    {
      "cell_type": "code",
      "source": [],
      "metadata": {
        "id": "aPgZwfJYCFqA"
      },
      "execution_count": null,
      "outputs": []
    },
    {
      "cell_type": "code",
      "source": [],
      "metadata": {
        "id": "9top7fPvCFcR"
      },
      "execution_count": null,
      "outputs": []
    },
    {
      "cell_type": "code",
      "source": [],
      "metadata": {
        "id": "sdjbd7U_CFY6"
      },
      "execution_count": null,
      "outputs": []
    },
    {
      "cell_type": "markdown",
      "source": [
        "# **Case 2**\n",
        "-----\n",
        "The environment changes: food that is eaten then appears again after x time steps.The agent should learn how to not be greedy over time.\n",
        "This might be done by giving more dimensions to hidden states *food_left* and *satiety*?\n",
        "\n"
      ],
      "metadata": {
        "id": "MjJRD4OtocoY"
      }
    },
    {
      "cell_type": "code",
      "source": [],
      "metadata": {
        "id": "Xs9JlLu3pKqM"
      },
      "execution_count": null,
      "outputs": []
    },
    {
      "cell_type": "code",
      "source": [],
      "metadata": {
        "id": "9NnwpsXmpJ5L"
      },
      "execution_count": null,
      "outputs": []
    },
    {
      "cell_type": "code",
      "source": [],
      "metadata": {
        "id": "kttH-F3Szf1q"
      },
      "execution_count": null,
      "outputs": []
    },
    {
      "cell_type": "code",
      "source": [],
      "metadata": {
        "id": "XkIHquFHzfyN"
      },
      "execution_count": null,
      "outputs": []
    },
    {
      "cell_type": "code",
      "source": [],
      "metadata": {
        "id": "Om4bRlD8zfv4"
      },
      "execution_count": null,
      "outputs": []
    },
    {
      "cell_type": "code",
      "source": [],
      "metadata": {
        "id": "w5oF-PFgzftQ"
      },
      "execution_count": null,
      "outputs": []
    },
    {
      "cell_type": "code",
      "source": [],
      "metadata": {
        "id": "8vvsjOq2zfq6"
      },
      "execution_count": null,
      "outputs": []
    },
    {
      "cell_type": "code",
      "source": [],
      "metadata": {
        "id": "fluNAYWdzfoV"
      },
      "execution_count": null,
      "outputs": []
    },
    {
      "cell_type": "code",
      "source": [],
      "metadata": {
        "id": "Pfe2zlH2zfl3"
      },
      "execution_count": null,
      "outputs": []
    },
    {
      "cell_type": "code",
      "source": [],
      "metadata": {
        "id": "q3PDC0Odzfja"
      },
      "execution_count": null,
      "outputs": []
    },
    {
      "cell_type": "markdown",
      "source": [
        "# **Previous attempts**\n",
        "\n",
        "----"
      ],
      "metadata": {
        "id": "VbS30bvqnxw3"
      }
    },
    {
      "cell_type": "markdown",
      "metadata": {
        "id": "dbGwXp2Czvli"
      },
      "source": [
        "## **First attempts**\n",
        "Dimensionalities of the hidden state factors and the control states"
      ]
    },
    {
      "cell_type": "code",
      "execution_count": null,
      "metadata": {
        "id": "hc89Vmv-vhkN"
      },
      "outputs": [],
      "source": [
        "\"\"\" Define dimensionalities of the hidden state factors and control state factors \"\"\" #my hidden state: 1 (food [0,1])\n",
        "num_states = [1, 1] # a list of dimensionalities of the hidden state factor\n",
        "num_factors = len(num_states) # the total number of hidden state factors\n",
        "\n",
        "num_controls = [2, 2] # a list of the dimensionalities of each control state factor. my control states: 2 (eat, do not eat)\n",
        "num_control_factors = len(num_controls) # the total number of control states factors"
      ]
    },
    {
      "cell_type": "code",
      "execution_count": null,
      "metadata": {
        "colab": {
          "base_uri": "https://localhost:8080/"
        },
        "id": "IxKVzGugWfrl",
        "outputId": "9d655467-376b-4632-b324-e4dc8b2b1334"
      },
      "outputs": [
        {
          "output_type": "execute_result",
          "data": {
            "text/plain": [
              "2"
            ]
          },
          "metadata": {},
          "execution_count": 4
        }
      ],
      "source": [
        "num_factors"
      ]
    },
    {
      "cell_type": "code",
      "execution_count": null,
      "metadata": {
        "colab": {
          "base_uri": "https://localhost:8080/"
        },
        "id": "xTjaWtXnjvB2",
        "outputId": "ebe584a2-2ca3-491a-80ac-052e8f6f2af5"
      },
      "outputs": [
        {
          "output_type": "execute_result",
          "data": {
            "text/plain": [
              "[1, 1]"
            ]
          },
          "metadata": {},
          "execution_count": 5
        }
      ],
      "source": [
        "num_states"
      ]
    },
    {
      "cell_type": "code",
      "execution_count": null,
      "metadata": {
        "colab": {
          "base_uri": "https://localhost:8080/"
        },
        "id": "TotGfBZ4ePh6",
        "outputId": "b71c8df6-5c3e-4cd4-8c9a-6969cb5b3583"
      },
      "outputs": [
        {
          "output_type": "execute_result",
          "data": {
            "text/plain": [
              "(1, 1, 2)"
            ]
          },
          "metadata": {},
          "execution_count": 6
        }
      ],
      "source": [
        "B = utils.initialize_empty_B(num_states, num_controls)\n",
        "\n",
        "B[0].shape #1 room and 2 actions"
      ]
    },
    {
      "cell_type": "code",
      "execution_count": null,
      "metadata": {
        "colab": {
          "base_uri": "https://localhost:8080/"
        },
        "id": "mj8lx9U9eztM",
        "outputId": "c9f79246-7a82-4915-923d-f710dbaa815e"
      },
      "outputs": [
        {
          "output_type": "execute_result",
          "data": {
            "text/plain": [
              "(1, 1, 2)"
            ]
          },
          "metadata": {},
          "execution_count": 7
        }
      ],
      "source": [
        "B[1].shape"
      ]
    },
    {
      "cell_type": "code",
      "source": [],
      "metadata": {
        "id": "GprK9Nsw3tPx"
      },
      "execution_count": null,
      "outputs": []
    },
    {
      "cell_type": "markdown",
      "source": [
        "**2 Matrix A**"
      ],
      "metadata": {
        "id": "BnqlpdOgdtlW"
      }
    },
    {
      "cell_type": "markdown",
      "metadata": {
        "id": "NofeiK3YZng4"
      },
      "source": [
        "*2.1 From Heins' nb multi-armed*"
      ]
    },
    {
      "cell_type": "markdown",
      "metadata": {
        "id": "jLBkaOPjZ8HP"
      },
      "source": [
        "Let's start with a **single observation modality**, i.e. food left\n"
      ]
    },
    {
      "cell_type": "markdown",
      "source": [
        "\n",
        " But the following considers 1 obs (food_left). What about obs satiety? How do we add it?"
      ],
      "metadata": {
        "id": "9TEGskK_LkCL"
      }
    },
    {
      "cell_type": "code",
      "execution_count": null,
      "metadata": {
        "id": "Pd-i1y4IbNbI"
      },
      "outputs": [],
      "source": [
        "num_obs = [3] #only 1 obs\n",
        "num_modalities = len(num_obs)\n",
        "\n",
        "A = utils.initialize_empty_A(num_obs, num_states)\n",
        "A_food_left_dims = num_obs + num_states"
      ]
    },
    {
      "cell_type": "code",
      "execution_count": null,
      "metadata": {
        "colab": {
          "base_uri": "https://localhost:8080/"
        },
        "id": "pEepx6B_WkD8",
        "outputId": "76c39ec6-eca2-4b45-dff0-6a02ebd82f5e"
      },
      "outputs": [
        {
          "output_type": "execute_result",
          "data": {
            "text/plain": [
              "1"
            ]
          },
          "metadata": {},
          "execution_count": 7
        }
      ],
      "source": [
        "num_modalities"
      ]
    },
    {
      "cell_type": "code",
      "execution_count": null,
      "metadata": {
        "colab": {
          "base_uri": "https://localhost:8080/"
        },
        "id": "NEoSM8fto1Z2",
        "outputId": "675fcea9-0c62-493a-8169-28b90a23dbbe"
      },
      "outputs": [
        {
          "output_type": "execute_result",
          "data": {
            "text/plain": [
              "[3, 1, 1]"
            ]
          },
          "metadata": {},
          "execution_count": 8
        }
      ],
      "source": [
        "A_food_left_dims"
      ]
    },
    {
      "cell_type": "code",
      "execution_count": null,
      "metadata": {
        "colab": {
          "base_uri": "https://localhost:8080/"
        },
        "id": "mGHI0pV_4RCC",
        "outputId": "caa0f544-5879-4672-966c-21ae036db995"
      },
      "outputs": [
        {
          "output_type": "execute_result",
          "data": {
            "text/plain": [
              "(3, 1, 1)"
            ]
          },
          "metadata": {},
          "execution_count": 9
        }
      ],
      "source": [
        "A[0].shape"
      ]
    },
    {
      "cell_type": "code",
      "execution_count": null,
      "metadata": {
        "id": "mmu9174YbM4j"
      },
      "outputs": [],
      "source": [
        "#is this the correct way to populate it?\n",
        "\n",
        "A[0][0,:,0] = np.eye(1)\n",
        "\n",
        "#A[0][1,:,1] = np.eye(1)\n",
        "\n",
        "#A[0][2,:,2] = np.eye(1)"
      ]
    },
    {
      "cell_type": "markdown",
      "metadata": {
        "id": "yOalUg1-iRQo"
      },
      "source": [
        "Filling out the entries"
      ]
    },
    {
      "cell_type": "code",
      "execution_count": null,
      "metadata": {
        "colab": {
          "base_uri": "https://localhost:8080/"
        },
        "id": "MnQB6wS8t715",
        "outputId": "8dc44a1b-9cc0-4fb6-e781-b496121358d9"
      },
      "outputs": [
        {
          "output_type": "execute_result",
          "data": {
            "text/plain": [
              "array([[1.]])"
            ]
          },
          "metadata": {},
          "execution_count": 10
        }
      ],
      "source": [
        "np.eye(1)"
      ]
    },
    {
      "cell_type": "code",
      "execution_count": null,
      "metadata": {
        "colab": {
          "base_uri": "https://localhost:8080/",
          "height": 437
        },
        "id": "e6pfW150iR9V",
        "outputId": "97bb3d96-6cea-4b40-e164-1d23aa1db99d"
      },
      "outputs": [
        {
          "output_type": "display_data",
          "data": {
            "text/plain": [
              "<Figure size 640x480 with 2 Axes>"
            ],
            "image/png": "[encoded data removed]"
          },
          "metadata": {}
        }
      ],
      "source": [
        "utils.plot_likelihood(A[0][:,:,0], title = \"P(o | x, y == 0)\") #title? meaning?"
      ]
    },
    {
      "cell_type": "code",
      "execution_count": null,
      "metadata": {
        "id": "w1piJp_giRyl"
      },
      "outputs": [],
      "source": [
        "#utils.plot_likelihood(A[0][:,:,1], title = \"P(o | x, y == 1)\" )"
      ]
    },
    {
      "cell_type": "markdown",
      "metadata": {
        "id": "vCSV_e5_-qeJ"
      },
      "source": [
        "*2.2 OR from pymdp paper*"
      ]
    },
    {
      "cell_type": "code",
      "execution_count": null,
      "metadata": {
        "id": "aOsy7iciY4Ej"
      },
      "outputs": [],
      "source": [
        "#create a simple model with 1 hidden state factor and 1 observation modality\n",
        "n_obs = 3 #food_left\n",
        "n_states = 3\n",
        "A = utils.obj_array(1)"
      ]
    },
    {
      "cell_type": "code",
      "execution_count": null,
      "metadata": {
        "colab": {
          "base_uri": "https://localhost:8080/"
        },
        "id": "wVWPnKLa_vlG",
        "outputId": "03f744b3-9ba7-42da-c7b2-dffd0b59a19c"
      },
      "outputs": [
        {
          "output_type": "execute_result",
          "data": {
            "text/plain": [
              "(1,)"
            ]
          },
          "metadata": {},
          "execution_count": 12
        }
      ],
      "source": [
        "A.shape"
      ]
    },
    {
      "cell_type": "code",
      "execution_count": null,
      "metadata": {
        "id": "jfvvZlDh-dNn"
      },
      "outputs": [],
      "source": [
        "#This is just with 1 obs, but we have 2\n",
        "A[0] = np.array ([[1.0, 0.0, 0.0] ,\n",
        "                  [0.0, 1.0, 0.0] ,\n",
        "                  [0.0, 0.0, 1.0]])"
      ]
    },
    {
      "cell_type": "code",
      "execution_count": null,
      "metadata": {
        "id": "3dTZi6hpAbFR"
      },
      "outputs": [],
      "source": [
        "#introduce uncertainty into the hidden state\n",
        "food_left = 0.5\n",
        "A[0][:,2] = maths.softmax(food_left* A[0] [:,2])"
      ]
    },
    {
      "cell_type": "code",
      "execution_count": null,
      "metadata": {
        "id": "buvXKXFGB0Hg"
      },
      "outputs": [],
      "source": [
        "#utils.plot_likelihood(A[0][:,2], title = \"foo\" ) #cannot plot since is 2D"
      ]
    },
    {
      "cell_type": "markdown",
      "source": [
        "**3. Matrix B**"
      ],
      "metadata": {
        "id": "CZ-5013AyLGY"
      }
    },
    {
      "cell_type": "markdown",
      "source": [
        "*3.1 From Heins' nb* - failed"
      ],
      "metadata": {
        "id": "QgJkJV4ZOQPO"
      }
    },
    {
      "cell_type": "code",
      "execution_count": null,
      "metadata": {
        "id": "GIxxF8wyvx8f"
      },
      "outputs": [],
      "source": [
        "\"\"\" Build an object array for storing the factor-specific B matrices \"\"\"\n",
        "#B = utils.initialize_empty_B(num_states, num_controls) #transition model"
      ]
    },
    {
      "cell_type": "code",
      "execution_count": null,
      "metadata": {
        "id": "m9Dra-Kbv0-Q"
      },
      "outputs": [],
      "source": [
        "#B[0].shape #1 location, 2 control states (eat, do not eat)"
      ]
    },
    {
      "cell_type": "code",
      "execution_count": null,
      "metadata": {
        "id": "kxlb0eAYv9cV"
      },
      "outputs": [],
      "source": [
        "#B #empty, to be filled in"
      ]
    },
    {
      "cell_type": "code",
      "execution_count": null,
      "metadata": {
        "id": "y5unnehf0qDv"
      },
      "outputs": [],
      "source": [
        "#for f, ns in enumerate(num_states):\n",
        "\n",
        " # \"\"\" Initialize the B matrix for this factor \"\"\"\n",
        "  #B[f] = np.zeros((ns, ns, num_controls[f]))\n",
        "\n",
        "#EAT\n",
        "#B[f][ , , 0] = 1.0\n",
        "#B[f][ , , ] =\n",
        "\n",
        "#DO NOT EAT\n",
        "#B[f][:, : , 1] = np.eye(ns)"
      ]
    },
    {
      "cell_type": "markdown",
      "metadata": {
        "id": "5tIChJD-ymB5"
      },
      "source": [
        "*3.2 From pymdp paper*"
      ]
    },
    {
      "cell_type": "code",
      "execution_count": null,
      "metadata": {
        "id": "_SXlGTr0yn1A"
      },
      "outputs": [],
      "source": [
        "# create a simple transition model with two possible actions\n",
        "\n",
        "B = utils.obj_array (1)\n",
        "B[0] = np.zeros ((3, 3, 2)) #n_obs = 3 (we're considering obs food_left for 3 dim); n_states = 3 (only 1 hidden state); control state = 2 (eat, do not)\n",
        "\n",
        "\n",
        "# DO NOT EAT leads to first 2 states with uncertainty\n",
        "\n",
        "B [0][: ,: ,0] = np. array ([[0.5 , 0.5 , 0.5] ,\n",
        "                             [0.5 , 0.5 , 0.5] ,\n",
        "                             [0.0 , 0.0 , 0.0]])\n",
        "\n",
        "# EAT leads to state with certainty: food_left = 0\n",
        "\n",
        "B [0][: ,: ,1] = np. array ([[0.0 , 0.0 , 0.0] ,\n",
        "                             [0.0 , 0.0 , 0.0] ,\n",
        "                             [1.0 , 1.0 , 1.0]])\n",
        "\n",
        "\n"
      ]
    },
    {
      "cell_type": "code",
      "source": [
        "B"
      ],
      "metadata": {
        "colab": {
          "base_uri": "https://localhost:8080/"
        },
        "id": "DKPZ253YKsod",
        "outputId": "08ad1613-6ea1-4e64-ea04-b8a2c8c2d176"
      },
      "execution_count": null,
      "outputs": [
        {
          "output_type": "execute_result",
          "data": {
            "text/plain": [
              "array([array([[[0.5, 0. ],\n",
              "               [0.5, 0. ],\n",
              "               [0.5, 0. ]],\n",
              "\n",
              "              [[0.5, 0. ],\n",
              "               [0.5, 0. ],\n",
              "               [0.5, 0. ]],\n",
              "\n",
              "              [[0. , 1. ],\n",
              "               [0. , 1. ],\n",
              "               [0. , 1. ]]])], dtype=object)"
            ]
          },
          "metadata": {},
          "execution_count": 87
        }
      ]
    },
    {
      "cell_type": "code",
      "source": [
        "B[0].shape"
      ],
      "metadata": {
        "colab": {
          "base_uri": "https://localhost:8080/"
        },
        "id": "sofmQ2MuKjz0",
        "outputId": "b4f7a262-3a4b-43e4-e610-a4fc1971bc2e"
      },
      "execution_count": null,
      "outputs": [
        {
          "output_type": "execute_result",
          "data": {
            "text/plain": [
              "(3, 3, 2)"
            ]
          },
          "metadata": {},
          "execution_count": 88
        }
      ]
    },
    {
      "cell_type": "code",
      "source": [
        "B.sum(axis = 0)"
      ],
      "metadata": {
        "colab": {
          "base_uri": "https://localhost:8080/"
        },
        "id": "JG01fgDOKNLe",
        "outputId": "604559ee-35c0-43e5-be46-52a9d9a891d6"
      },
      "execution_count": null,
      "outputs": [
        {
          "output_type": "execute_result",
          "data": {
            "text/plain": [
              "array([[[0.5, 0. ],\n",
              "        [0.5, 0. ],\n",
              "        [0.5, 0. ]],\n",
              "\n",
              "       [[0.5, 0. ],\n",
              "        [0.5, 0. ],\n",
              "        [0.5, 0. ]],\n",
              "\n",
              "       [[0. , 1. ],\n",
              "        [0. , 1. ],\n",
              "        [0. , 1. ]]])"
            ]
          },
          "metadata": {},
          "execution_count": 89
        }
      ]
    },
    {
      "cell_type": "markdown",
      "metadata": {
        "id": "Ngqx5rk-CCZA"
      },
      "source": [
        "Plot the B matrix"
      ]
    },
    {
      "cell_type": "code",
      "execution_count": null,
      "metadata": {
        "colab": {
          "base_uri": "https://localhost:8080/",
          "height": 437
        },
        "id": "sip8xj732zkg",
        "outputId": "4c727da9-f854-4250-caf1-7bbb0cb0181e"
      },
      "outputs": [
        {
          "output_type": "display_data",
          "data": {
            "text/plain": [
              "<Figure size 640x480 with 2 Axes>"
            ],
            "image/png": "[encoded data removed]"
          },
          "metadata": {}
        }
      ],
      "source": [
        "utils.plot_likelihood(B[0][:,:,0], title = 'DO NOT EAT') #  #this action takes uncertainty: the agent is not sure what's gonna happen if it does not eat"
      ]
    },
    {
      "cell_type": "code",
      "execution_count": null,
      "metadata": {
        "colab": {
          "base_uri": "https://localhost:8080/",
          "height": 437
        },
        "id": "hh9_5KA32zbB",
        "outputId": "82e17155-8f87-4994-e765-d4590049f884"
      },
      "outputs": [
        {
          "output_type": "display_data",
          "data": {
            "text/plain": [
              "<Figure size 640x480 with 2 Axes>"
            ],
            "image/png": "[encoded data removed]"
          },
          "metadata": {}
        }
      ],
      "source": [
        "utils.plot_likelihood(B[0][:,:,1], title = 'EAT') #eat will bring to smth certain: food_left = 0"
      ]
    },
    {
      "cell_type": "markdown",
      "source": [
        "**4. Vectors C - D**"
      ],
      "metadata": {
        "id": "Z6gXYLnsyQi4"
      }
    },
    {
      "cell_type": "markdown",
      "source": [
        "\n",
        " this considers 1 obs (food_left). What about obs satiety? How do we add it?"
      ],
      "metadata": {
        "id": "iTFw3WFayCdW"
      }
    },
    {
      "cell_type": "markdown",
      "source": [
        "*From pymdp paper*\n"
      ],
      "metadata": {
        "id": "3jqroZJpyCIK"
      }
    },
    {
      "cell_type": "code",
      "source": [
        "from pymdp.maths import softmax"
      ],
      "metadata": {
        "id": "keC1GAreiKXx"
      },
      "execution_count": null,
      "outputs": []
    },
    {
      "cell_type": "code",
      "source": [
        "#specify prior preferences (C vector)\n",
        "C = utils.obj_array_uniform([n_obs]) #specified where?\n",
        "C"
      ],
      "metadata": {
        "colab": {
          "base_uri": "https://localhost:8080/"
        },
        "id": "9PwGqrEs1DDj",
        "outputId": "5d944027-5224-4a3f-8b70-52b21c38a111"
      },
      "execution_count": null,
      "outputs": [
        {
          "output_type": "execute_result",
          "data": {
            "text/plain": [
              "array([array([0.33333333, 0.33333333, 0.33333333])], dtype=object)"
            ]
          },
          "metadata": {},
          "execution_count": 72
        }
      ]
    },
    {
      "cell_type": "code",
      "source": [
        "C.shape"
      ],
      "metadata": {
        "colab": {
          "base_uri": "https://localhost:8080/"
        },
        "id": "7AOA_ykuI8ro",
        "outputId": "21ba0cfa-b91f-41ad-ed29-e64066354d5e"
      },
      "execution_count": null,
      "outputs": [
        {
          "output_type": "execute_result",
          "data": {
            "text/plain": [
              "(1,)"
            ]
          },
          "metadata": {},
          "execution_count": 73
        }
      ]
    },
    {
      "cell_type": "code",
      "source": [
        "#plot?\n",
        "#utils.plot_beliefs(softmax(C), title = \"Prior preferences\")"
      ],
      "metadata": {
        "id": "j5OHmSwvXF6z"
      },
      "execution_count": null,
      "outputs": []
    },
    {
      "cell_type": "code",
      "source": [
        "#specify prior over hidden states (D vector) #how's the world at t0\n",
        "D = utils.obj_array(1)\n",
        "D[0] = utils.onehot(1, n_states)\n",
        "D"
      ],
      "metadata": {
        "colab": {
          "base_uri": "https://localhost:8080/"
        },
        "id": "hTcYpKthyEu7",
        "outputId": "2621bf6d-559c-4bd0-ed0a-0a6ad662ada0"
      },
      "execution_count": null,
      "outputs": [
        {
          "output_type": "execute_result",
          "data": {
            "text/plain": [
              "array([array([0., 1., 0.])], dtype=object)"
            ]
          },
          "metadata": {},
          "execution_count": 74
        }
      ]
    },
    {
      "cell_type": "code",
      "source": [
        "D.shape"
      ],
      "metadata": {
        "colab": {
          "base_uri": "https://localhost:8080/"
        },
        "id": "3f9PhdnFI36w",
        "outputId": "468288d3-c5d4-43ea-9659-55137fdb87b2"
      },
      "execution_count": null,
      "outputs": [
        {
          "output_type": "execute_result",
          "data": {
            "text/plain": [
              "(1,)"
            ]
          },
          "metadata": {},
          "execution_count": 75
        }
      ]
    },
    {
      "cell_type": "code",
      "source": [
        "#plot? understand what it means\n",
        "utils.plot_beliefs(softmax(D[0]), title = \"Prior beliefs about probability of ? \")"
      ],
      "metadata": {
        "colab": {
          "base_uri": "https://localhost:8080/",
          "height": 452
        },
        "id": "1S9f4T15XZR7",
        "outputId": "16d36658-802e-4c5f-e429-c6a1ae91b9bf"
      },
      "execution_count": null,
      "outputs": [
        {
          "output_type": "display_data",
          "data": {
            "text/plain": [
              "<Figure size 640x480 with 1 Axes>"
            ],
            "image/png": "[encoded data removed]"
          },
          "metadata": {}
        }
      ]
    },
    {
      "cell_type": "code",
      "source": [
        "# instantiate the agent\n",
        "my_agent = Agent (A=A, B=B, C=C, D=D)"
      ],
      "metadata": {
        "id": "OZM1TebS2COv"
      },
      "execution_count": null,
      "outputs": []
    },
    {
      "cell_type": "markdown",
      "source": [
        "**5. Another generative model**"
      ],
      "metadata": {
        "id": "D_3n4vbByXw_"
      }
    },
    {
      "cell_type": "markdown",
      "metadata": {
        "id": "BEowwdH9DNtr"
      },
      "source": [
        "As above, this considers 1 obs (food_left). What about obs satiety? How do we add it?"
      ]
    },
    {
      "cell_type": "markdown",
      "source": [
        "*5.1 From pymdp paper*"
      ],
      "metadata": {
        "id": "ymmtYdca2dpI"
      }
    },
    {
      "cell_type": "code",
      "source": [
        "# write a simple environment class, where state depends on the action\n",
        "# probabilistically and observation is deterministic function of the state\n",
        "# except for state 2, where it’s randomly sampled %%\n",
        "\n",
        "from pymdp.envs import Env"
      ],
      "metadata": {
        "id": "E6PY4An0WX1D"
      },
      "execution_count": null,
      "outputs": []
    },
    {
      "cell_type": "code",
      "source": [
        "# sub - class it from the base Env class\n",
        "class custom_env(Env):\n",
        "\n",
        "  def __init__(self):\n",
        "    self.state = 0\n",
        "\n",
        "  def step(self, action):\n",
        "\n",
        "    if action == 0: #NOT EAT = uncertainty\n",
        "      self.state == 0 if np.random.rand() > 0.5 else 1\n",
        "\n",
        "    if action == 1: #EAT\n",
        "      self.state = 2 # food_left = 0\n",
        "\n",
        "    if self.state == 0:\n",
        "      obs = 0\n",
        "    elif self.state == 1:\n",
        "      obs = 1\n",
        "    elif self.state == 2:\n",
        "      obs = np.random.randint(3)\n",
        "\n",
        "      return obs"
      ],
      "metadata": {
        "id": "YAqQETzqWYcO"
      },
      "execution_count": null,
      "outputs": []
    },
    {
      "cell_type": "code",
      "source": [
        "env = custom_env()\n",
        "\n",
        "action = 0"
      ],
      "metadata": {
        "id": "PdVIR9NdcxGa"
      },
      "execution_count": null,
      "outputs": []
    },
    {
      "cell_type": "code",
      "source": [
        "T = 10 #length of AIF loop in the time? to be decided\n",
        "for t in range (T):\n",
        "\n",
        "  #sample an observation from the environment\n",
        "  o_t = env.step(action)"
      ],
      "metadata": {
        "id": "N0RpgXlIWYRi"
      },
      "execution_count": null,
      "outputs": []
    },
    {
      "cell_type": "code",
      "source": [
        "  #do AIF\n",
        "  qs = my_agent.infer_states([o_t]) #get posterior over hidden states\n",
        "\n",
        "  my_agent.infer_policies()\n",
        "  action = my_agent.sample_action()\n",
        "\n",
        "  #convert action into int, for use with environment\n",
        "  action = int(action.squeeze())"
      ],
      "metadata": {
        "id": "hQ_rte6GWYET"
      },
      "execution_count": null,
      "outputs": []
    },
    {
      "cell_type": "markdown",
      "metadata": {
        "id": "wW6MiV1HQ9pc"
      },
      "source": [
        "*5.2 From Heins' nb*\n",
        "\n",
        "\n"
      ]
    },
    {
      "cell_type": "code",
      "execution_count": null,
      "metadata": {
        "id": "we9dDIto2zV2"
      },
      "outputs": [],
      "source": [
        "# specify dimensionalities\n",
        "# attempt: change factors and modality dimensions from 0,1 to concepts (Collis, Kinghorn 23)\n",
        "\n",
        " #hidden state\n",
        "s_food = ['not present', 'present']\n",
        "\n",
        "\"\"\" Define `num_states` and `num_factors` below \"\"\"\n",
        "num_states = [len(s_food)]\n",
        "num_factors = len(num_states)\n",
        "\n",
        "#control states\n",
        "action1 = ['Do not eat'] #uncertainty\n",
        "action2 = ['Eat']\n",
        "\n",
        "\"\"\" Define `num_controls` below \"\"\"\n",
        "num_controls = [len(action1), len(action2)]\n",
        "\n",
        "#observations\n",
        "obs_food = ['not present', 'present']\n",
        "obs_satiety = ['no', 'yes']\n",
        "\n",
        "\"\"\" Define `num_obs` and `num_modalities` below \"\"\"\n",
        "num_obs = [len(obs_food), len(obs_satiety)]\n",
        "num_modalities = len(num_obs)"
      ]
    },
    {
      "cell_type": "code",
      "execution_count": null,
      "metadata": {
        "colab": {
          "base_uri": "https://localhost:8080/"
        },
        "id": "tq2zFaQs2zSa",
        "outputId": "78247bad-0283-4039-9efa-6005fc96aeec"
      },
      "outputs": [
        {
          "output_type": "execute_result",
          "data": {
            "text/plain": [
              "[2]"
            ]
          },
          "metadata": {},
          "execution_count": 105
        }
      ],
      "source": [
        "num_states"
      ]
    },
    {
      "cell_type": "code",
      "execution_count": null,
      "metadata": {
        "colab": {
          "base_uri": "https://localhost:8080/"
        },
        "id": "XXNi49Bi2zK1",
        "outputId": "00f2934b-c88e-470a-b75e-c10b6e5c4805"
      },
      "outputs": [
        {
          "output_type": "execute_result",
          "data": {
            "text/plain": [
              "[1, 1]"
            ]
          },
          "metadata": {},
          "execution_count": 106
        }
      ],
      "source": [
        "num_controls"
      ]
    },
    {
      "cell_type": "code",
      "execution_count": null,
      "metadata": {
        "colab": {
          "base_uri": "https://localhost:8080/"
        },
        "id": "YuUQAAHk2zOt",
        "outputId": "43a3f5af-d54e-4fe1-dd74-16a045e84668"
      },
      "outputs": [
        {
          "output_type": "execute_result",
          "data": {
            "text/plain": [
              "[2, 2]"
            ]
          },
          "metadata": {},
          "execution_count": 107
        }
      ],
      "source": [
        "num_obs"
      ]
    },
    {
      "cell_type": "markdown",
      "metadata": {
        "id": "QMQKFjbFRvX4"
      },
      "source": [
        "Create the A array"
      ]
    },
    {
      "cell_type": "code",
      "execution_count": null,
      "metadata": {
        "id": "_0L1EFPw2zE5"
      },
      "outputs": [],
      "source": [
        "#generate the A array\n",
        "A = utils.initialize_empty_A(num_obs, num_states)"
      ]
    },
    {
      "cell_type": "code",
      "execution_count": null,
      "metadata": {
        "colab": {
          "base_uri": "https://localhost:8080/"
        },
        "id": "6x7kd-tC2y8h",
        "outputId": "72d948d5-5623-4942-86b0-832d85e265af"
      },
      "outputs": [
        {
          "output_type": "execute_result",
          "data": {
            "text/plain": [
              "array([[0., 0.],\n",
              "       [0., 0.]])"
            ]
          },
          "metadata": {},
          "execution_count": 109
        }
      ],
      "source": [
        "A[0]"
      ]
    },
    {
      "cell_type": "markdown",
      "metadata": {
        "id": "afAv43mhVU_G"
      },
      "source": [
        "Let's start with obs 1 = food"
      ]
    },
    {
      "cell_type": "code",
      "execution_count": null,
      "metadata": {
        "colab": {
          "base_uri": "https://localhost:8080/",
          "height": 211
        },
        "id": "lDoo1zZr_65-",
        "outputId": "423dd3b8-c8b7-4ebd-c047-0e0de5b6a93b"
      },
      "outputs": [
        {
          "output_type": "error",
          "ename": "IndexError",
          "evalue": "too many indices for array: array is 2-dimensional, but 3 were indexed",
          "traceback": [
            "\u001b[0;31m---------------------------------------------------------------------------\u001b[0m",
            "\u001b[0;31mIndexError\u001b[0m                                Traceback (most recent call last)",
            "\u001b[0;32m<ipython-input-122-36f945c2b314>\u001b[0m in \u001b[0;36m<cell line: 8>\u001b[0;34m()\u001b[0m\n\u001b[1;32m     12\u001b[0m \u001b[0;34m\u001b[0m\u001b[0m\n\u001b[1;32m     13\u001b[0m   \u001b[0;32melif\u001b[0m \u001b[0ms_food_value\u001b[0m \u001b[0;34m==\u001b[0m \u001b[0;34m'present'\u001b[0m\u001b[0;34m:\u001b[0m\u001b[0;34m\u001b[0m\u001b[0;34m\u001b[0m\u001b[0m\n\u001b[0;32m---> 14\u001b[0;31m     A_food[1, :, food_id] = np.array([[p_food,  1.0 - p_food], #ERRORE QUI\n\u001b[0m\u001b[1;32m     15\u001b[0m                                  [1.0 - p_food, p_food]])\n\u001b[1;32m     16\u001b[0m \u001b[0;34m\u001b[0m\u001b[0m\n",
            "\u001b[0;31mIndexError\u001b[0m: too many indices for array: array is 2-dimensional, but 3 were indexed"
          ]
        }
      ],
      "source": [
        "#NOT WORKING - since our array is bidim, and this code is for 3 dim\n",
        "\n",
        "#accuracy of the obs food\n",
        "p_food = 0.7 #? how much the agent trusts the obs of food left?\n",
        "\n",
        "A_food = np.zeros((len(obs_food), len(s_food))) #matrix bi dimensional  is ok?\n",
        "\n",
        "for food_id, s_food_value in enumerate(s_food):\n",
        "\n",
        "  if s_food_value == 'not present':\n",
        "    A_food[0, food_id] = 1.0\n",
        "\n",
        "  elif s_food_value == 'present':\n",
        "    A_food[1, :, food_id] = np.array([[p_food,  1.0 - p_food], #error\n",
        "                                 [1.0 - p_food, p_food]])\n",
        "\n",
        "  A[0] = A_food"
      ]
    },
    {
      "cell_type": "code",
      "execution_count": null,
      "metadata": {
        "colab": {
          "base_uri": "https://localhost:8080/",
          "height": 141
        },
        "id": "IZ_WD8xY_6yv",
        "outputId": "364e19e3-43ad-44e1-856b-61a3f2abd3f0"
      },
      "outputs": [
        {
          "ename": "IndexError",
          "evalue": "too many indices for array: array is 2-dimensional, but 3 were indexed",
          "output_type": "error",
          "traceback": [
            "\u001b[0;31m---------------------------------------------------------------------------\u001b[0m",
            "\u001b[0;31mIndexError\u001b[0m                                Traceback (most recent call last)",
            "\u001b[0;32m<ipython-input-29-3af02525c5f6>\u001b[0m in \u001b[0;36m<cell line: 1>\u001b[0;34m()\u001b[0m\n\u001b[0;32m----> 1\u001b[0;31m \u001b[0mutils\u001b[0m\u001b[0;34m.\u001b[0m\u001b[0mplot_likelihood\u001b[0m\u001b[0;34m(\u001b[0m\u001b[0mA\u001b[0m\u001b[0;34m[\u001b[0m\u001b[0;36m0\u001b[0m\u001b[0;34m]\u001b[0m\u001b[0;34m[\u001b[0m\u001b[0;34m:\u001b[0m\u001b[0;34m,\u001b[0m\u001b[0;34m:\u001b[0m\u001b[0;34m,\u001b[0m\u001b[0;36m1\u001b[0m\u001b[0;34m]\u001b[0m\u001b[0;34m,\u001b[0m \u001b[0mtitle\u001b[0m \u001b[0;34m=\u001b[0m \u001b[0;34m\"Probability of the two hint types, for the two game states\"\u001b[0m\u001b[0;34m)\u001b[0m\u001b[0;34m\u001b[0m\u001b[0;34m\u001b[0m\u001b[0m\n\u001b[0m",
            "\u001b[0;31mIndexError\u001b[0m: too many indices for array: array is 2-dimensional, but 3 were indexed"
          ]
        }
      ],
      "source": [
        "#NOT WORKING - TO BE REVISED\n",
        "\n",
        "utils.plot_likelihood(A[0][:,:,1], title = \"Probability of the two food factors\")"
      ]
    },
    {
      "cell_type": "markdown",
      "metadata": {
        "id": "X6e0iBaiUH0v"
      },
      "source": [
        "Fill out satiety observation"
      ]
    },
    {
      "cell_type": "code",
      "execution_count": null,
      "metadata": {
        "id": "QqkBHvwYTUhm",
        "colab": {
          "base_uri": "https://localhost:8080/",
          "height": 211
        },
        "outputId": "a1163e21-0ef4-481b-a604-51e42c3d63bf"
      },
      "outputs": [
        {
          "output_type": "error",
          "ename": "IndexError",
          "evalue": "too many indices for array: array is 2-dimensional, but 3 were indexed",
          "traceback": [
            "\u001b[0;31m---------------------------------------------------------------------------\u001b[0m",
            "\u001b[0;31mIndexError\u001b[0m                                Traceback (most recent call last)",
            "\u001b[0;32m<ipython-input-123-07ad13ed3a6b>\u001b[0m in \u001b[0;36m<cell line: 7>\u001b[0;34m()\u001b[0m\n\u001b[1;32m     11\u001b[0m \u001b[0;34m\u001b[0m\u001b[0m\n\u001b[1;32m     12\u001b[0m   \u001b[0;32melif\u001b[0m \u001b[0ms_food_value\u001b[0m \u001b[0;34m==\u001b[0m \u001b[0;34m'present'\u001b[0m\u001b[0;34m:\u001b[0m\u001b[0;34m\u001b[0m\u001b[0;34m\u001b[0m\u001b[0m\n\u001b[0;32m---> 13\u001b[0;31m     A_satiety[1, :, food_id] = np.array([[p_satiety,  1.0 - p_satiety], #does not work since matrix is bidim, and this is for 3 dim\n\u001b[0m\u001b[1;32m     14\u001b[0m                                  [1.0 - p_satiety, p_satiety]])\n\u001b[1;32m     15\u001b[0m \u001b[0;34m\u001b[0m\u001b[0m\n",
            "\u001b[0;31mIndexError\u001b[0m: too many indices for array: array is 2-dimensional, but 3 were indexed"
          ]
        }
      ],
      "source": [
        "#NOT WORKING - since our array is bidim, and this code is for 3 dim\n",
        "\n",
        "p_satiety = 0.8 #? how much the agent trusts the obs of satiety?\n",
        "\n",
        "A_satiety = np.zeros((len(obs_satiety), len(s_food))) #matrix bi dimensional  is ok?\n",
        "\n",
        "for food_id, s_food_value in enumerate(s_food):\n",
        "\n",
        "  if s_food_value == 'not present':\n",
        "    A_satiety[0, food_id] = 1.0\n",
        "\n",
        "  elif s_food_value == 'present':\n",
        "    A_satiety[1, :, food_id] = np.array([[p_satiety,  1.0 - p_satiety], #error\n",
        "                                 [1.0 - p_satiety, p_satiety]])\n",
        "\n",
        "  A[1] = A_satiety"
      ]
    },
    {
      "cell_type": "code",
      "execution_count": null,
      "metadata": {
        "id": "g7AgbJwkTUYE"
      },
      "outputs": [],
      "source": [
        "#DOES NOT WORK TO BE DONE\n",
        "\n",
        "utils.plot_likelihood(A[1][:,:,2], title='?')"
      ]
    },
    {
      "cell_type": "markdown",
      "metadata": {
        "id": "qzOBVIhjViEa"
      },
      "source": [
        "Let's wrap that all into a single function so we can quickly re-set or re-parameterize the A array as needed"
      ]
    },
    {
      "cell_type": "code",
      "source": [],
      "metadata": {
        "id": "sLOkXiZTBplw"
      },
      "execution_count": null,
      "outputs": []
    },
    {
      "cell_type": "code",
      "source": [],
      "metadata": {
        "id": "DVsHT00HCi9r"
      },
      "execution_count": null,
      "outputs": []
    },
    {
      "cell_type": "code",
      "source": [],
      "metadata": {
        "id": "TbWNJih8Ciyx"
      },
      "execution_count": null,
      "outputs": []
    },
    {
      "cell_type": "code",
      "source": [],
      "metadata": {
        "id": "NskzQUFzYIcT"
      },
      "execution_count": null,
      "outputs": []
    },
    {
      "cell_type": "markdown",
      "source": [
        "## **Based on Filippo Torresan's hints**"
      ],
      "metadata": {
        "id": "8-vyNz4RYBsk"
      }
    },
    {
      "cell_type": "markdown",
      "metadata": {
        "id": "WcFlRbqFwHoO"
      },
      "source": [
        "![tab2.png](data:image/png;base64,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)"
      ]
    },
    {
      "cell_type": "markdown",
      "source": [
        "Setting dimensionalities"
      ],
      "metadata": {
        "id": "xWtEU5ZjYBZN"
      }
    },
    {
      "cell_type": "code",
      "source": [
        " #hidden state\n",
        "s_food = ['not present', 'present']\n",
        "\n",
        "\"\"\" Define `num_states` and `num_factors` below \"\"\"\n",
        "num_states = [len(s_food)]\n",
        "num_factors = len(num_states)\n",
        "\n",
        "#control states\n",
        "action1 = ['Do not eat'] #uncertainty\n",
        "action2 = ['Eat']\n",
        "\n",
        "\"\"\" Define `num_controls` below \"\"\"\n",
        "num_controls = [len(action1), len(action2)]\n",
        "\n",
        "#observations\n",
        "obs = ['no food and no satiety', 'no food and satiety', 'food and no satiety', 'food and satiety']\n",
        "\n",
        "\"\"\" Define `num_obs` \"\"\"\n",
        "num_obs = [len(obs)]\n",
        "num_modalities = len(num_obs)"
      ],
      "metadata": {
        "id": "dSoRPD8848MX"
      },
      "execution_count": null,
      "outputs": []
    },
    {
      "cell_type": "code",
      "source": [
        "num_obs"
      ],
      "metadata": {
        "colab": {
          "base_uri": "https://localhost:8080/"
        },
        "id": "JrfvCQhj6suv",
        "outputId": "9c43f06f-8d10-4639-8abb-27eec60a0938"
      },
      "execution_count": null,
      "outputs": [
        {
          "output_type": "execute_result",
          "data": {
            "text/plain": [
              "[4]"
            ]
          },
          "metadata": {},
          "execution_count": 19
        }
      ]
    },
    {
      "cell_type": "code",
      "source": [
        "num_states"
      ],
      "metadata": {
        "colab": {
          "base_uri": "https://localhost:8080/"
        },
        "id": "7IFKunpC7FB3",
        "outputId": "ba1ba6aa-ede6-4d56-afe6-1be82aab9bf5"
      },
      "execution_count": null,
      "outputs": [
        {
          "output_type": "execute_result",
          "data": {
            "text/plain": [
              "[2]"
            ]
          },
          "metadata": {},
          "execution_count": 20
        }
      ]
    },
    {
      "cell_type": "code",
      "source": [
        "num_modalities #for hidden state"
      ],
      "metadata": {
        "colab": {
          "base_uri": "https://localhost:8080/"
        },
        "id": "RKlpjTxE7T2I",
        "outputId": "c46aa889-7582-4b9d-d4c4-f90b928d7387"
      },
      "execution_count": null,
      "outputs": [
        {
          "output_type": "execute_result",
          "data": {
            "text/plain": [
              "1"
            ]
          },
          "metadata": {},
          "execution_count": 22
        }
      ]
    },
    {
      "cell_type": "code",
      "source": [
        "num_factors #for observation - maybe superfluous?"
      ],
      "metadata": {
        "colab": {
          "base_uri": "https://localhost:8080/"
        },
        "id": "-TQfFrXL7KK6",
        "outputId": "b6ed190c-7087-481f-d08e-d0e713b962e3"
      },
      "execution_count": null,
      "outputs": [
        {
          "output_type": "execute_result",
          "data": {
            "text/plain": [
              "1"
            ]
          },
          "metadata": {},
          "execution_count": 21
        }
      ]
    },
    {
      "cell_type": "markdown",
      "source": [
        "**A Matrix**"
      ],
      "metadata": {
        "id": "Vj6BVmxE60kp"
      }
    },
    {
      "cell_type": "code",
      "source": [
        "\"\"\" Generate the A array \"\"\"\n",
        "#A = utils.initialize_empty_A(num_obs, num_states)"
      ],
      "metadata": {
        "id": "WQkMteO-47vv"
      },
      "execution_count": null,
      "outputs": []
    },
    {
      "cell_type": "code",
      "source": [
        "p_obs1 = 0.7 #no food and no satiety\n",
        "\n",
        "A_obs = np.zeros((len(obs), len(s_food)))\n",
        "\n",
        "for food_id, s_food_value in enumerate(s_food):\n",
        "\n",
        "  if s_food_value == 'not present':\n",
        "    A_obs[0, food_id] = 1.0\n",
        "\n",
        "  elif s_food_value == 'present':\n",
        "    A_obs[1, food_id] = np.array([[p_obs1,  1.0 - p_obs1], #error\n",
        "                                 [1.0 - p_obs1, p_obs1]])\n",
        "\n",
        "  A[0] = A_obs"
      ],
      "metadata": {
        "id": "q8pDMaQj3sMc",
        "colab": {
          "base_uri": "https://localhost:8080/",
          "height": 297
        },
        "outputId": "3e90f077-7836-43c6-8801-00687482cc55"
      },
      "execution_count": null,
      "outputs": [
        {
          "output_type": "error",
          "ename": "ValueError",
          "evalue": "setting an array element with a sequence.",
          "traceback": [
            "\u001b[0;31m---------------------------------------------------------------------------\u001b[0m",
            "\u001b[0;31mTypeError\u001b[0m                                 Traceback (most recent call last)",
            "\u001b[0;31mTypeError\u001b[0m: only length-1 arrays can be converted to Python scalars",
            "\nThe above exception was the direct cause of the following exception:\n",
            "\u001b[0;31mValueError\u001b[0m                                Traceback (most recent call last)",
            "\u001b[0;32m<ipython-input-26-f37f9332beab>\u001b[0m in \u001b[0;36m<cell line: 5>\u001b[0;34m()\u001b[0m\n\u001b[1;32m      9\u001b[0m \u001b[0;34m\u001b[0m\u001b[0m\n\u001b[1;32m     10\u001b[0m   \u001b[0;32melif\u001b[0m \u001b[0ms_food_value\u001b[0m \u001b[0;34m==\u001b[0m \u001b[0;34m'present'\u001b[0m\u001b[0;34m:\u001b[0m\u001b[0;34m\u001b[0m\u001b[0;34m\u001b[0m\u001b[0m\n\u001b[0;32m---> 11\u001b[0;31m     A_obs[1, food_id] = np.array([[p_obs1,  1.0 - p_obs1], #error\n\u001b[0m\u001b[1;32m     12\u001b[0m                                  [1.0 - p_obs1, p_obs1]])\n\u001b[1;32m     13\u001b[0m \u001b[0;34m\u001b[0m\u001b[0m\n",
            "\u001b[0;31mValueError\u001b[0m: setting an array element with a sequence."
          ]
        }
      ]
    },
    {
      "cell_type": "markdown",
      "source": [
        "or pymdp paper"
      ],
      "metadata": {
        "id": "mZ5MfNFvUIYG"
      }
    },
    {
      "cell_type": "code",
      "source": [
        "#model with 1 hidden state factor and 4 observation modality\n",
        "n_obs = 12\n",
        "n_states = 3\n",
        "A = utils.obj_array(1)"
      ],
      "metadata": {
        "id": "bG7kWml53syO"
      },
      "execution_count": null,
      "outputs": []
    },
    {
      "cell_type": "code",
      "source": [
        "A = utils . obj_array (1)"
      ],
      "metadata": {
        "id": "mP5JnGfV3tp1"
      },
      "execution_count": null,
      "outputs": []
    },
    {
      "cell_type": "code",
      "source": [
        "A[0] = np.array ([[1.0, 0.0, 0.0] ,\n",
        "                  [0.0, 1.0, 0.0] ,\n",
        "                  [0.0, 0.0, 1.0]])"
      ],
      "metadata": {
        "id": "1ueNJLha3thM"
      },
      "execution_count": null,
      "outputs": []
    },
    {
      "cell_type": "markdown",
      "metadata": {
        "id": "5H4iO4VZFU1G"
      },
      "source": [
        "##**Random stuff**"
      ]
    },
    {
      "cell_type": "code",
      "execution_count": null,
      "metadata": {
        "id": "hEW1X97UwGHZ"
      },
      "outputs": [],
      "source": [
        "#one time step of active inference\n",
        "#observation = task_env.reset()\n",
        "#qs = my_agent.infer_states(observation)\n",
        "#q_pi = my_agent.infer_policies()\n",
        "#chosen_action = my_agent.sample_action"
      ]
    },
    {
      "cell_type": "code",
      "execution_count": null,
      "metadata": {
        "id": "wKiinMxzwGBi"
      },
      "outputs": [],
      "source": [
        "#get the observation given the action\n",
        "#next_observation = task_env.step(chosen_action)"
      ]
    },
    {
      "cell_type": "markdown",
      "metadata": {
        "id": "Cv6-ZYfZ7Npv"
      },
      "source": [
        "**1. MDP** - but we have to do PO"
      ]
    },
    {
      "cell_type": "code",
      "execution_count": null,
      "metadata": {
        "colab": {
          "base_uri": "https://localhost:8080/",
          "height": 437
        },
        "id": "C3M4UeUW7KhU",
        "outputId": "dd21984a-5e96-4663-e0bc-0dfbac020790"
      },
      "outputs": [
        {
          "data": {
            "image/png": "[encoded data removed]",
            "text/plain": [
              "<Figure size 640x480 with 2 Axes>"
            ]
          },
          "metadata": {},
          "output_type": "display_data"
        }
      ],
      "source": [
        "states = np.linspace(1,4,4).reshape(2,2)\n",
        "#print(states)\n",
        "\n",
        "plt.imshow(states, cmap='viridis')\n",
        "plt.colorbar()\n",
        "plt.axis('off')\n",
        "plt.title('States Gridworld')\n",
        "plt.show()"
      ]
    },
    {
      "cell_type": "markdown",
      "metadata": {
        "id": "pVarBUuz8aRn"
      },
      "source": [
        "**2. Action space.** The agent move across the environment to collect rewards = find resources. There are 4 actions: move north, east, south or west"
      ]
    },
    {
      "cell_type": "code",
      "execution_count": null,
      "metadata": {
        "colab": {
          "base_uri": "https://localhost:8080/",
          "height": 207
        },
        "id": "ZAxngm6581Pf",
        "outputId": "2892d3cc-28c6-4c69-ef0e-c58eb06b7900"
      },
      "outputs": [
        {
          "data": {
            "image/png": "[encoded data removed]",
            "text/plain": [
              "<Figure size 640x480 with 1 Axes>"
            ]
          },
          "metadata": {},
          "output_type": "display_data"
        }
      ],
      "source": [
        "actions = np.linspace(1,4,4).reshape(1,4)\n",
        "#rint(actions)\n",
        "\n",
        "plt.imshow(actions, cmap='RdBu')\n",
        "plt.yticks([])\n",
        "plt.xticks(np.arange(4), ['Move North', 'Move West', 'Move South','Move East'])\n",
        "plt.title('Actions Gridworld')\n",
        "plt.show()"
      ]
    },
    {
      "cell_type": "markdown",
      "source": [],
      "metadata": {
        "id": "jyahXZm1xD6h"
      }
    }
  ],
  "metadata": {
    "colab": {
      "provenance": [],
      "toc_visible": true,
      "collapsed_sections": [
        "8-vyNz4RYBsk",
        "5H4iO4VZFU1G"
      ],
      "include_colab_link": true
    },
    "kernelspec": {
      "display_name": "Python 3",
      "name": "python3"
    },
    "language_info": {
      "name": "python"
    }
  },
  "nbformat": 4,
  "nbformat_minor": 0
}