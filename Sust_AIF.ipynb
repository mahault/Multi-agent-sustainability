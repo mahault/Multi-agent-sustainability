{
  "cells": [
    {
      "cell_type": "markdown",
      "metadata": {
        "id": "view-in-github",
        "colab_type": "text"
      },
      "source": [
        "<a href=\"https://colab.research.google.com/github/mahault/Multi-agent-sustainability/blob/main/Sust_AIF.ipynb\" target=\"_parent\"><img src=\"https://colab.research.google.com/assets/colab-badge.svg\" alt=\"Open In Colab\"/></a>"
      ]
    },
    {
      "cell_type": "markdown",
      "metadata": {
        "id": "e_cfTEygJXa1"
      },
      "source": [
        "# **Sustainability under AIF - simulation**\n",
        "\n",
        "*Mahault Albarracin, Maria Raffa*"
      ]
    },
    {
      "cell_type": "markdown",
      "metadata": {
        "id": "dibx6FSkIy4z"
      },
      "source": [
        "In order to deal with sustainability in a very straightforward way, i.e. an agent is able to sustain itself by learning how to use the resources at its disposal wisely, we could think of a simple model:\n",
        "an agent that is in a certain place and has to decide whether or not to eat food that is in the same place at different time steps. And learns how to not waste it over time.\n",
        "In this sense, the agent acts in a sustainable way because it learns that it does not have to satisfy its greed immediately, even if it is very hungry, because the aim is to maintain a balance between itself and the environment (i.e. a room with food) as long as possible over time. In this case, it learns to align available resources with its needs.\n",
        "\n",
        "We start by assuming the agent is aware of its own location and knows that food is in the same location as it is as well. So we do not need self location as obs.\n",
        "\n",
        "\n",
        "\n",
        "![tab.png](data:image/png;base64,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)"
      ]
    },
    {
      "cell_type": "code",
      "execution_count": null,
      "metadata": {
        "colab": {
          "background_save": true,
          "base_uri": "https://localhost:8080/"
        },
        "id": "660fvZcW64CJ",
        "outputId": "abef7a6a-346c-4c01-bb9b-53b714a05679"
      },
      "outputs": [
        {
          "name": "stdout",
          "output_type": "stream",
          "text": [
            "Collecting inferactively-pymdp\n",
            "  Downloading inferactively_pymdp-0.0.7.1-py3-none-any.whl (58 kB)\n",
            "\u001b[2K     \u001b[90m━━━━━━━━━━━━━━━━━━━━━━━━━━━━━━━━━━━━━━━━\u001b[0m \u001b[32m58.9/58.9 kB\u001b[0m \u001b[31m1.2 MB/s\u001b[0m eta \u001b[36m0:00:00\u001b[0m\n",
            "\u001b[?25hRequirement already satisfied: attrs>=20.3.0 in /usr/local/lib/python3.10/dist-packages (from inferactively-pymdp) (23.2.0)\n",
            "Requirement already satisfied: cycler>=0.10.0 in /usr/local/lib/python3.10/dist-packages (from inferactively-pymdp) (0.12.1)\n",
            "Requirement already satisfied: iniconfig>=1.1.1 in /usr/local/lib/python3.10/dist-packages (from inferactively-pymdp) (2.0.0)\n",
            "Requirement already satisfied: kiwisolver>=1.3.1 in /usr/local/lib/python3.10/dist-packages (from inferactively-pymdp) (1.4.5)\n",
            "Requirement already satisfied: matplotlib>=3.1.3 in /usr/local/lib/python3.10/dist-packages (from inferactively-pymdp) (3.7.1)\n",
            "Collecting nose>=1.3.7 (from inferactively-pymdp)\n",
            "  Downloading nose-1.3.7-py3-none-any.whl (154 kB)\n",
            "\u001b[2K     \u001b[90m━━━━━━━━━━━━━━━━━━━━━━━━━━━━━━━━━━━━━━━━\u001b[0m \u001b[32m154.7/154.7 kB\u001b[0m \u001b[31m5.9 MB/s\u001b[0m eta \u001b[36m0:00:00\u001b[0m\n",
            "\u001b[?25hRequirement already satisfied: numpy>=1.19.5 in /usr/local/lib/python3.10/dist-packages (from inferactively-pymdp) (1.25.2)\n",
            "Requirement already satisfied: openpyxl>=3.0.7 in /usr/local/lib/python3.10/dist-packages (from inferactively-pymdp) (3.1.2)\n",
            "Requirement already satisfied: packaging>=20.8 in /usr/local/lib/python3.10/dist-packages (from inferactively-pymdp) (24.0)\n",
            "Requirement already satisfied: pandas>=1.2.4 in /usr/local/lib/python3.10/dist-packages (from inferactively-pymdp) (2.0.3)\n",
            "Requirement already satisfied: Pillow>=8.2.0 in /usr/local/lib/python3.10/dist-packages (from inferactively-pymdp) (9.4.0)\n",
            "Requirement already satisfied: pluggy>=0.13.1 in /usr/local/lib/python3.10/dist-packages (from inferactively-pymdp) (1.4.0)\n",
            "Collecting py>=1.10.0 (from inferactively-pymdp)\n",
            "  Downloading py-1.11.0-py2.py3-none-any.whl (98 kB)\n",
            "\u001b[2K     \u001b[90m━━━━━━━━━━━━━━━━━━━━━━━━━━━━━━━━━━━━━━━━\u001b[0m \u001b[32m98.7/98.7 kB\u001b[0m \u001b[31m7.7 MB/s\u001b[0m eta \u001b[36m0:00:00\u001b[0m\n",
            "\u001b[?25hRequirement already satisfied: pyparsing>=2.4.7 in /usr/local/lib/python3.10/dist-packages (from inferactively-pymdp) (3.1.2)\n",
            "Requirement already satisfied: pytest>=6.2.1 in /usr/local/lib/python3.10/dist-packages (from inferactively-pymdp) (7.4.4)\n",
            "Requirement already satisfied: python-dateutil>=2.8.1 in /usr/local/lib/python3.10/dist-packages (from inferactively-pymdp) (2.8.2)\n",
            "Requirement already satisfied: pytz>=2020.5 in /usr/local/lib/python3.10/dist-packages (from inferactively-pymdp) (2023.4)\n",
            "Requirement already satisfied: scipy>=1.6.0 in /usr/local/lib/python3.10/dist-packages (from inferactively-pymdp) (1.11.4)\n",
            "Requirement already satisfied: seaborn>=0.11.1 in /usr/local/lib/python3.10/dist-packages (from inferactively-pymdp) (0.13.1)\n",
            "Requirement already satisfied: six>=1.15.0 in /usr/local/lib/python3.10/dist-packages (from inferactively-pymdp) (1.16.0)\n",
            "Requirement already satisfied: toml>=0.10.2 in /usr/local/lib/python3.10/dist-packages (from inferactively-pymdp) (0.10.2)\n",
            "Requirement already satisfied: typing-extensions>=3.7.4.3 in /usr/local/lib/python3.10/dist-packages (from inferactively-pymdp) (4.11.0)\n",
            "Collecting xlsxwriter>=1.4.3 (from inferactively-pymdp)\n",
            "  Downloading XlsxWriter-3.2.0-py3-none-any.whl (159 kB)\n",
            "\u001b[2K     \u001b[90m━━━━━━━━━━━━━━━━━━━━━━━━━━━━━━━━━━━━━━━━\u001b[0m \u001b[32m159.9/159.9 kB\u001b[0m \u001b[31m10.0 MB/s\u001b[0m eta \u001b[36m0:00:00\u001b[0m\n",
            "\u001b[?25hCollecting sphinx-rtd-theme>=0.4 (from inferactively-pymdp)\n",
            "  Downloading sphinx_rtd_theme-2.0.0-py2.py3-none-any.whl (2.8 MB)\n",
            "\u001b[2K     \u001b[90m━━━━━━━━━━━━━━━━━━━━━━━━━━━━━━━━━━━━━━━━\u001b[0m \u001b[32m2.8/2.8 MB\u001b[0m \u001b[31m23.0 MB/s\u001b[0m eta \u001b[36m0:00:00\u001b[0m\n",
            "\u001b[?25hCollecting myst-nb>=0.13.1 (from inferactively-pymdp)\n",
            "  Downloading myst_nb-1.1.0-py3-none-any.whl (80 kB)\n",
            "\u001b[2K     \u001b[90m━━━━━━━━━━━━━━━━━━━━━━━━━━━━━━━━━━━━━━━━\u001b[0m \u001b[32m80.3/80.3 kB\u001b[0m \u001b[31m3.7 MB/s\u001b[0m eta \u001b[36m0:00:00\u001b[0m\n",
            "\u001b[?25hRequirement already satisfied: autograd>=1.3 in /usr/local/lib/python3.10/dist-packages (from inferactively-pymdp) (1.6.2)\n",
            "Requirement already satisfied: future>=0.15.2 in /usr/local/lib/python3.10/dist-packages (from autograd>=1.3->inferactively-pymdp) (0.18.3)\n",
            "Requirement already satisfied: contourpy>=1.0.1 in /usr/local/lib/python3.10/dist-packages (from matplotlib>=3.1.3->inferactively-pymdp) (1.2.1)\n",
            "Requirement already satisfied: fonttools>=4.22.0 in /usr/local/lib/python3.10/dist-packages (from matplotlib>=3.1.3->inferactively-pymdp) (4.51.0)\n",
            "Requirement already satisfied: importlib_metadata in /usr/local/lib/python3.10/dist-packages (from myst-nb>=0.13.1->inferactively-pymdp) (7.1.0)\n",
            "Requirement already satisfied: ipython in /usr/local/lib/python3.10/dist-packages (from myst-nb>=0.13.1->inferactively-pymdp) (7.34.0)\n",
            "Collecting jupyter-cache>=0.5 (from myst-nb>=0.13.1->inferactively-pymdp)\n",
            "  Downloading jupyter_cache-1.0.0-py3-none-any.whl (33 kB)\n",
            "Requirement already satisfied: nbclient in /usr/local/lib/python3.10/dist-packages (from myst-nb>=0.13.1->inferactively-pymdp) (0.10.0)\n",
            "Collecting myst-parser>=1.0.0 (from myst-nb>=0.13.1->inferactively-pymdp)\n",
            "  Downloading myst_parser-2.0.0-py3-none-any.whl (77 kB)\n",
            "\u001b[2K     \u001b[90m━━━━━━━━━━━━━━━━━━━━━━━━━━━━━━━━━━━━━━━━\u001b[0m \u001b[32m77.2/77.2 kB\u001b[0m \u001b[31m6.3 MB/s\u001b[0m eta \u001b[36m0:00:00\u001b[0m\n",
            "\u001b[?25hRequirement already satisfied: nbformat>=5.0 in /usr/local/lib/python3.10/dist-packages (from myst-nb>=0.13.1->inferactively-pymdp) (5.10.4)\n",
            "Requirement already satisfied: pyyaml in /usr/local/lib/python3.10/dist-packages (from myst-nb>=0.13.1->inferactively-pymdp) (6.0.1)\n",
            "Requirement already satisfied: sphinx>=5 in /usr/local/lib/python3.10/dist-packages (from myst-nb>=0.13.1->inferactively-pymdp) (5.0.2)\n",
            "Requirement already satisfied: ipykernel in /usr/local/lib/python3.10/dist-packages (from myst-nb>=0.13.1->inferactively-pymdp) (5.5.6)\n",
            "Requirement already satisfied: et-xmlfile in /usr/local/lib/python3.10/dist-packages (from openpyxl>=3.0.7->inferactively-pymdp) (1.1.0)\n",
            "Requirement already satisfied: tzdata>=2022.1 in /usr/local/lib/python3.10/dist-packages (from pandas>=1.2.4->inferactively-pymdp) (2024.1)\n",
            "Requirement already satisfied: exceptiongroup>=1.0.0rc8 in /usr/local/lib/python3.10/dist-packages (from pytest>=6.2.1->inferactively-pymdp) (1.2.1)\n",
            "Requirement already satisfied: tomli>=1.0.0 in /usr/local/lib/python3.10/dist-packages (from pytest>=6.2.1->inferactively-pymdp) (2.0.1)\n",
            "Requirement already satisfied: docutils<0.21 in /usr/local/lib/python3.10/dist-packages (from sphinx-rtd-theme>=0.4->inferactively-pymdp) (0.18.1)\n",
            "Collecting sphinxcontrib-jquery<5,>=4 (from sphinx-rtd-theme>=0.4->inferactively-pymdp)\n",
            "  Downloading sphinxcontrib_jquery-4.1-py2.py3-none-any.whl (121 kB)\n",
            "\u001b[2K     \u001b[90m━━━━━━━━━━━━━━━━━━━━━━━━━━━━━━━━━━━━━━━━\u001b[0m \u001b[32m121.1/121.1 kB\u001b[0m \u001b[31m6.7 MB/s\u001b[0m eta \u001b[36m0:00:00\u001b[0m\n",
            "\u001b[?25hRequirement already satisfied: click in /usr/local/lib/python3.10/dist-packages (from jupyter-cache>=0.5->myst-nb>=0.13.1->inferactively-pymdp) (8.1.7)\n",
            "Requirement already satisfied: sqlalchemy<3,>=1.3.12 in /usr/local/lib/python3.10/dist-packages (from jupyter-cache>=0.5->myst-nb>=0.13.1->inferactively-pymdp) (2.0.29)\n",
            "Requirement already satisfied: tabulate in /usr/local/lib/python3.10/dist-packages (from jupyter-cache>=0.5->myst-nb>=0.13.1->inferactively-pymdp) (0.9.0)\n",
            "Requirement already satisfied: jinja2 in /usr/local/lib/python3.10/dist-packages (from myst-parser>=1.0.0->myst-nb>=0.13.1->inferactively-pymdp) (3.1.3)\n",
            "Requirement already satisfied: markdown-it-py~=3.0 in /usr/local/lib/python3.10/dist-packages (from myst-parser>=1.0.0->myst-nb>=0.13.1->inferactively-pymdp) (3.0.0)\n",
            "Requirement already satisfied: mdit-py-plugins~=0.4 in /usr/local/lib/python3.10/dist-packages (from myst-parser>=1.0.0->myst-nb>=0.13.1->inferactively-pymdp) (0.4.0)\n",
            "Collecting sphinx>=5 (from myst-nb>=0.13.1->inferactively-pymdp)\n",
            "  Downloading sphinx-7.3.7-py3-none-any.whl (3.3 MB)\n",
            "\u001b[2K     \u001b[90m━━━━━━━━━━━━━━━━━━━━━━━━━━━━━━━━━━━━━━━━\u001b[0m \u001b[32m3.3/3.3 MB\u001b[0m \u001b[31m48.4 MB/s\u001b[0m eta \u001b[36m0:00:00\u001b[0m\n",
            "\u001b[?25hRequirement already satisfied: jupyter-client>=6.1.12 in /usr/local/lib/python3.10/dist-packages (from nbclient->myst-nb>=0.13.1->inferactively-pymdp) (6.1.12)\n",
            "Requirement already satisfied: jupyter-core!=5.0.*,>=4.12 in /usr/local/lib/python3.10/dist-packages (from nbclient->myst-nb>=0.13.1->inferactively-pymdp) (5.7.2)\n",
            "Requirement already satisfied: traitlets>=5.4 in /usr/local/lib/python3.10/dist-packages (from nbclient->myst-nb>=0.13.1->inferactively-pymdp) (5.7.1)\n",
            "Requirement already satisfied: fastjsonschema>=2.15 in /usr/local/lib/python3.10/dist-packages (from nbformat>=5.0->myst-nb>=0.13.1->inferactively-pymdp) (2.19.1)\n",
            "Requirement already satisfied: jsonschema>=2.6 in /usr/local/lib/python3.10/dist-packages (from nbformat>=5.0->myst-nb>=0.13.1->inferactively-pymdp) (4.19.2)\n",
            "Requirement already satisfied: sphinxcontrib-applehelp in /usr/local/lib/python3.10/dist-packages (from sphinx>=5->myst-nb>=0.13.1->inferactively-pymdp) (1.0.8)\n",
            "Requirement already satisfied: sphinxcontrib-devhelp in /usr/local/lib/python3.10/dist-packages (from sphinx>=5->myst-nb>=0.13.1->inferactively-pymdp) (1.0.6)\n",
            "Requirement already satisfied: sphinxcontrib-jsmath in /usr/local/lib/python3.10/dist-packages (from sphinx>=5->myst-nb>=0.13.1->inferactively-pymdp) (1.0.1)\n",
            "Requirement already satisfied: sphinxcontrib-htmlhelp>=2.0.0 in /usr/local/lib/python3.10/dist-packages (from sphinx>=5->myst-nb>=0.13.1->inferactively-pymdp) (2.0.5)\n",
            "Requirement already satisfied: sphinxcontrib-serializinghtml>=1.1.9 in /usr/local/lib/python3.10/dist-packages (from sphinx>=5->myst-nb>=0.13.1->inferactively-pymdp) (1.1.10)\n",
            "Requirement already satisfied: sphinxcontrib-qthelp in /usr/local/lib/python3.10/dist-packages (from sphinx>=5->myst-nb>=0.13.1->inferactively-pymdp) (1.0.7)\n",
            "Requirement already satisfied: Pygments>=2.14 in /usr/local/lib/python3.10/dist-packages (from sphinx>=5->myst-nb>=0.13.1->inferactively-pymdp) (2.16.1)\n",
            "Requirement already satisfied: snowballstemmer>=2.0 in /usr/local/lib/python3.10/dist-packages (from sphinx>=5->myst-nb>=0.13.1->inferactively-pymdp) (2.2.0)\n",
            "Requirement already satisfied: babel>=2.9 in /usr/local/lib/python3.10/dist-packages (from sphinx>=5->myst-nb>=0.13.1->inferactively-pymdp) (2.14.0)\n",
            "Requirement already satisfied: alabaster~=0.7.14 in /usr/local/lib/python3.10/dist-packages (from sphinx>=5->myst-nb>=0.13.1->inferactively-pymdp) (0.7.16)\n",
            "Requirement already satisfied: imagesize>=1.3 in /usr/local/lib/python3.10/dist-packages (from sphinx>=5->myst-nb>=0.13.1->inferactively-pymdp) (1.4.1)\n",
            "Requirement already satisfied: requests>=2.25.0 in /usr/local/lib/python3.10/dist-packages (from sphinx>=5->myst-nb>=0.13.1->inferactively-pymdp) (2.31.0)\n",
            "Requirement already satisfied: zipp>=0.5 in /usr/local/lib/python3.10/dist-packages (from importlib_metadata->myst-nb>=0.13.1->inferactively-pymdp) (3.18.1)\n",
            "Requirement already satisfied: ipython-genutils in /usr/local/lib/python3.10/dist-packages (from ipykernel->myst-nb>=0.13.1->inferactively-pymdp) (0.2.0)\n",
            "Requirement already satisfied: tornado>=4.2 in /usr/local/lib/python3.10/dist-packages (from ipykernel->myst-nb>=0.13.1->inferactively-pymdp) (6.3.3)\n",
            "Requirement already satisfied: setuptools>=18.5 in /usr/local/lib/python3.10/dist-packages (from ipython->myst-nb>=0.13.1->inferactively-pymdp) (67.7.2)\n",
            "Collecting jedi>=0.16 (from ipython->myst-nb>=0.13.1->inferactively-pymdp)\n",
            "  Downloading jedi-0.19.1-py2.py3-none-any.whl (1.6 MB)\n",
            "\u001b[2K     \u001b[90m━━━━━━━━━━━━━━━━━━━━━━━━━━━━━━━━━━━━━━━━\u001b[0m \u001b[32m1.6/1.6 MB\u001b[0m \u001b[31m46.9 MB/s\u001b[0m eta \u001b[36m0:00:00\u001b[0m\n",
            "\u001b[?25hRequirement already satisfied: decorator in /usr/local/lib/python3.10/dist-packages (from ipython->myst-nb>=0.13.1->inferactively-pymdp) (4.4.2)\n",
            "Requirement already satisfied: pickleshare in /usr/local/lib/python3.10/dist-packages (from ipython->myst-nb>=0.13.1->inferactively-pymdp) (0.7.5)\n",
            "Requirement already satisfied: prompt-toolkit!=3.0.0,!=3.0.1,<3.1.0,>=2.0.0 in /usr/local/lib/python3.10/dist-packages (from ipython->myst-nb>=0.13.1->inferactively-pymdp) (3.0.43)\n",
            "Requirement already satisfied: backcall in /usr/local/lib/python3.10/dist-packages (from ipython->myst-nb>=0.13.1->inferactively-pymdp) (0.2.0)\n",
            "Requirement already satisfied: matplotlib-inline in /usr/local/lib/python3.10/dist-packages (from ipython->myst-nb>=0.13.1->inferactively-pymdp) (0.1.7)\n",
            "Requirement already satisfied: pexpect>4.3 in /usr/local/lib/python3.10/dist-packages (from ipython->myst-nb>=0.13.1->inferactively-pymdp) (4.9.0)\n",
            "Requirement already satisfied: parso<0.9.0,>=0.8.3 in /usr/local/lib/python3.10/dist-packages (from jedi>=0.16->ipython->myst-nb>=0.13.1->inferactively-pymdp) (0.8.4)\n",
            "Requirement already satisfied: MarkupSafe>=2.0 in /usr/local/lib/python3.10/dist-packages (from jinja2->myst-parser>=1.0.0->myst-nb>=0.13.1->inferactively-pymdp) (2.1.5)\n",
            "Requirement already satisfied: jsonschema-specifications>=2023.03.6 in /usr/local/lib/python3.10/dist-packages (from jsonschema>=2.6->nbformat>=5.0->myst-nb>=0.13.1->inferactively-pymdp) (2023.12.1)\n",
            "Requirement already satisfied: referencing>=0.28.4 in /usr/local/lib/python3.10/dist-packages (from jsonschema>=2.6->nbformat>=5.0->myst-nb>=0.13.1->inferactively-pymdp) (0.34.0)\n",
            "Requirement already satisfied: rpds-py>=0.7.1 in /usr/local/lib/python3.10/dist-packages (from jsonschema>=2.6->nbformat>=5.0->myst-nb>=0.13.1->inferactively-pymdp) (0.18.0)\n",
            "Requirement already satisfied: pyzmq>=13 in /usr/local/lib/python3.10/dist-packages (from jupyter-client>=6.1.12->nbclient->myst-nb>=0.13.1->inferactively-pymdp) (23.2.1)\n",
            "Requirement already satisfied: platformdirs>=2.5 in /usr/local/lib/python3.10/dist-packages (from jupyter-core!=5.0.*,>=4.12->nbclient->myst-nb>=0.13.1->inferactively-pymdp) (4.2.0)\n",
            "Requirement already satisfied: mdurl~=0.1 in /usr/local/lib/python3.10/dist-packages (from markdown-it-py~=3.0->myst-parser>=1.0.0->myst-nb>=0.13.1->inferactively-pymdp) (0.1.2)\n",
            "Requirement already satisfied: ptyprocess>=0.5 in /usr/local/lib/python3.10/dist-packages (from pexpect>4.3->ipython->myst-nb>=0.13.1->inferactively-pymdp) (0.7.0)\n",
            "Requirement already satisfied: wcwidth in /usr/local/lib/python3.10/dist-packages (from prompt-toolkit!=3.0.0,!=3.0.1,<3.1.0,>=2.0.0->ipython->myst-nb>=0.13.1->inferactively-pymdp) (0.2.13)\n",
            "Requirement already satisfied: charset-normalizer<4,>=2 in /usr/local/lib/python3.10/dist-packages (from requests>=2.25.0->sphinx>=5->myst-nb>=0.13.1->inferactively-pymdp) (3.3.2)\n",
            "Requirement already satisfied: idna<4,>=2.5 in /usr/local/lib/python3.10/dist-packages (from requests>=2.25.0->sphinx>=5->myst-nb>=0.13.1->inferactively-pymdp) (3.7)\n",
            "Requirement already satisfied: urllib3<3,>=1.21.1 in /usr/local/lib/python3.10/dist-packages (from requests>=2.25.0->sphinx>=5->myst-nb>=0.13.1->inferactively-pymdp) (2.0.7)\n",
            "Requirement already satisfied: certifi>=2017.4.17 in /usr/local/lib/python3.10/dist-packages (from requests>=2.25.0->sphinx>=5->myst-nb>=0.13.1->inferactively-pymdp) (2024.2.2)\n",
            "Requirement already satisfied: greenlet!=0.4.17 in /usr/local/lib/python3.10/dist-packages (from sqlalchemy<3,>=1.3.12->jupyter-cache>=0.5->myst-nb>=0.13.1->inferactively-pymdp) (3.0.3)\n",
            "Installing collected packages: nose, xlsxwriter, py, jedi, sphinx, sphinxcontrib-jquery, myst-parser, sphinx-rtd-theme, jupyter-cache, myst-nb, inferactively-pymdp\n",
            "  Attempting uninstall: sphinx\n",
            "    Found existing installation: Sphinx 5.0.2\n",
            "    Uninstalling Sphinx-5.0.2:\n",
            "      Successfully uninstalled Sphinx-5.0.2\n",
            "Successfully installed inferactively-pymdp-0.0.7.1 jedi-0.19.1 jupyter-cache-1.0.0 myst-nb-1.1.0 myst-parser-2.0.0 nose-1.3.7 py-1.11.0 sphinx-7.3.7 sphinx-rtd-theme-2.0.0 sphinxcontrib-jquery-4.1 xlsxwriter-3.2.0\n"
          ]
        }
      ],
      "source": [
        "# Import necessary libraries\n",
        "!pip install inferactively-pymdp"
      ]
    },
    {
      "cell_type": "code",
      "execution_count": null,
      "metadata": {
        "id": "wHooG1ZKulmi"
      },
      "outputs": [],
      "source": [
        "import numpy as np\n",
        "import matplotlib.pyplot as plt\n",
        "import seaborn as sns\n",
        "import pymdp\n",
        "from pymdp.agent import Agent #\n",
        "from pymdp import inference, control, learning\n",
        "from pymdp import utils, maths\n"
      ]
    },
    {
      "cell_type": "markdown",
      "metadata": {
        "id": "dbGwXp2Czvli"
      },
      "source": [
        ":\n",
        "## **1. Environment**\n",
        "Dimensionalities of the hidden state factors and the control states"
      ]
    },
    {
      "cell_type": "code",
      "execution_count": null,
      "metadata": {
        "id": "hc89Vmv-vhkN"
      },
      "outputs": [],
      "source": [
        "\"\"\" Define dimensionalities of the hidden state factors and control state factors \"\"\" #my hidden state: 1 (food left[0,1])\n",
        "num_states = [1, 1] # a list of dimensionalities of the hidden state factor\n",
        "num_factors = len(num_states) # the total number of hidden state factors\n",
        "\n",
        "num_controls = [2, 2] # a list of the dimensionalities of each control state factor. my control states: 2 (eat, do not eat)\n",
        "num_control_factors = len(num_controls) # the total number of control states factors"
      ]
    },
    {
      "cell_type": "code",
      "execution_count": null,
      "metadata": {
        "colab": {
          "base_uri": "https://localhost:8080/"
        },
        "id": "IxKVzGugWfrl",
        "outputId": "99f609a4-c8bb-4241-e942-7f2668213c76"
      },
      "outputs": [
        {
          "output_type": "execute_result",
          "data": {
            "text/plain": [
              "2"
            ]
          },
          "metadata": {},
          "execution_count": 4
        }
      ],
      "source": [
        "num_factors"
      ]
    },
    {
      "cell_type": "code",
      "execution_count": null,
      "metadata": {
        "colab": {
          "base_uri": "https://localhost:8080/"
        },
        "id": "xTjaWtXnjvB2",
        "outputId": "1d5f2fc5-7356-48f2-8c79-0479f126f0d3"
      },
      "outputs": [
        {
          "data": {
            "text/plain": [
              "[1, 1]"
            ]
          },
          "execution_count": 44,
          "metadata": {},
          "output_type": "execute_result"
        }
      ],
      "source": [
        "num_states"
      ]
    },
    {
      "cell_type": "code",
      "execution_count": null,
      "metadata": {
        "colab": {
          "base_uri": "https://localhost:8080/"
        },
        "id": "TotGfBZ4ePh6",
        "outputId": "83d386c4-1bd9-4cf7-e74d-6a64fe2b6f77"
      },
      "outputs": [
        {
          "output_type": "execute_result",
          "data": {
            "text/plain": [
              "(1, 1, 2)"
            ]
          },
          "metadata": {},
          "execution_count": 5
        }
      ],
      "source": [
        "B = utils.initialize_empty_B(num_states, num_controls)\n",
        "\n",
        "B[0].shape #just 1 room and 2 actions"
      ]
    },
    {
      "cell_type": "code",
      "execution_count": null,
      "metadata": {
        "colab": {
          "base_uri": "https://localhost:8080/"
        },
        "id": "mj8lx9U9eztM",
        "outputId": "4fdf3ae2-be65-4afd-e949-3f6abdbc9aa9"
      },
      "outputs": [
        {
          "output_type": "execute_result",
          "data": {
            "text/plain": [
              "(1, 1, 2)"
            ]
          },
          "metadata": {},
          "execution_count": 6
        }
      ],
      "source": [
        "B[1].shape"
      ]
    },
    {
      "cell_type": "markdown",
      "metadata": {
        "id": "WcFlRbqFwHoO"
      },
      "source": [
        "## **2. Matrix A**"
      ]
    },
    {
      "cell_type": "markdown",
      "metadata": {
        "id": "NofeiK3YZng4"
      },
      "source": [
        "*2.1 Matrix A from Heins' nb multi-armed*"
      ]
    },
    {
      "cell_type": "markdown",
      "metadata": {
        "id": "jLBkaOPjZ8HP"
      },
      "source": [
        "Let's start with a **single observation modality**, i.e. food left\n",
        "\n",
        "#what about obs satiety? How do we add it?"
      ]
    },
    {
      "cell_type": "code",
      "execution_count": null,
      "metadata": {
        "id": "Pd-i1y4IbNbI"
      },
      "outputs": [],
      "source": [
        "num_obs = [3] #only 1 obs\n",
        "num_modalities = len(num_obs)\n",
        "\n",
        "A = utils.initialize_empty_A(num_obs, num_states)\n",
        "A_food_left_dims = num_obs + num_states"
      ]
    },
    {
      "cell_type": "code",
      "execution_count": null,
      "metadata": {
        "colab": {
          "base_uri": "https://localhost:8080/"
        },
        "id": "pEepx6B_WkD8",
        "outputId": "4f8e4d9c-e9b4-4c82-c4ba-24b58c402eb9"
      },
      "outputs": [
        {
          "output_type": "execute_result",
          "data": {
            "text/plain": [
              "1"
            ]
          },
          "metadata": {},
          "execution_count": 19
        }
      ],
      "source": [
        "num_modalities"
      ]
    },
    {
      "cell_type": "code",
      "execution_count": null,
      "metadata": {
        "colab": {
          "base_uri": "https://localhost:8080/"
        },
        "id": "NEoSM8fto1Z2",
        "outputId": "41ec13e3-cca9-499e-c456-730b81b0566e"
      },
      "outputs": [
        {
          "output_type": "execute_result",
          "data": {
            "text/plain": [
              "[3, 1, 1]"
            ]
          },
          "metadata": {},
          "execution_count": 20
        }
      ],
      "source": [
        "A_food_left_dims"
      ]
    },
    {
      "cell_type": "code",
      "execution_count": null,
      "metadata": {
        "colab": {
          "base_uri": "https://localhost:8080/"
        },
        "id": "mGHI0pV_4RCC",
        "outputId": "cc3d832f-cf27-4704-e794-365a139a648c"
      },
      "outputs": [
        {
          "output_type": "execute_result",
          "data": {
            "text/plain": [
              "(3, 1, 1)"
            ]
          },
          "metadata": {},
          "execution_count": 21
        }
      ],
      "source": [
        "A[0].shape"
      ]
    },
    {
      "cell_type": "code",
      "execution_count": null,
      "metadata": {
        "id": "mmu9174YbM4j"
      },
      "outputs": [],
      "source": [
        "#is it the correct way to populate it?\n",
        "\n",
        "A[0][0,:,0] = np.eye(1)\n",
        "\n",
        "#A[0][1,:,1] = np.eye(1)\n",
        "\n",
        "#A[0][2,:,2] = np.eye(1)"
      ]
    },
    {
      "cell_type": "markdown",
      "metadata": {
        "id": "yOalUg1-iRQo"
      },
      "source": [
        "Filling out the entries"
      ]
    },
    {
      "cell_type": "code",
      "execution_count": null,
      "metadata": {
        "colab": {
          "base_uri": "https://localhost:8080/"
        },
        "id": "MnQB6wS8t715",
        "outputId": "e43ac65e-1318-46aa-bf26-190fcdda6839"
      },
      "outputs": [
        {
          "output_type": "execute_result",
          "data": {
            "text/plain": [
              "array([[1.]])"
            ]
          },
          "metadata": {},
          "execution_count": 24
        }
      ],
      "source": [
        "np.eye(1)"
      ]
    },
    {
      "cell_type": "code",
      "execution_count": null,
      "metadata": {
        "colab": {
          "base_uri": "https://localhost:8080/",
          "height": 437
        },
        "id": "e6pfW150iR9V",
        "outputId": "97bb3d96-6cea-4b40-e164-1d23aa1db99d"
      },
      "outputs": [
        {
          "output_type": "display_data",
          "data": {
            "text/plain": [
              "<Figure size 640x480 with 2 Axes>"
            ],
            "image/png": "[encoded data removed]"
          },
          "metadata": {}
        }
      ],
      "source": [
        "utils.plot_likelihood(A[0][:,:,0], title = \"P(o | x, y == 0)\") #title? meaning?"
      ]
    },
    {
      "cell_type": "code",
      "execution_count": null,
      "metadata": {
        "id": "w1piJp_giRyl"
      },
      "outputs": [],
      "source": [
        "#utils.plot_likelihood(A[0][:,:,1], title = \"P(o | x, y == 1)\" )"
      ]
    },
    {
      "cell_type": "markdown",
      "metadata": {
        "id": "vCSV_e5_-qeJ"
      },
      "source": [
        "*2.2 OR from pymdp paper*"
      ]
    },
    {
      "cell_type": "code",
      "execution_count": null,
      "metadata": {
        "id": "aOsy7iciY4Ej"
      },
      "outputs": [],
      "source": [
        "#create a simple model with 1 hidden state factor and 1 observation modality\n",
        "n_obs = 3 #food_left\n",
        "n_states = 3\n",
        "A = utils.obj_array(1)"
      ]
    },
    {
      "cell_type": "code",
      "execution_count": null,
      "metadata": {
        "colab": {
          "base_uri": "https://localhost:8080/"
        },
        "id": "wVWPnKLa_vlG",
        "outputId": "9e5b907f-987c-4637-c130-d1c086f4b2f3"
      },
      "outputs": [
        {
          "data": {
            "text/plain": [
              "(1,)"
            ]
          },
          "execution_count": 84,
          "metadata": {},
          "output_type": "execute_result"
        }
      ],
      "source": [
        "A.shape"
      ]
    },
    {
      "cell_type": "code",
      "execution_count": null,
      "metadata": {
        "id": "jfvvZlDh-dNn"
      },
      "outputs": [],
      "source": [
        "#This is just with 1 obs, but we have 2\n",
        "A[0] = np.array ([[1.0, 0.0, 0.0] ,\n",
        "                  [0.0, 1.0, 0.0] ,\n",
        "                  [0.0, 0.0, 1.0]])"
      ]
    },
    {
      "cell_type": "code",
      "execution_count": null,
      "metadata": {
        "id": "3dTZi6hpAbFR"
      },
      "outputs": [],
      "source": [
        "#introduce uncertainty into the hidden state\n",
        "food_left = 0.5\n",
        "A[0][:,2] = maths.softmax(food_left* A[0] [:,2])"
      ]
    },
    {
      "cell_type": "code",
      "execution_count": null,
      "metadata": {
        "id": "buvXKXFGB0Hg"
      },
      "outputs": [],
      "source": [
        "#utils.plot_likelihood(A[0][:,2], title = \"foo\" ) #cannot plot since is 2D"
      ]
    },
    {
      "cell_type": "markdown",
      "metadata": {
        "id": "ZrFRdvWDWh3w"
      },
      "source": [
        "## **3. Matrix B**\n"
      ]
    },
    {
      "cell_type": "markdown",
      "source": [
        "*3.1 From Heins' nb multi-armed*"
      ],
      "metadata": {
        "id": "QgJkJV4ZOQPO"
      }
    },
    {
      "cell_type": "code",
      "execution_count": null,
      "metadata": {
        "id": "GIxxF8wyvx8f"
      },
      "outputs": [],
      "source": [
        "\"\"\" Build an object array for storing the factor-specific B matrices \"\"\"\n",
        "#B = utils.initialize_empty_B(num_states, num_controls) #transition model"
      ]
    },
    {
      "cell_type": "code",
      "execution_count": null,
      "metadata": {
        "id": "m9Dra-Kbv0-Q"
      },
      "outputs": [],
      "source": [
        "#B[0].shape #1 location, 2 control states (eat, do not eat)"
      ]
    },
    {
      "cell_type": "code",
      "execution_count": null,
      "metadata": {
        "id": "kxlb0eAYv9cV"
      },
      "outputs": [],
      "source": [
        "#B #empty, to be filled in"
      ]
    },
    {
      "cell_type": "code",
      "execution_count": null,
      "metadata": {
        "id": "y5unnehf0qDv"
      },
      "outputs": [],
      "source": [
        "#for f, ns in enumerate(num_states):\n",
        "\n",
        " # \"\"\" Initialize the B matrix for this factor \"\"\"\n",
        "  #B[f] = np.zeros((ns, ns, num_controls[f]))\n",
        "\n",
        "#EAT\n",
        "#B[f][ , , 0] = 1.0\n",
        "#B[f][ , , ] =\n",
        "\n",
        "#DO NOT EAT\n",
        "#B[f][:, : , 1] = np.eye(ns)"
      ]
    },
    {
      "cell_type": "markdown",
      "metadata": {
        "id": "5tIChJD-ymB5"
      },
      "source": [
        "*3.2 From pymdp paper*"
      ]
    },
    {
      "cell_type": "markdown",
      "source": [
        "## As above, this considers 1 obs (food_left). What about obs satiety? How do we add it?"
      ],
      "metadata": {
        "id": "Oxkg3OX-Mlol"
      }
    },
    {
      "cell_type": "code",
      "execution_count": null,
      "metadata": {
        "id": "_SXlGTr0yn1A"
      },
      "outputs": [],
      "source": [
        "# create a simple transition model with two possible actions\n",
        "\n",
        "B = utils.obj_array (1)\n",
        "B[0] = np.zeros ((3, 3, 2)) #n_obs = 3 (we're considering obs food_left for 3 dim); n_states = 3 (only 1 hidden stats); control state = 2 (eat, do not)\n",
        "\n",
        "\n",
        "# EAT leads to state with certainty: food_left = 0\n",
        "B [0][: ,: ,0] = np. array ([[0.0 , 0.0 , 0.0] ,\n",
        "                             [0.0 , 0.0 , 0.0] ,\n",
        "                             [1.0 , 1.0 , 1.0]])\n",
        "\n",
        "# DO NOT EAT leads to first 2 states with uncertainty\n",
        "\n",
        "B [0][: ,: ,1] = np. array ([[0.5 , 0.5 , 0.5] ,\n",
        "                             [0.5 , 0.5 , 0.5] ,\n",
        "                             [0.0 , 0.0 , 0.0]])\n"
      ]
    },
    {
      "cell_type": "code",
      "source": [
        "B"
      ],
      "metadata": {
        "colab": {
          "base_uri": "https://localhost:8080/"
        },
        "id": "DKPZ253YKsod",
        "outputId": "f2dff2c1-677f-49b0-808f-5cceceb16353"
      },
      "execution_count": null,
      "outputs": [
        {
          "output_type": "execute_result",
          "data": {
            "text/plain": [
              "array([array([[[0. , 0.5],\n",
              "               [0. , 0.5],\n",
              "               [0. , 0.5]],\n",
              "\n",
              "              [[0. , 0.5],\n",
              "               [0. , 0.5],\n",
              "               [0. , 0.5]],\n",
              "\n",
              "              [[1. , 0. ],\n",
              "               [1. , 0. ],\n",
              "               [1. , 0. ]]])], dtype=object)"
            ]
          },
          "metadata": {},
          "execution_count": 67
        }
      ]
    },
    {
      "cell_type": "code",
      "source": [
        "B[0].shape"
      ],
      "metadata": {
        "colab": {
          "base_uri": "https://localhost:8080/"
        },
        "id": "sofmQ2MuKjz0",
        "outputId": "fd8018c1-f664-47dc-8b67-1b29a8dce3af"
      },
      "execution_count": null,
      "outputs": [
        {
          "output_type": "execute_result",
          "data": {
            "text/plain": [
              "(3, 3, 2)"
            ]
          },
          "metadata": {},
          "execution_count": 68
        }
      ]
    },
    {
      "cell_type": "code",
      "source": [
        "B.sum(axis = 0)"
      ],
      "metadata": {
        "colab": {
          "base_uri": "https://localhost:8080/"
        },
        "id": "JG01fgDOKNLe",
        "outputId": "8a3dd132-07f0-4f63-badc-e04629b93c16"
      },
      "execution_count": null,
      "outputs": [
        {
          "output_type": "execute_result",
          "data": {
            "text/plain": [
              "array([[[0. , 0.5],\n",
              "        [0. , 0.5],\n",
              "        [0. , 0.5]],\n",
              "\n",
              "       [[0. , 0.5],\n",
              "        [0. , 0.5],\n",
              "        [0. , 0.5]],\n",
              "\n",
              "       [[1. , 0. ],\n",
              "        [1. , 0. ],\n",
              "        [1. , 0. ]]])"
            ]
          },
          "metadata": {},
          "execution_count": 69
        }
      ]
    },
    {
      "cell_type": "markdown",
      "metadata": {
        "id": "Ngqx5rk-CCZA"
      },
      "source": [
        "Plot the B matrix"
      ]
    },
    {
      "cell_type": "code",
      "execution_count": null,
      "metadata": {
        "colab": {
          "base_uri": "https://localhost:8080/",
          "height": 437
        },
        "id": "sip8xj732zkg",
        "outputId": "0f40f184-b526-4882-fa18-ade6a003ca5c"
      },
      "outputs": [
        {
          "output_type": "display_data",
          "data": {
            "text/plain": [
              "<Figure size 640x480 with 2 Axes>"
            ],
            "image/png": "[encoded data removed]"
          },
          "metadata": {}
        }
      ],
      "source": [
        "utils.plot_likelihood(B[0][:,:,0], title = 'EAT') # eat will bring to smth certain: food_left = 0"
      ]
    },
    {
      "cell_type": "code",
      "execution_count": null,
      "metadata": {
        "colab": {
          "base_uri": "https://localhost:8080/",
          "height": 437
        },
        "id": "hh9_5KA32zbB",
        "outputId": "c53250a0-31af-4e64-f425-48d210999bcd"
      },
      "outputs": [
        {
          "output_type": "display_data",
          "data": {
            "text/plain": [
              "<Figure size 640x480 with 2 Axes>"
            ],
            "image/png": "[encoded data removed]"
          },
          "metadata": {}
        }
      ],
      "source": [
        "utils.plot_likelihood(B[0][:,:,1], title = ' DO NOT EAT') #this action takes more uncertainty: the agent is not sure what's gonna happen if it does not eat"
      ]
    },
    {
      "cell_type": "markdown",
      "source": [
        "## **4. Vectors C - D**"
      ],
      "metadata": {
        "id": "iTFw3WFayCdW"
      }
    },
    {
      "cell_type": "markdown",
      "source": [
        "From pymdp paper"
      ],
      "metadata": {
        "id": "3jqroZJpyCIK"
      }
    },
    {
      "cell_type": "code",
      "source": [
        "#specify prior preferences (C vector)\n",
        "C = utils.obj_array_uniform([n_obs]) #specified where?\n",
        "C"
      ],
      "metadata": {
        "colab": {
          "base_uri": "https://localhost:8080/"
        },
        "id": "9PwGqrEs1DDj",
        "outputId": "5d944027-5224-4a3f-8b70-52b21c38a111"
      },
      "execution_count": null,
      "outputs": [
        {
          "output_type": "execute_result",
          "data": {
            "text/plain": [
              "array([array([0.33333333, 0.33333333, 0.33333333])], dtype=object)"
            ]
          },
          "metadata": {},
          "execution_count": 72
        }
      ]
    },
    {
      "cell_type": "code",
      "source": [
        "C.shape"
      ],
      "metadata": {
        "colab": {
          "base_uri": "https://localhost:8080/"
        },
        "id": "7AOA_ykuI8ro",
        "outputId": "21ba0cfa-b91f-41ad-ed29-e64066354d5e"
      },
      "execution_count": null,
      "outputs": [
        {
          "output_type": "execute_result",
          "data": {
            "text/plain": [
              "(1,)"
            ]
          },
          "metadata": {},
          "execution_count": 73
        }
      ]
    },
    {
      "cell_type": "code",
      "source": [
        "#plot?\n",
        "#utils.plot_beliefs(softmax(C[1]), title = \"Prior preferences\") softmax?"
      ],
      "metadata": {
        "id": "j5OHmSwvXF6z"
      },
      "execution_count": null,
      "outputs": []
    },
    {
      "cell_type": "code",
      "source": [
        "#specify prior over hidden states (D vector)\n",
        "D = utils.obj_array(1)\n",
        "D[0] = utils.onehot(1, n_states)\n",
        "D"
      ],
      "metadata": {
        "colab": {
          "base_uri": "https://localhost:8080/"
        },
        "id": "hTcYpKthyEu7",
        "outputId": "2621bf6d-559c-4bd0-ed0a-0a6ad662ada0"
      },
      "execution_count": null,
      "outputs": [
        {
          "output_type": "execute_result",
          "data": {
            "text/plain": [
              "array([array([0., 1., 0.])], dtype=object)"
            ]
          },
          "metadata": {},
          "execution_count": 74
        }
      ]
    },
    {
      "cell_type": "code",
      "source": [
        "D.shape"
      ],
      "metadata": {
        "colab": {
          "base_uri": "https://localhost:8080/"
        },
        "id": "3f9PhdnFI36w",
        "outputId": "468288d3-c5d4-43ea-9659-55137fdb87b2"
      },
      "execution_count": null,
      "outputs": [
        {
          "output_type": "execute_result",
          "data": {
            "text/plain": [
              "(1,)"
            ]
          },
          "metadata": {},
          "execution_count": 75
        }
      ]
    },
    {
      "cell_type": "code",
      "source": [
        "#plot?\n",
        "#utils.plot_beliefs(softmax(D[0]), title = \"Prior beliefs about probability of the two contexts\")"
      ],
      "metadata": {
        "id": "1S9f4T15XZR7"
      },
      "execution_count": null,
      "outputs": []
    },
    {
      "cell_type": "code",
      "source": [
        "# instantiate the agent\n",
        "my_agent = Agent (A=A, B=B, C=C, D=D)"
      ],
      "metadata": {
        "id": "OZM1TebS2COv"
      },
      "execution_count": null,
      "outputs": []
    },
    {
      "cell_type": "markdown",
      "metadata": {
        "id": "BEowwdH9DNtr"
      },
      "source": [
        "## **5. Generative model**"
      ]
    },
    {
      "cell_type": "markdown",
      "source": [
        "*5.1 From pymdp paper*"
      ],
      "metadata": {
        "id": "ymmtYdca2dpI"
      }
    },
    {
      "cell_type": "code",
      "source": [
        "# write a simple environment class, where state depends on the action\n",
        "# probabilistically and observation is deterministic function of the state\n",
        "# except for state 2, where it’s randomly sampled %%\n",
        "\n",
        "from pymdp.envs import Env"
      ],
      "metadata": {
        "id": "E6PY4An0WX1D"
      },
      "execution_count": null,
      "outputs": []
    },
    {
      "cell_type": "code",
      "source": [
        "# sub - class it from the base Env class"
      ],
      "metadata": {
        "id": "YAqQETzqWYcO"
      },
      "execution_count": null,
      "outputs": []
    },
    {
      "cell_type": "code",
      "source": [],
      "metadata": {
        "id": "N0RpgXlIWYRi"
      },
      "execution_count": null,
      "outputs": []
    },
    {
      "cell_type": "code",
      "source": [],
      "metadata": {
        "id": "hQ_rte6GWYET"
      },
      "execution_count": null,
      "outputs": []
    },
    {
      "cell_type": "code",
      "source": [],
      "metadata": {
        "id": "ro6ySDvYX0DZ"
      },
      "execution_count": null,
      "outputs": []
    },
    {
      "cell_type": "code",
      "source": [],
      "metadata": {
        "id": "vrzk6Iz_Xz4S"
      },
      "execution_count": null,
      "outputs": []
    },
    {
      "cell_type": "markdown",
      "metadata": {
        "id": "wW6MiV1HQ9pc"
      },
      "source": [
        "*5.2 From Heins'paper*\n",
        "Specify dimensionalities"
      ]
    },
    {
      "cell_type": "code",
      "execution_count": null,
      "metadata": {
        "id": "we9dDIto2zV2"
      },
      "outputs": [],
      "source": [
        " #hidden state\n",
        "s_food_left = [0, 1] #wrong values?\n",
        "\n",
        "\"\"\" Define `num_states` and `num_factors` below \"\"\"\n",
        "num_states = [len(s_food_left)]\n",
        "num_factors = len(num_states)\n",
        "\n",
        "#control states\n",
        "action1 = ['Do not eat']\n",
        "action2 = ['Eat']\n",
        "\n",
        "\"\"\" Define `num_controls` below \"\"\"\n",
        "num_controls = [len(action1), len(action2)]\n",
        "\n",
        "#observations\n",
        "obs_food = ['0', '1']   #wrong values, should take a float\n",
        "obs_satiety = ['0', '1']   #wrong values, should take a float\n",
        "\n",
        "\"\"\" Define `num_obs` and `num_modalities` below \"\"\"\n",
        "num_obs = [len(obs_food), len(obs_satiety)]\n",
        "num_modalities = len(num_obs)"
      ]
    },
    {
      "cell_type": "code",
      "execution_count": null,
      "metadata": {
        "colab": {
          "base_uri": "https://localhost:8080/"
        },
        "id": "tq2zFaQs2zSa",
        "outputId": "47cf0853-1658-44be-e28a-3a45003ccc32"
      },
      "outputs": [
        {
          "data": {
            "text/plain": [
              "[2]"
            ]
          },
          "execution_count": 23,
          "metadata": {},
          "output_type": "execute_result"
        }
      ],
      "source": [
        "num_states"
      ]
    },
    {
      "cell_type": "code",
      "execution_count": null,
      "metadata": {
        "colab": {
          "base_uri": "https://localhost:8080/"
        },
        "id": "XXNi49Bi2zK1",
        "outputId": "d539f4e9-2e86-48d9-c99a-ca5d64d2ed3e"
      },
      "outputs": [
        {
          "data": {
            "text/plain": [
              "[1, 1]"
            ]
          },
          "execution_count": 24,
          "metadata": {},
          "output_type": "execute_result"
        }
      ],
      "source": [
        "num_controls"
      ]
    },
    {
      "cell_type": "code",
      "execution_count": null,
      "metadata": {
        "colab": {
          "base_uri": "https://localhost:8080/"
        },
        "id": "YuUQAAHk2zOt",
        "outputId": "97bacb18-72f4-4df4-f78a-c49c5bf846a7"
      },
      "outputs": [
        {
          "data": {
            "text/plain": [
              "[2, 2]"
            ]
          },
          "execution_count": 25,
          "metadata": {},
          "output_type": "execute_result"
        }
      ],
      "source": [
        "num_obs"
      ]
    },
    {
      "cell_type": "markdown",
      "metadata": {
        "id": "QMQKFjbFRvX4"
      },
      "source": [
        "Create the A array"
      ]
    },
    {
      "cell_type": "code",
      "execution_count": null,
      "metadata": {
        "id": "_0L1EFPw2zE5"
      },
      "outputs": [],
      "source": [
        "#generate the A array\n",
        "A = utils.initialize_empty_A(num_obs, num_states)"
      ]
    },
    {
      "cell_type": "code",
      "execution_count": null,
      "metadata": {
        "colab": {
          "base_uri": "https://localhost:8080/"
        },
        "id": "6x7kd-tC2y8h",
        "outputId": "0feb81d9-832a-4f96-eaa9-4e95bc4d36a0"
      },
      "outputs": [
        {
          "data": {
            "text/plain": [
              "array([[0., 0.],\n",
              "       [0., 0.]])"
            ]
          },
          "execution_count": 27,
          "metadata": {},
          "output_type": "execute_result"
        }
      ],
      "source": [
        "A[0]"
      ]
    },
    {
      "cell_type": "markdown",
      "metadata": {
        "id": "afAv43mhVU_G"
      },
      "source": [
        "Fill out food left observation"
      ]
    },
    {
      "cell_type": "code",
      "execution_count": null,
      "metadata": {
        "colab": {
          "base_uri": "https://localhost:8080/",
          "height": 211
        },
        "id": "lDoo1zZr_65-",
        "outputId": "42bd5a76-74d0-46d4-f7c7-935210982339"
      },
      "outputs": [
        {
          "ename": "TypeError",
          "evalue": "Cannot interpret '2' as a data type",
          "output_type": "error",
          "traceback": [
            "\u001b[0;31m---------------------------------------------------------------------------\u001b[0m",
            "\u001b[0;31mTypeError\u001b[0m                                 Traceback (most recent call last)",
            "\u001b[0;32m<ipython-input-29-cdb0b1a2c806>\u001b[0m in \u001b[0;36m<cell line: 6>\u001b[0;34m()\u001b[0m\n\u001b[1;32m      4\u001b[0m \u001b[0mp_food\u001b[0m \u001b[0;34m=\u001b[0m \u001b[0;36m0.7\u001b[0m \u001b[0;31m#? how much the agent trusts the obs of food left?\u001b[0m\u001b[0;34m\u001b[0m\u001b[0;34m\u001b[0m\u001b[0m\n\u001b[1;32m      5\u001b[0m \u001b[0;34m\u001b[0m\u001b[0m\n\u001b[0;32m----> 6\u001b[0;31m \u001b[0mA_food\u001b[0m \u001b[0;34m=\u001b[0m \u001b[0mnp\u001b[0m\u001b[0;34m.\u001b[0m\u001b[0mzeros\u001b[0m\u001b[0;34m(\u001b[0m\u001b[0mlen\u001b[0m\u001b[0;34m(\u001b[0m\u001b[0mnum_controls\u001b[0m\u001b[0;34m)\u001b[0m\u001b[0;34m,\u001b[0m \u001b[0mlen\u001b[0m\u001b[0;34m(\u001b[0m\u001b[0ms_food_left\u001b[0m\u001b[0;34m)\u001b[0m\u001b[0;34m)\u001b[0m\u001b[0;34m\u001b[0m\u001b[0;34m\u001b[0m\u001b[0m\n\u001b[0m\u001b[1;32m      7\u001b[0m \u001b[0;34m\u001b[0m\u001b[0m\n\u001b[1;32m      8\u001b[0m \u001b[0;32mfor\u001b[0m \u001b[0mfood_id\u001b[0m\u001b[0;34m,\u001b[0m \u001b[0ms_food_left_value\u001b[0m \u001b[0;32min\u001b[0m \u001b[0menumerate\u001b[0m\u001b[0;34m(\u001b[0m\u001b[0ms_food_left\u001b[0m\u001b[0;34m)\u001b[0m\u001b[0;34m:\u001b[0m\u001b[0;34m\u001b[0m\u001b[0;34m\u001b[0m\u001b[0m\n",
            "\u001b[0;31mTypeError\u001b[0m: Cannot interpret '2' as a data type"
          ]
        }
      ],
      "source": [
        "#NOT WORKING - TO BE REVISED\n",
        "\n",
        "#accuracy of the obs food left\n",
        "p_food = 0.7 #? how much the agent trusts the obs of food left?\n",
        "\n",
        "A_food = np.zeros(len(num_controls), len(s_food_left)) #np.zero takes float\n",
        "\n",
        "for food_id, s_food_left_value in enumerate(s_food_left):\n",
        "\n",
        "  if s_food_left_value == '0':\n",
        "    A_food[0,:,food_id] = 1.0\n",
        "\n",
        "  elif s_food_left_value == '1':\n",
        "    A_food[1:,:,food_id] = np.array([[p_food, 1.0 - p_food],\n",
        "                                   1.0 - p_food, p_food])\n",
        "\n",
        "  A[0] = A_food"
      ]
    },
    {
      "cell_type": "code",
      "execution_count": null,
      "metadata": {
        "colab": {
          "base_uri": "https://localhost:8080/",
          "height": 141
        },
        "id": "QL7iLszbZnvA",
        "outputId": "6678b729-1add-4687-9171-2500957c49b6"
      },
      "outputs": [
        {
          "ename": "AttributeError",
          "evalue": "'builtin_function_or_method' object has no attribute 'show'",
          "output_type": "error",
          "traceback": [
            "\u001b[0;31m---------------------------------------------------------------------------\u001b[0m",
            "\u001b[0;31mAttributeError\u001b[0m                            Traceback (most recent call last)",
            "\u001b[0;32m<ipython-input-31-6f8544179bb1>\u001b[0m in \u001b[0;36m<cell line: 1>\u001b[0;34m()\u001b[0m\n\u001b[0;32m----> 1\u001b[0;31m \u001b[0mnp\u001b[0m\u001b[0;34m.\u001b[0m\u001b[0mzeros\u001b[0m\u001b[0;34m.\u001b[0m\u001b[0mshow\u001b[0m\u001b[0;34m\u001b[0m\u001b[0;34m\u001b[0m\u001b[0m\n\u001b[0m",
            "\u001b[0;31mAttributeError\u001b[0m: 'builtin_function_or_method' object has no attribute 'show'"
          ]
        }
      ],
      "source": []
    },
    {
      "cell_type": "code",
      "execution_count": null,
      "metadata": {
        "colab": {
          "base_uri": "https://localhost:8080/",
          "height": 141
        },
        "id": "IZ_WD8xY_6yv",
        "outputId": "364e19e3-43ad-44e1-856b-61a3f2abd3f0"
      },
      "outputs": [
        {
          "ename": "IndexError",
          "evalue": "too many indices for array: array is 2-dimensional, but 3 were indexed",
          "output_type": "error",
          "traceback": [
            "\u001b[0;31m---------------------------------------------------------------------------\u001b[0m",
            "\u001b[0;31mIndexError\u001b[0m                                Traceback (most recent call last)",
            "\u001b[0;32m<ipython-input-29-3af02525c5f6>\u001b[0m in \u001b[0;36m<cell line: 1>\u001b[0;34m()\u001b[0m\n\u001b[0;32m----> 1\u001b[0;31m \u001b[0mutils\u001b[0m\u001b[0;34m.\u001b[0m\u001b[0mplot_likelihood\u001b[0m\u001b[0;34m(\u001b[0m\u001b[0mA\u001b[0m\u001b[0;34m[\u001b[0m\u001b[0;36m0\u001b[0m\u001b[0;34m]\u001b[0m\u001b[0;34m[\u001b[0m\u001b[0;34m:\u001b[0m\u001b[0;34m,\u001b[0m\u001b[0;34m:\u001b[0m\u001b[0;34m,\u001b[0m\u001b[0;36m1\u001b[0m\u001b[0;34m]\u001b[0m\u001b[0;34m,\u001b[0m \u001b[0mtitle\u001b[0m \u001b[0;34m=\u001b[0m \u001b[0;34m\"Probability of the two hint types, for the two game states\"\u001b[0m\u001b[0;34m)\u001b[0m\u001b[0;34m\u001b[0m\u001b[0;34m\u001b[0m\u001b[0m\n\u001b[0m",
            "\u001b[0;31mIndexError\u001b[0m: too many indices for array: array is 2-dimensional, but 3 were indexed"
          ]
        }
      ],
      "source": [
        "#NOT WORKING - TO BE REVISED\n",
        "\n",
        "utils.plot_likelihood(A[0][:,:,1], title = \"Probability of the two hint types, for the two game states\")"
      ]
    },
    {
      "cell_type": "markdown",
      "metadata": {
        "id": "X6e0iBaiUH0v"
      },
      "source": [
        "Fill out satiety observation"
      ]
    },
    {
      "cell_type": "code",
      "execution_count": null,
      "metadata": {
        "id": "QqkBHvwYTUhm"
      },
      "outputs": [],
      "source": [
        "#NOT WORKING - TO BE DONE\n",
        "\n",
        "p_reward = 0.8 # probability of getting a rewarding outcome, if you are sampling the more rewarding bandit\n",
        "\n",
        "A_reward = np.zeros((len(reward_obs_names), len(context_names), len(choice_names)))\n",
        "\n",
        "for choice_id, choice_name in enumerate(choice_names):\n",
        "\n",
        "  if choice_name == 'Start':\n",
        "\n",
        "    A_reward[0,:,choice_id] = 1.0\n",
        "\n",
        "  elif choice_name == 'Hint':\n",
        "\n",
        "    A_reward[0,:,choice_id] = 1.0\n",
        "\n",
        "  elif choice_name == 'Left Arm':\n",
        "\n",
        "    A_reward[1:,:,choice_id] = np.array([ [1.0-p_reward, p_reward],\n",
        "                                        [p_reward, 1.0-p_reward]])\n",
        "  elif choice_name == 'Right Arm':\n",
        "\n",
        "    A_reward[1:, :, choice_id] = np.array([[ p_reward, 1.0- p_reward],\n",
        "                                         [1- p_reward, p_reward]])\n",
        "\n",
        "A[1] = A_reward"
      ]
    },
    {
      "cell_type": "code",
      "execution_count": null,
      "metadata": {
        "id": "g7AgbJwkTUYE"
      },
      "outputs": [],
      "source": [
        "#DOES NOT WORK TO BE DONE\n",
        "\n",
        "utils.plot_likelihood(A[1][:,:,2], title='Payoff structure if playing the Left Arm, for the two contexts')"
      ]
    },
    {
      "cell_type": "markdown",
      "metadata": {
        "id": "qzOBVIhjViEa"
      },
      "source": [
        "### Let's wrap that all into a single function so we can quickly re-set or re-parameterize the A array as needed"
      ]
    },
    {
      "cell_type": "code",
      "execution_count": null,
      "metadata": {
        "id": "-NnsDPRtTULv"
      },
      "outputs": [],
      "source": []
    },
    {
      "cell_type": "code",
      "execution_count": null,
      "metadata": {
        "id": "TDemfMGD_6en"
      },
      "outputs": [],
      "source": []
    },
    {
      "cell_type": "code",
      "execution_count": null,
      "metadata": {
        "id": "EXERUQc-IIwU"
      },
      "outputs": [],
      "source": []
    },
    {
      "cell_type": "code",
      "execution_count": null,
      "metadata": {
        "id": "wQWyK5-RIIiO"
      },
      "outputs": [],
      "source": []
    },
    {
      "cell_type": "code",
      "execution_count": null,
      "metadata": {
        "id": "9dmAvBUoFuzk"
      },
      "outputs": [],
      "source": []
    },
    {
      "cell_type": "code",
      "execution_count": null,
      "metadata": {
        "id": "7JMeu6GYFvNc"
      },
      "outputs": [],
      "source": []
    },
    {
      "cell_type": "code",
      "execution_count": null,
      "metadata": {
        "id": "jbZONL9WFvB8"
      },
      "outputs": [],
      "source": []
    },
    {
      "cell_type": "code",
      "execution_count": null,
      "metadata": {
        "id": "0Wkglz9FFv18"
      },
      "outputs": [],
      "source": []
    },
    {
      "cell_type": "code",
      "execution_count": null,
      "metadata": {
        "id": "T1sKCCTZFwPz"
      },
      "outputs": [],
      "source": []
    },
    {
      "cell_type": "code",
      "execution_count": null,
      "metadata": {
        "id": "Y7hQZJTTFv8h"
      },
      "outputs": [],
      "source": []
    },
    {
      "cell_type": "markdown",
      "metadata": {
        "id": "5H4iO4VZFU1G"
      },
      "source": [
        "## **Previous random attempts**"
      ]
    },
    {
      "cell_type": "markdown",
      "metadata": {
        "id": "eoaXJW4GFUnd"
      },
      "source": []
    },
    {
      "cell_type": "code",
      "execution_count": null,
      "metadata": {
        "id": "AySIpmvYwdgS"
      },
      "outputs": [],
      "source": [
        "#for me is just: eat, do not eat\n",
        "#  \"\"\"Initialize the B matrix for this factor \"\"\"\n",
        "# for f, ns in enumerate(num_states):\n",
        "#   B[f] = np.zeros( (ns, ns, num_controls[f]))\n",
        "## create a simple transition model with two possible actions\n",
        "\n",
        "#EAT\n",
        "B = utils.obj_array(1)\n",
        "B[0] = np.zeros((3, 3, 2))\n",
        "\n",
        "#DO NOT EAT\n"
      ]
    },
    {
      "cell_type": "code",
      "execution_count": null,
      "metadata": {
        "id": "tbgrpCe0wVw5"
      },
      "outputs": [],
      "source": [
        " # introduce uncertainty into one of the hidden states\n",
        " inv_temperature = 0.5\n",
        " A [0][: ,2] = maths . softmax ( inv_temperature * A [0][: ,2])"
      ]
    },
    {
      "cell_type": "code",
      "execution_count": null,
      "metadata": {
        "id": "u97YmyhlvXDL"
      },
      "outputs": [],
      "source": [
        "A, B, C, D, = ... #set up the generative model\n",
        "my_agent = Agent (A=A, B=B, C=C, D=D)"
      ]
    },
    {
      "cell_type": "code",
      "execution_count": null,
      "metadata": {
        "id": "pMRgmICc3QQo"
      },
      "outputs": [],
      "source": [
        "sc_env = SearchEnv(starting_loc = 'start', scene_name = )"
      ]
    },
    {
      "cell_type": "code",
      "execution_count": null,
      "metadata": {
        "id": "bfCFbTtSvyEo"
      },
      "outputs": [],
      "source": [
        "task_env = myCustomEnv() #set up generative process or environment. generare il mio?"
      ]
    },
    {
      "cell_type": "code",
      "execution_count": null,
      "metadata": {
        "id": "hEW1X97UwGHZ"
      },
      "outputs": [],
      "source": [
        "#one time step of active inference\n",
        "#observation = task_env.reset()\n",
        "#qs = my_agent.infer_states(observation)\n",
        "#q_pi = my_agent.infer_policies()\n",
        "#chosen_action = my_agent.sample_action"
      ]
    },
    {
      "cell_type": "code",
      "execution_count": null,
      "metadata": {
        "id": "wKiinMxzwGBi"
      },
      "outputs": [],
      "source": [
        "#get the observation given the action\n",
        "#next_observation = task_env.step(chosen_action)"
      ]
    },
    {
      "cell_type": "code",
      "execution_count": null,
      "metadata": {
        "id": "BcmJChdswF8E"
      },
      "outputs": [],
      "source": []
    },
    {
      "cell_type": "code",
      "execution_count": null,
      "metadata": {
        "id": "0h4CUPQkwF5K"
      },
      "outputs": [],
      "source": []
    },
    {
      "cell_type": "code",
      "execution_count": null,
      "metadata": {
        "id": "uGKh9tJCwFpC"
      },
      "outputs": [],
      "source": []
    },
    {
      "cell_type": "code",
      "execution_count": null,
      "metadata": {
        "id": "eJT0axVlwFco"
      },
      "outputs": [],
      "source": []
    },
    {
      "cell_type": "markdown",
      "metadata": {
        "id": "Cv6-ZYfZ7Npv"
      },
      "source": [
        "**1. MDP** - but we have to do PO"
      ]
    },
    {
      "cell_type": "code",
      "execution_count": null,
      "metadata": {
        "colab": {
          "base_uri": "https://localhost:8080/",
          "height": 437
        },
        "id": "C3M4UeUW7KhU",
        "outputId": "dd21984a-5e96-4663-e0bc-0dfbac020790"
      },
      "outputs": [
        {
          "data": {
            "image/png": "[encoded data removed]",
            "text/plain": [
              "<Figure size 640x480 with 2 Axes>"
            ]
          },
          "metadata": {},
          "output_type": "display_data"
        }
      ],
      "source": [
        "states = np.linspace(1,4,4).reshape(2,2)\n",
        "#print(states)\n",
        "\n",
        "plt.imshow(states, cmap='viridis')\n",
        "plt.colorbar()\n",
        "plt.axis('off')\n",
        "plt.title('States Gridworld')\n",
        "plt.show()"
      ]
    },
    {
      "cell_type": "markdown",
      "metadata": {
        "id": "pVarBUuz8aRn"
      },
      "source": [
        "**2. Action space.** The agent move across the environment to collect rewards = find resources. There are 4 actions: move north, east, south or west"
      ]
    },
    {
      "cell_type": "code",
      "execution_count": null,
      "metadata": {
        "colab": {
          "base_uri": "https://localhost:8080/",
          "height": 207
        },
        "id": "ZAxngm6581Pf",
        "outputId": "2892d3cc-28c6-4c69-ef0e-c58eb06b7900"
      },
      "outputs": [
        {
          "data": {
            "image/png": "[encoded data removed]",
            "text/plain": [
              "<Figure size 640x480 with 1 Axes>"
            ]
          },
          "metadata": {},
          "output_type": "display_data"
        }
      ],
      "source": [
        "actions = np.linspace(1,4,4).reshape(1,4)\n",
        "#rint(actions)\n",
        "\n",
        "plt.imshow(actions, cmap='RdBu')\n",
        "plt.yticks([])\n",
        "plt.xticks(np.arange(4), ['Move North', 'Move West', 'Move South','Move East'])\n",
        "plt.title('Actions Gridworld')\n",
        "plt.show()"
      ]
    },
    {
      "cell_type": "markdown",
      "metadata": {
        "id": "QRWqUSeE9Dw9"
      },
      "source": [
        "**PYMDP**"
      ]
    },
    {
      "cell_type": "code",
      "execution_count": null,
      "metadata": {
        "id": "GpTt_M-17-eQ"
      },
      "outputs": [],
      "source": []
    },
    {
      "cell_type": "code",
      "execution_count": null,
      "metadata": {
        "id": "kpGnzbyL7LFb"
      },
      "outputs": [],
      "source": []
    },
    {
      "cell_type": "code",
      "execution_count": null,
      "metadata": {
        "id": "thHnOjuG7LMP"
      },
      "outputs": [],
      "source": []
    },
    {
      "cell_type": "code",
      "execution_count": null,
      "metadata": {
        "id": "nttiebju7LP-"
      },
      "outputs": [],
      "source": []
    },
    {
      "cell_type": "code",
      "execution_count": null,
      "metadata": {
        "id": "MgwPRkIU7LS_"
      },
      "outputs": [],
      "source": []
    }
  ],
  "metadata": {
    "colab": {
      "provenance": [],
      "include_colab_link": true
    },
    "kernelspec": {
      "display_name": "Python 3",
      "name": "python3"
    },
    "language_info": {
      "name": "python"
    }
  },
  "nbformat": 4,
  "nbformat_minor": 0
}