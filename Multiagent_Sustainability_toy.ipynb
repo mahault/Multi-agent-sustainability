{
  "nbformat": 4,
  "nbformat_minor": 0,
  "metadata": {
    "colab": {
      "provenance": [],
      "authorship_tag": "ABX9TyNKs2bimpiuPCtlz/uZwJzx",
      "include_colab_link": true
    },
    "kernelspec": {
      "name": "python3",
      "display_name": "Python 3"
    },
    "language_info": {
      "name": "python"
    }
  },
  "cells": [
    {
      "cell_type": "markdown",
      "metadata": {
        "id": "view-in-github",
        "colab_type": "text"
      },
      "source": [
        "<a href=\"https://colab.research.google.com/github/mahault/Multi-agent-sustainability/blob/main/Multiagent_Sustainability_toy.ipynb\" target=\"_parent\"><img src=\"https://colab.research.google.com/assets/colab-badge.svg\" alt=\"Open In Colab\"/></a>"
      ]
    },
    {
      "cell_type": "markdown",
      "source": [
        "Environment Setup\n",
        "\n",
        "\n",
        "*   Grid Setup: The environment consists of a 3x3 grid.\n",
        "*   Agent Dynamics: Two agents that can move, communicate, and consume resources.\n",
        "*   Resource Dynamics: Water and food are placed randomly and can deplete and replenish.\n",
        "\n",
        "\n"
      ],
      "metadata": {
        "id": "uWGa5fvQOXcA"
      }
    },
    {
      "cell_type": "code",
      "source": [
        "!pip install pettingzoo"
      ],
      "metadata": {
        "colab": {
          "base_uri": "https://localhost:8080/"
        },
        "id": "oqdCeImROn8Y",
        "outputId": "ac0c3b72-56e7-4c0b-907a-e13988c67de5"
      },
      "execution_count": 2,
      "outputs": [
        {
          "output_type": "stream",
          "name": "stdout",
          "text": [
            "Collecting pettingzoo\n",
            "  Downloading pettingzoo-1.24.3-py3-none-any.whl (847 kB)\n",
            "\u001b[?25l     \u001b[90m━━━━━━━━━━━━━━━━━━━━━━━━━━━━━━━━━━━━━━━━\u001b[0m \u001b[32m0.0/847.8 kB\u001b[0m \u001b[31m?\u001b[0m eta \u001b[36m-:--:--\u001b[0m\r\u001b[2K     \u001b[91m━\u001b[0m\u001b[91m╸\u001b[0m\u001b[90m━━━━━━━━━━━━━━━━━━━━━━━━━━━━━━━━━━━━━━\u001b[0m \u001b[32m41.0/847.8 kB\u001b[0m \u001b[31m1.0 MB/s\u001b[0m eta \u001b[36m0:00:01\u001b[0m\r\u001b[2K     \u001b[91m━━━━━━━━━━━━━━━━━━━━━━━━━━━━\u001b[0m\u001b[91m╸\u001b[0m\u001b[90m━━━━━━━━━━━\u001b[0m \u001b[32m604.2/847.8 kB\u001b[0m \u001b[31m8.5 MB/s\u001b[0m eta \u001b[36m0:00:01\u001b[0m\r\u001b[2K     \u001b[90m━━━━━━━━━━━━━━━━━━━━━━━━━━━━━━━━━━━━━━━━\u001b[0m \u001b[32m847.8/847.8 kB\u001b[0m \u001b[31m8.8 MB/s\u001b[0m eta \u001b[36m0:00:00\u001b[0m\n",
            "\u001b[?25hRequirement already satisfied: numpy>=1.21.0 in /usr/local/lib/python3.10/dist-packages (from pettingzoo) (1.25.2)\n",
            "\u001b[33mWARNING: Retrying (Retry(total=4, connect=None, read=None, redirect=None, status=None)) after connection broken by 'ProtocolError('Connection aborted.', RemoteDisconnected('Remote end closed connection without response'))': /simple/gymnasium/\u001b[0m\u001b[33m\n",
            "\u001b[0mCollecting gymnasium>=0.28.0 (from pettingzoo)\n",
            "  Downloading gymnasium-0.29.1-py3-none-any.whl (953 kB)\n",
            "\u001b[2K     \u001b[90m━━━━━━━━━━━━━━━━━━━━━━━━━━━━━━━━━━━━━━━━\u001b[0m \u001b[32m953.9/953.9 kB\u001b[0m \u001b[31m22.3 MB/s\u001b[0m eta \u001b[36m0:00:00\u001b[0m\n",
            "\u001b[?25hRequirement already satisfied: cloudpickle>=1.2.0 in /usr/local/lib/python3.10/dist-packages (from gymnasium>=0.28.0->pettingzoo) (2.2.1)\n",
            "Requirement already satisfied: typing-extensions>=4.3.0 in /usr/local/lib/python3.10/dist-packages (from gymnasium>=0.28.0->pettingzoo) (4.10.0)\n",
            "Collecting farama-notifications>=0.0.1 (from gymnasium>=0.28.0->pettingzoo)\n",
            "  Downloading Farama_Notifications-0.0.4-py3-none-any.whl (2.5 kB)\n",
            "Installing collected packages: farama-notifications, gymnasium, pettingzoo\n",
            "Successfully installed farama-notifications-0.0.4 gymnasium-0.29.1 pettingzoo-1.24.3\n"
          ]
        }
      ]
    },
    {
      "cell_type": "code",
      "execution_count": 4,
      "metadata": {
        "id": "4GegEAtwOQIS"
      },
      "outputs": [],
      "source": [
        "from pettingzoo import AECEnv\n",
        "from pettingzoo.utils import agent_selector\n",
        "from gym import spaces\n",
        "import numpy as np\n",
        "\n",
        "class ForagingEnv(AECEnv):\n",
        "    metadata = {'render.modes': ['human']}\n",
        "\n",
        "    def __init__(self):\n",
        "        super().__init__()\n",
        "        self.grid_size = 3\n",
        "        self.n_agents = 2\n",
        "        self.agents = [\"agent_\" + str(i) for i in range(self.n_agents)]\n",
        "        self.agent_selector = agent_selector(self.agents)\n",
        "        self.action_spaces = {agent: spaces.Discrete(6) for agent in self.agents}  # Add one for \"communicate\" action\n",
        "        self.observation_spaces = {agent: spaces.Dict({\n",
        "            \"grid\": spaces.Box(low=0, high=2, shape=(self.grid_size, self.grid_size, 3), dtype=np.float32),\n",
        "            \"state\": spaces.Dict({\n",
        "                \"position\": spaces.MultiDiscrete([self.grid_size, self.grid_size]),\n",
        "                \"water_timer\": spaces.Discrete(3),  # Timesteps until death without water\n",
        "                \"food_timer\": spaces.Discrete(7),  # Timesteps until death without food\n",
        "                \"beliefs\": spaces.Dict({\n",
        "                    \"water_replenish_rate\": spaces.Discrete(10),  # Example max rate\n",
        "                    \"food_replenish_rate\": spaces.Discrete(10),\n",
        "                })\n",
        "            })\n",
        "        }) for agent in self.agents}\n",
        "\n",
        "        self.grid = np.zeros((self.grid_size, self.grid_size, 3), dtype=np.float32)  # Third dimension for agent presence, water, food\n",
        "        self.resource_counters = {\"water\": [np.inf, 0], \"food\": [np.inf, 0]}  # [acquisitions left, replenishment timer]\n",
        "        self.agent_states = {agent: {\"position\": None, \"water_timer\": 3, \"food_timer\": 7, \"beliefs\": {\"water_replenish_rate\": np.inf, \"food_replenish_rate\": np.inf}} for agent in self.agents}\n",
        "        self.current_agent = None\n",
        "\n",
        "    def reset(self):\n",
        "        self.agent_selector.reinit(self.agents)\n",
        "        self.current_agent = self.agent_selector.next()\n",
        "        self.grid *= 0  # Clear the grid\n",
        "\n",
        "        # Randomly place water and food, initialize resource counters\n",
        "        water_position = np.random.choice(self.grid_size**2)\n",
        "        food_position = np.random.choice(self.grid_size**2)\n",
        "        while food_position == water_position:\n",
        "            food_position = np.random.choice(self.grid_size**2)\n",
        "\n",
        "        self.grid[water_position // self.grid_size, water_position % self.grid_size, 1] = 1\n",
        "        self.grid[food_position // self.grid_size, food_position % self.grid_size, 2] = 1\n",
        "        self.resource_counters[\"water\"] = [np.random.randint(1, 5), np.random.randint(5, 15)]  # Random example values\n",
        "        self.resource_counters[\"food\"] = [np.random.randint(1, 5), np.random.randint(5, 15)]\n",
        "\n",
        "        # Set initial positions for agents and reset their states\n",
        "        for i, agent in enumerate(self.agents):\n",
        "            while True:\n",
        "                pos = np.random.choice(self.grid_size**2)\n",
        "                if self.grid[pos // self.grid_size, pos % self.grid_size].sum() == 0:  # Ensure the position is empty\n",
        "                    self.grid[pos // self.grid_size, pos % self.grid_size, 0] = i + 1  # Mark agent's presence\n",
        "                    self.agent_states[agent][\"position\"] = (pos // self.grid_size, pos % self.grid_size)\n",
        "                    self.agent_states[agent][\"water_timer\"] = 3\n",
        "                    self.agent_states[agent][\"food_timer\"] = 7\n",
        "                    break\n",
        "\n",
        "    def step(self, action):\n",
        "        # Update the environment state based on the agent's action\n",
        "        # Handle movement, consumption, communication, and update timers and beliefs\n",
        "        pass\n",
        "\n",
        "    def observe(self, agent):\n",
        "        # Return agent-specific observations including both grid and their internal state\n",
        "        observation = self.grid.copy()\n",
        "        agent_state = self.agent_states[agent]\n",
        "        return {\"grid\": observation, \"state\": agent_state}\n",
        "\n",
        "    def render(self, mode=\"human\"):\n",
        "        # Visualize the current state of the environment, including agent positions, resources, and timers\n",
        "        pass\n",
        "\n"
      ]
    },
    {
      "cell_type": "code",
      "source": [
        "# Usage\n",
        "env = ForagingEnv()\n",
        "env.reset()\n",
        "print(env.observe(env.agents[0]))"
      ],
      "metadata": {
        "colab": {
          "base_uri": "https://localhost:8080/"
        },
        "id": "qtu3P44gOlc3",
        "outputId": "bb2d120f-6609-448b-b54d-d19fc7c725dd"
      },
      "execution_count": 5,
      "outputs": [
        {
          "output_type": "stream",
          "name": "stdout",
          "text": [
            "{'grid': array([[[1., 0., 0.],\n",
            "        [0., 1., 0.],\n",
            "        [2., 0., 0.]],\n",
            "\n",
            "       [[0., 0., 0.],\n",
            "        [0., 0., 0.],\n",
            "        [0., 0., 0.]],\n",
            "\n",
            "       [[0., 0., 0.],\n",
            "        [0., 0., 0.],\n",
            "        [0., 0., 1.]]], dtype=float32), 'state': {'position': (0, 0), 'water_timer': 3, 'food_timer': 7, 'beliefs': {'water_replenish_rate': inf, 'food_replenish_rate': inf}}}\n"
          ]
        }
      ]
    },
    {
      "cell_type": "code",
      "source": [],
      "metadata": {
        "id": "hKabS05hgnKu"
      },
      "execution_count": null,
      "outputs": []
    }
  ]
}